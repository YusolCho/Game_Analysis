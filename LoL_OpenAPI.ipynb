{
  "cells": [
    {
      "cell_type": "markdown",
      "metadata": {
        "id": "view-in-github",
        "colab_type": "text"
      },
      "source": [
        "<a href=\"https://colab.research.google.com/github/YusolCho/Game_Analysis/blob/main/LoL_OpenAPI.ipynb\" target=\"_parent\"><img src=\"https://colab.research.google.com/assets/colab-badge.svg\" alt=\"Open In Colab\"/></a>"
      ]
    },
    {
      "cell_type": "code",
      "execution_count": null,
      "metadata": {
        "id": "3zlMEgk9pX-Y"
      },
      "outputs": [],
      "source": [
        "import requests\n",
        "import json\n",
        "import pandas as pd\n",
        "import numpy as np"
      ]
    },
    {
      "cell_type": "markdown",
      "source": [
        "# 블로그 내용 따라해보기 "
      ],
      "metadata": {
        "id": "uPxomyNbWJDy"
      }
    },
    {
      "cell_type": "markdown",
      "metadata": {
        "id": "ojD8dULBCO5V"
      },
      "source": [
        "## 1. 소환사 닉네임을 통해서 소환사 고유 id 수집"
      ]
    },
    {
      "cell_type": "code",
      "execution_count": null,
      "metadata": {
        "colab": {
          "base_uri": "https://localhost:8080/",
          "height": 36
        },
        "id": "mlhjS2a0MMzy",
        "outputId": "3ebfc096-915a-4a0a-8d09-5fe100df07c6"
      },
      "outputs": [
        {
          "data": {
            "application/vnd.google.colaboratory.intrinsic+json": {
              "type": "string"
            },
            "text/plain": [
              "'lgExIhAfk5O0-ZF3jWPHokAjZelS5A3kzVfbAEXfN08Cgg'"
            ]
          },
          "execution_count": 2,
          "metadata": {},
          "output_type": "execute_result"
        }
      ],
      "source": [
        "api_key = 'RGAPI-482c5540-928d-4608-84ff-ae991acb7eda'\n",
        "sohwan = \"https://kr.api.riotgames.com/lol/summoner/v4/summoners/by-name/\" +'hide on bush' +'?api_key=' + api_key  # hide on bush 는 페이커선수의 닉네임\n",
        "r = requests.get(sohwan)\n",
        "r.json()['id'] #소환사의 고유 id -> 자꾸 오류뜸.. \n"
      ]
    },
    {
      "cell_type": "code",
      "execution_count": null,
      "metadata": {
        "colab": {
          "base_uri": "https://localhost:8080/"
        },
        "id": "MhTh7vYXB7Yv",
        "outputId": "01e7255c-430c-4532-af49-240ca144e990"
      },
      "outputs": [
        {
          "data": {
            "text/plain": [
              "requests.models.Response"
            ]
          },
          "execution_count": 4,
          "metadata": {},
          "output_type": "execute_result"
        }
      ],
      "source": [
        "type(r)"
      ]
    },
    {
      "cell_type": "markdown",
      "metadata": {
        "id": "A3KOb3IYCZd0"
      },
      "source": [
        "## 2. 소환사 고유 id를 통해서 소환사 랭크정보 수집"
      ]
    },
    {
      "cell_type": "code",
      "execution_count": null,
      "metadata": {
        "colab": {
          "base_uri": "https://localhost:8080/"
        },
        "id": "jRnV_brrCoBV",
        "outputId": "c9c92fe7-3155-40f5-fb40-630b6c458a65"
      },
      "outputs": [
        {
          "data": {
            "text/plain": [
              "[{'leagueId': '446781dd-2147-3d8a-be18-f9a4f27e87bd',\n",
              "  'queueType': 'RANKED_SOLO_5x5',\n",
              "  'tier': 'GRANDMASTER',\n",
              "  'rank': 'I',\n",
              "  'summonerId': 'lgExIhAfk5O0-ZF3jWPHokAjZelS5A3kzVfbAEXfN08Cgg',\n",
              "  'summonerName': 'Hide on bush',\n",
              "  'leaguePoints': 577,\n",
              "  'wins': 154,\n",
              "  'losses': 139,\n",
              "  'veteran': False,\n",
              "  'inactive': False,\n",
              "  'freshBlood': True,\n",
              "  'hotStreak': False}]"
            ]
          },
          "execution_count": 3,
          "metadata": {},
          "output_type": "execute_result"
        }
      ],
      "source": [
        "# 페이커 선수의 고유 id 사용해서 랭크정보 수집\n",
        "tier_url = \"https://kr.api.riotgames.com/lol/league/v4/entries/by-summoner/\" + r.json()['id'] +'?api_key=' + api_key\n",
        "r2  = requests.get(tier_url)\n",
        "r2.json() "
      ]
    },
    {
      "cell_type": "markdown",
      "metadata": {
        "id": "zNa43XjqCoKt"
      },
      "source": [
        "## 3. 원하는 리그의 소환사 데이터 수집 \n",
        "* 가장 중요한 경기 기록 데이터를 수집해보도록 한다. "
      ]
    },
    {
      "cell_type": "code",
      "execution_count": null,
      "metadata": {
        "colab": {
          "base_uri": "https://localhost:8080/"
        },
        "id": "Uw7yZIazQgJL",
        "outputId": "3a10a17b-0ed3-40c5-e67a-131c7485ceac"
      },
      "outputs": [
        {
          "name": "stdout",
          "output_type": "stream",
          "text": [
            "<class 'pandas.core.frame.DataFrame'>\n",
            "RangeIndex: 700 entries, 0 to 699\n",
            "Data columns (total 10 columns):\n",
            " #   Column        Non-Null Count  Dtype \n",
            "---  ------        --------------  ----- \n",
            " 0   tier          700 non-null    object\n",
            " 1   summonerId    700 non-null    object\n",
            " 2   summonerName  700 non-null    object\n",
            " 3   leaguePoints  700 non-null    object\n",
            " 4   wins          700 non-null    object\n",
            " 5   losses        700 non-null    object\n",
            " 6   veteran       700 non-null    object\n",
            " 7   inactive      700 non-null    object\n",
            " 8   freshBlood    700 non-null    object\n",
            " 9   hotStreak     700 non-null    object\n",
            "dtypes: object(10)\n",
            "memory usage: 54.8+ KB\n"
          ]
        }
      ],
      "source": [
        "#그랜드 마스터 랭크의 소환사 데이터 수집 \n",
        "grandmaster = 'https://kr.api.riotgames.com/lol/league/v4/grandmasterleagues/by-queue/RANKED_SOLO_5x5?api_key=' + api_key\n",
        "r = requests.get(grandmaster)#그마데이터 호출\n",
        "league_df = pd.DataFrame(r.json())\n",
        "\n",
        "league_df.reset_index(inplace=True)#수집한 그마데이터 index정리\n",
        "league_entries_df = pd.DataFrame(dict(league_df['entries'])).T #dict구조로 되어 있는 entries컬럼 풀어주기\n",
        "league_df = pd.concat([league_df, league_entries_df], axis=1) #열끼리 결합\n",
        "\n",
        "league_df = league_df.drop(['index', 'queue', 'name', 'leagueId', 'entries', 'rank'], axis=1)\n",
        "league_df.info()\n",
        "league_df.to_csv('그마데이터.csv',index=False,encoding = 'cp949')#중간저장"
      ]
    },
    {
      "cell_type": "markdown",
      "metadata": {
        "id": "EucVhcBHmgkP"
      },
      "source": [
        "## 4. 소환사 고유 닉네임을 이용해 유저별 고유 AccountId 수집\n",
        "* 이 부분은 Summoner API에서 summonername을 사용하던 summonerId를 사용하던 노상관\n",
        "* (유저의 accountId만 있으면 되기 때문)\n",
        "* 이렇게 불러온 소환사 닉네임을 통해서 Step1과 Step2를 숙지한 것처럼 그랜드마스터랭크의 소환사 고유 id(accountId)를 수집합니다."
      ]
    },
    {
      "cell_type": "code",
      "execution_count": null,
      "metadata": {
        "id": "sWS6_3ffoGjh"
      },
      "outputs": [],
      "source": [
        "for i in range(len(league_df)):\n",
        "    try:\n",
        "        sohwan = 'https://kr.api.riotgames.com/lol/summoner/v4/summoners/by-name/' + league_df['summonerName'].iloc[i] + '?api_key=' + api_key \n",
        "        r = requests.get(sohwan)\n",
        "        \n",
        "        while r.status_code == 429:\n",
        "            time.sleep(5)\n",
        "            sohwan = 'https://kr.api.riotgames.com/lol/summoner/v4/summoners/by-name/' + league_df['summonerName'].iloc[i] + '?api_key=' + api_key \n",
        "            r = requests.get(sohwan)\n",
        "            \n",
        "        account_id = r.json()['accountId']\n",
        "        league_df.iloc[i, -1] = account_id\n",
        "    \n",
        "    except:\n",
        "        pass"
      ]
    },
    {
      "cell_type": "markdown",
      "metadata": {
        "id": "nTTzBCXWm5Dj"
      },
      "source": [
        "## 5. 매치 데이터 수집 \n",
        "* 시간 오래걸림 -> 라이엇측에서 개발자 api이용량의 한계를 걸어놈 -> 지속적으로 수집이 불가능 \n",
        "* 따라서 time모듈을 활용하여 수집 OR 끊어서 수집\n",
        "* 경기기록 데이터(매치 데이터) 위치 :  MATCH탭의 1번째 API\n",
        "* 선행프로세스가 존재합니다. \n",
        "\n",
        " "
      ]
    },
    {
      "cell_type": "markdown",
      "metadata": {
        "id": "Dy0NJSAam8DQ"
      },
      "source": [
        "1. matchid를 얻기 : get api를 사용해야\n",
        "2. api 얻딕 : 직전에 수집한 accountid를 이용\n",
        "* API가 필요한 토큰 중 encryptedAccountId 부분에 4단계에서 수집한 accountId가 넣기"
      ]
    },
    {
      "cell_type": "code",
      "execution_count": null,
      "metadata": {
        "id": "-ksURONwtpgJ"
      },
      "outputs": [],
      "source": [
        "#13시즌의 데이터만을 이용할 것이며 league_df3 => 기존에 수집한 account_id가 있는 league_df\n",
        "match_info_df = pd.DataFrame()\n",
        "season = str(13)\n",
        "for i in range(len(league_df3)):\n",
        "    try:\n",
        "        match0 = 'https://kr.api.riotgames.com/lol/match/v4/matchlists/by-account/' + league_df3['account_id'].iloc[i]  +'?season=' + season + '&api_key=' + api_key\n",
        "        r = requests.get(match0)\n",
        "        \n",
        "        while r.status_code == 429:\n",
        "            time.sleep(5)\n",
        "            match0 = 'https://kr.api.riotgames.com/lol/match/v4/matchlists/by-account/' + league_df3['account_id'].iloc[i]  +'?season=' + season + '&api_key=' + api_key\n",
        "            r = requests.get(match0)\n",
        "            \n",
        "        match_info_df = pd.concat([match_info_df, pd.DataFrame(r.json()['matches'])])\n",
        "    \n",
        "    except:\n",
        "        print(i)"
      ]
    },
    {
      "cell_type": "markdown",
      "source": [
        "# 직접 데이터 수집해보기 "
      ],
      "metadata": {
        "id": "oVrj2Zu0WPJU"
      }
    },
    {
      "cell_type": "code",
      "source": [
        "import requests\n",
        "import json\n",
        "import pandas as pd\n",
        "import numpy as np"
      ],
      "metadata": {
        "id": "bxAERUfxWQpw"
      },
      "execution_count": null,
      "outputs": []
    },
    {
      "cell_type": "code",
      "source": [
        "champion_data"
      ],
      "metadata": {
        "colab": {
          "base_uri": "https://localhost:8080/"
        },
        "id": "oWKb2NUVa6CT",
        "outputId": "570e3802-b462-4747-d828-15086b8ab14e"
      },
      "execution_count": null,
      "outputs": [
        {
          "output_type": "execute_result",
          "data": {
            "text/plain": [
              "{'freeChampionIds': [2,\n",
              "  14,\n",
              "  19,\n",
              "  33,\n",
              "  54,\n",
              "  58,\n",
              "  61,\n",
              "  96,\n",
              "  101,\n",
              "  117,\n",
              "  127,\n",
              "  142,\n",
              "  150,\n",
              "  221,\n",
              "  235,\n",
              "  421],\n",
              " 'freeChampionIdsForNewPlayers': [222, 254, 427, 82, 131, 147, 54, 17, 18, 37],\n",
              " 'maxNewPlayerLevel': 10}"
            ]
          },
          "metadata": {},
          "execution_count": 20
        }
      ]
    },
    {
      "cell_type": "code",
      "source": [
        "pip install riotwatcher "
      ],
      "metadata": {
        "colab": {
          "base_uri": "https://localhost:8080/"
        },
        "id": "RADWYNRpc1n7",
        "outputId": "743a3e0b-7be9-4729-a24d-88352e79b1ce"
      },
      "execution_count": null,
      "outputs": [
        {
          "output_type": "stream",
          "name": "stdout",
          "text": [
            "Looking in indexes: https://pypi.org/simple, https://us-python.pkg.dev/colab-wheels/public/simple/\n",
            "Collecting riotwatcher\n",
            "  Downloading riotwatcher-3.2.4-py3-none-any.whl (59 kB)\n",
            "\u001b[2K     \u001b[90m━━━━━━━━━━━━━━━━━━━━━━━━━━━━━━━━━━━━━━━━\u001b[0m \u001b[32m59.0/59.0 KB\u001b[0m \u001b[31m2.8 MB/s\u001b[0m eta \u001b[36m0:00:00\u001b[0m\n",
            "\u001b[?25hRequirement already satisfied: requests in /usr/local/lib/python3.9/dist-packages (from riotwatcher) (2.25.1)\n",
            "Requirement already satisfied: chardet<5,>=3.0.2 in /usr/local/lib/python3.9/dist-packages (from requests->riotwatcher) (4.0.0)\n",
            "Requirement already satisfied: urllib3<1.27,>=1.21.1 in /usr/local/lib/python3.9/dist-packages (from requests->riotwatcher) (1.26.15)\n",
            "Requirement already satisfied: idna<3,>=2.5 in /usr/local/lib/python3.9/dist-packages (from requests->riotwatcher) (2.10)\n",
            "Requirement already satisfied: certifi>=2017.4.17 in /usr/local/lib/python3.9/dist-packages (from requests->riotwatcher) (2022.12.7)\n",
            "Installing collected packages: riotwatcher\n",
            "Successfully installed riotwatcher-3.2.4\n"
          ]
        }
      ]
    },
    {
      "cell_type": "code",
      "source": [
        "from riotwatcher import LolWatcher, ApiError"
      ],
      "metadata": {
        "id": "QEYo8vTmf2Zb"
      },
      "execution_count": null,
      "outputs": []
    },
    {
      "cell_type": "code",
      "source": [
        "lol_watcher = LolWatcher('RGAPI-21a95d0f-29f5-47fa-8219-5b78ff79742c')\n",
        "my_region = 'kr'\n",
        "me = lol_watcher.summoner.by_name(my_region, 'hideonbush')\n",
        "print(me)"
      ],
      "metadata": {
        "colab": {
          "base_uri": "https://localhost:8080/"
        },
        "id": "wMLxlg3jf39B",
        "outputId": "19bdd4c8-b805-4d43-86bc-f59607e04f62"
      },
      "execution_count": null,
      "outputs": [
        {
          "output_type": "stream",
          "name": "stdout",
          "text": [
            "{'id': 'lgExIhAfk5O0-ZF3jWPHokAjZelS5A3kzVfbAEXfN08Cgg', 'accountId': 'GYHT6f-zfeLAtv_-L_cFybVMwD5Y-wpSA5SZuuMs-UYw', 'puuid': '-_40s7V-TI6iyZJzU0FgYVuDnLraPFgFcYMNOw4UFII9S4-3KRVJ4UhuEWcHtCm2hboHbDMNjUO7zQ', 'name': 'Hide on bush', 'profileIconId': 6, 'revisionDate': 1678909889623, 'summonerLevel': 644}\n"
          ]
        }
      ]
    },
    {
      "cell_type": "code",
      "source": [
        "print(current_champ_list_df)"
      ],
      "metadata": {
        "colab": {
          "base_uri": "https://localhost:8080/"
        },
        "id": "vmhHC8MY1PhR",
        "outputId": "1de7af43-27d5-4197-f94a-fd0b1da41e4c"
      },
      "execution_count": null,
      "outputs": [
        {
          "output_type": "stream",
          "name": "stdout",
          "text": [
            "             type             format version  \\\n",
            "Aatrox   champion  standAloneComplex  13.5.1   \n",
            "Ahri     champion  standAloneComplex  13.5.1   \n",
            "Akali    champion  standAloneComplex  13.5.1   \n",
            "Akshan   champion  standAloneComplex  13.5.1   \n",
            "Alistar  champion  standAloneComplex  13.5.1   \n",
            "...           ...                ...     ...   \n",
            "Zeri     champion  standAloneComplex  13.5.1   \n",
            "Ziggs    champion  standAloneComplex  13.5.1   \n",
            "Zilean   champion  standAloneComplex  13.5.1   \n",
            "Zoe      champion  standAloneComplex  13.5.1   \n",
            "Zyra     champion  standAloneComplex  13.5.1   \n",
            "\n",
            "                                                      data  \n",
            "Aatrox   {'version': '13.5.1', 'id': 'Aatrox', 'key': '...  \n",
            "Ahri     {'version': '13.5.1', 'id': 'Ahri', 'key': '10...  \n",
            "Akali    {'version': '13.5.1', 'id': 'Akali', 'key': '8...  \n",
            "Akshan   {'version': '13.5.1', 'id': 'Akshan', 'key': '...  \n",
            "Alistar  {'version': '13.5.1', 'id': 'Alistar', 'key': ...  \n",
            "...                                                    ...  \n",
            "Zeri     {'version': '13.5.1', 'id': 'Zeri', 'key': '22...  \n",
            "Ziggs    {'version': '13.5.1', 'id': 'Ziggs', 'key': '1...  \n",
            "Zilean   {'version': '13.5.1', 'id': 'Zilean', 'key': '...  \n",
            "Zoe      {'version': '13.5.1', 'id': 'Zoe', 'key': '142...  \n",
            "Zyra     {'version': '13.5.1', 'id': 'Zyra', 'key': '14...  \n",
            "\n",
            "[162 rows x 4 columns]\n"
          ]
        }
      ]
    },
    {
      "cell_type": "code",
      "source": [
        "champion_data"
      ],
      "metadata": {
        "colab": {
          "base_uri": "https://localhost:8080/"
        },
        "id": "9qwU79URw4h3",
        "outputId": "437abd87-f20b-4cc2-b151-21a07337a1c6"
      },
      "execution_count": null,
      "outputs": [
        {
          "output_type": "execute_result",
          "data": {
            "text/plain": [
              "{'status': {'message': 'Unauthorized', 'status_code': 401}}"
            ]
          },
          "metadata": {},
          "execution_count": 38
        }
      ]
    },
    {
      "cell_type": "markdown",
      "source": [
        "# 틀  "
      ],
      "metadata": {
        "id": "xQA9y2yijYzb"
      }
    },
    {
      "cell_type": "code",
      "source": [
        "#FRAME 1.\n",
        "import requests\n",
        "import pandas as pd\n",
        "\n",
        "api_key = 'RGAPI-f7b1583f-6a39-4310-8fdd-6c02d853616d'  # Replace with your own API key\n",
        "\n",
        "# Define the base URL for the API\n",
        "base_url = 'https://kr.api.riotgames.com'\n",
        "\n",
        "# Define the API endpoint for the data you want to collect\n",
        "# Example: match data endpoint\n",
        "match_endpoint = '/lol/match/v5/matches/by-puuid/{puuid}/ids?start={start}&count={count}'\n",
        "\n",
        "# Define a function to make API requests\n",
        "def request_data(url):\n",
        "    headers = {\n",
        "        'X-Riot-Token': api_key,\n",
        "    }\n",
        "    response = requests.get(url, headers=headers)\n",
        "    return response.json()\n"
      ],
      "metadata": {
        "id": "Lcd-DFC6ypd0"
      },
      "execution_count": null,
      "outputs": []
    },
    {
      "cell_type": "code",
      "source": [
        "request_data(base_url+match_endpoint)"
      ],
      "metadata": {
        "colab": {
          "base_uri": "https://localhost:8080/"
        },
        "id": "N-SE97-pzNd7",
        "outputId": "ebd0b766-2c49-431c-dd16-f4ac287ec8c6"
      },
      "execution_count": null,
      "outputs": [
        {
          "output_type": "execute_result",
          "data": {
            "text/plain": [
              "{'status': {'message': 'Bad request - Invalid routing value kr',\n",
              "  'status_code': 400}}"
            ]
          },
          "metadata": {},
          "execution_count": 41
        }
      ]
    },
    {
      "cell_type": "code",
      "source": [
        "#FRAME 2.\n",
        "# Define a function to process the collected data and convert to a pandas dataframe\n",
        "def process_data(data):\n",
        "    # Add code here to extract and process the data you need\n",
        "    # Example: extract match IDs from match data\n",
        "    match_ids = data['ids']\n",
        "    \n",
        "    # Add code here to collect additional data using the extracted IDs\n",
        "    # Example: collect match details for each match ID\n",
        "    match_data = []\n",
        "    for match_id in match_ids:\n",
        "        match_details = request_data(base_url + '/lol/match/v5/matches/' + match_id)\n",
        "        match_data.append(match_details)\n",
        "    \n",
        "    # Add code here to process the collected data and convert to a pandas dataframe\n",
        "    # Example: create dataframe of match details\n",
        "    matches = []\n",
        "    for match in match_data:\n",
        "        match_id = match['metadata']['matchId']\n",
        "        game_mode = match['info']['gameMode']\n",
        "        game_duration = match['info']['gameDuration']\n",
        "        # Add additional fields as needed\n",
        "        matches.append({'match_id': match_id, 'game_mode': game_mode, 'game_duration': game_duration})\n",
        "    match_df = pd.DataFrame(matches)\n",
        "    return match_df\n"
      ],
      "metadata": {
        "id": "w6fU_MjyzHEG"
      },
      "execution_count": null,
      "outputs": []
    },
    {
      "cell_type": "code",
      "source": [
        "#FRAME 3.\n",
        "# Example usage: collect match data for a specific player\n",
        "puuid = 'YOUR_PUUID_HERE'  # Replace with the player's PUUID\n",
        "start = 0  # Replace with the starting index for the data you want to collect\n",
        "count = 100  # Replace with the number of data points you want to collect\n",
        "\n",
        "# Make API request to collect match data\n",
        "match_url = base_url + match_endpoint.format(puuid=puuid, start=start, count=count)\n",
        "match_data = request_data(match_url)\n",
        "\n",
        "# Process the collected data and convert to a pandas dataframe\n",
        "match_df = process_data(match_data)\n",
        "\n",
        "# Print the resulting dataframe\n",
        "print(match_df.head())"
      ],
      "metadata": {
        "id": "ZmPmEZ60y3uE"
      },
      "execution_count": null,
      "outputs": []
    },
    {
      "cell_type": "markdown",
      "source": [
        "# LEAGUE-EXP-V4(티어별 소환사 정보 반환)"
      ],
      "metadata": {
        "id": "Evb0MrxAj_Uj"
      }
    },
    {
      "cell_type": "code",
      "source": [
        "import pandas as pd"
      ],
      "metadata": {
        "id": "Sh0B2z7RljaM"
      },
      "execution_count": 1,
      "outputs": []
    },
    {
      "cell_type": "code",
      "source": [
        "import requests\n",
        "import pprint\n",
        "\n",
        "pp = pprint.PrettyPrinter(indent=4)\n",
        "api_key = 'RGAPI-f7b1583f-6a39-4310-8fdd-6c02d853616d'\n",
        "request_header = {\n",
        "    \"User-Agent\": \"Mozilla/5.0 (Macintosh; Intel Mac OS X 10_15_7) AppleWebKit/537.36 (KHTML, like Gecko) Chrome/110.0.0.0 Safari/537.36\",\n",
        "    \"Accept-Language\": \"ko-KR,ko;q=0.9,en-US;q=0.8,en;q=0.7\",\n",
        "    \"Accept-Charset\": \"application/x-www-form-urlencoded; charset=UTF-8\",\n",
        "    \"Origin\": \"https://developer.riotgames.com\",\n",
        "    \"X-Riot-Token\": \"RGAPI-f7b1583f-6a39-4310-8fdd-6c02d853616d\"\n",
        "}\n",
        "\n",
        "def league_v4_queue_tier_division(queue, tier, division, page_number):\n",
        "    if division == 1 or tier in [\"CHALLENGER\", \"GRANDMASTER\", \"GOLD\"]:\n",
        "        division = 'I'\n",
        "    elif division == 2 :\n",
        "        division = 'II'\n",
        "    elif division == 3 :\n",
        "        division = 'III'\n",
        "    elif division == 4:\n",
        "        division = 'IV'\n",
        "    if queue == \"solo\" :\n",
        "        queue = \"RANKED_SOLO_5x5\"\n",
        "    elif queue == \"free\" :\n",
        "        queue = \"RANKED_FLEX_SR\"\n",
        "    url = f\"https://kr.api.riotgames.com/lol/league-exp/v4/entries/{queue}/{tier}/{division}?page={page_number}\"\n",
        "    return requests.get(url, headers=request_header).json()\n"
      ],
      "metadata": {
        "id": "8t3ZgsRYkGaC"
      },
      "execution_count": 2,
      "outputs": []
    },
    {
      "cell_type": "code",
      "source": [
        "(pd.DataFrame(league_v4_queue_tier_division('free','PLATINUM', 'I',3))).head(10)"
      ],
      "metadata": {
        "colab": {
          "base_uri": "https://localhost:8080/",
          "height": 852
        },
        "id": "HSGGa4GalbYX",
        "outputId": "508bb426-870d-4b6b-e493-8a9d675d9b2c"
      },
      "execution_count": 3,
      "outputs": [
        {
          "output_type": "execute_result",
          "data": {
            "text/plain": [
              "                               leagueId       queueType      tier rank  \\\n",
              "0  f260434b-72a3-45d0-846c-8464b278b01b  RANKED_FLEX_SR  PLATINUM    I   \n",
              "1  f072db37-cc38-45fb-a225-cb99f69a79d0  RANKED_FLEX_SR  PLATINUM    I   \n",
              "2  c17ad294-7daa-46a0-844b-553e18e5b7dd  RANKED_FLEX_SR  PLATINUM    I   \n",
              "3  bdcbfd41-dcaa-488d-8867-39b373718fba  RANKED_FLEX_SR  PLATINUM    I   \n",
              "4  64f9f9b7-012d-46d9-ab6e-2e530ed9b1e8  RANKED_FLEX_SR  PLATINUM    I   \n",
              "5  bd45e7c1-9aab-4fa0-9dd6-5813f3bcc028  RANKED_FLEX_SR  PLATINUM    I   \n",
              "6  3afb9d6a-708d-4f25-aaa2-91b946d6fbbb  RANKED_FLEX_SR  PLATINUM    I   \n",
              "7  1c61ffe5-5913-4e95-9853-4305263e634f  RANKED_FLEX_SR  PLATINUM    I   \n",
              "8  f8880a51-3a9e-452b-b719-19c6014d7279  RANKED_FLEX_SR  PLATINUM    I   \n",
              "9  716078f7-cdc7-4fd0-a1be-8f187b53dc3b  RANKED_FLEX_SR  PLATINUM    I   \n",
              "\n",
              "                                        summonerId summonerName  leaguePoints  \\\n",
              "0  H4myafiMgYRqKFy10pecahjZWJSQQ-d7GsiEbxHBAsPRndE      yamuzer             0   \n",
              "1  MHomhdDguGjx7ARABgJ961dCeZM6cjyEmZ65JWaViMHtaeE  SunDongLyul           100   \n",
              "2  xPsuD1taLugX-42O3BvbTQNmhj6P_81XT-F-1398RbDpdxE     내가바로조선걸레            12   \n",
              "3  vR8Wes9mnbYP_EC8JxB2eMPRVnjEixegV2XeIY0sImFCif0     착한짜장죽은짜장            10   \n",
              "4  hXeN9W2imC9QIr69TCNOqTM0hclL2OaW1dXcYiLY8P86Uco       탑갱절 대가            44   \n",
              "5  quUimzQIkh2O43fOdFzuy0AgirNLSfCOa3FzfyzQV7zTZGw        한국원딜러            18   \n",
              "6  61M5QeGm0_HmexsKDZlQc8uCAOcMFlT6JJ_A_gXGBF2_mF0          성 놈           100   \n",
              "7  sZ2tCS_5-OfkTZ5BOfHgGF1B50gg-Fv_Fazq3UrHeKOpSI4        장다혜내꺼            64   \n",
              "8  fTMI5HQyn3_DKSrKP4KiiJv2Gh6tPwhi0uJfsHUAB-ij54A     북극여우 귀여웡             8   \n",
              "9  -QpK9r0N5nLmS4a4IsJ-2qYY4XQSiGJ5RTyL6PZyVfDVDWc          막뚱이            19   \n",
              "\n",
              "   wins  losses  veteran  inactive  freshBlood  hotStreak  \\\n",
              "0    11       8    False     False       False      False   \n",
              "1    37      22    False     False       False      False   \n",
              "2    27      21    False     False       False       True   \n",
              "3    93      48    False     False       False      False   \n",
              "4    42      39    False     False       False      False   \n",
              "5    27      21    False     False       False      False   \n",
              "6    77      57    False     False       False      False   \n",
              "7     8       9    False     False       False      False   \n",
              "8    10       9    False     False       False      False   \n",
              "9    45      41    False     False       False      False   \n",
              "\n",
              "                                          miniSeries  \n",
              "0                                                NaN  \n",
              "1  {'target': 2, 'wins': 0, 'losses': 1, 'progres...  \n",
              "2                                                NaN  \n",
              "3                                                NaN  \n",
              "4                                                NaN  \n",
              "5                                                NaN  \n",
              "6  {'target': 2, 'wins': 1, 'losses': 1, 'progres...  \n",
              "7                                                NaN  \n",
              "8                                                NaN  \n",
              "9                                                NaN  "
            ],
            "text/html": [
              "\n",
              "  <div id=\"df-1cbbef61-ab92-40f4-b99c-3cadd28708e9\">\n",
              "    <div class=\"colab-df-container\">\n",
              "      <div>\n",
              "<style scoped>\n",
              "    .dataframe tbody tr th:only-of-type {\n",
              "        vertical-align: middle;\n",
              "    }\n",
              "\n",
              "    .dataframe tbody tr th {\n",
              "        vertical-align: top;\n",
              "    }\n",
              "\n",
              "    .dataframe thead th {\n",
              "        text-align: right;\n",
              "    }\n",
              "</style>\n",
              "<table border=\"1\" class=\"dataframe\">\n",
              "  <thead>\n",
              "    <tr style=\"text-align: right;\">\n",
              "      <th></th>\n",
              "      <th>leagueId</th>\n",
              "      <th>queueType</th>\n",
              "      <th>tier</th>\n",
              "      <th>rank</th>\n",
              "      <th>summonerId</th>\n",
              "      <th>summonerName</th>\n",
              "      <th>leaguePoints</th>\n",
              "      <th>wins</th>\n",
              "      <th>losses</th>\n",
              "      <th>veteran</th>\n",
              "      <th>inactive</th>\n",
              "      <th>freshBlood</th>\n",
              "      <th>hotStreak</th>\n",
              "      <th>miniSeries</th>\n",
              "    </tr>\n",
              "  </thead>\n",
              "  <tbody>\n",
              "    <tr>\n",
              "      <th>0</th>\n",
              "      <td>f260434b-72a3-45d0-846c-8464b278b01b</td>\n",
              "      <td>RANKED_FLEX_SR</td>\n",
              "      <td>PLATINUM</td>\n",
              "      <td>I</td>\n",
              "      <td>H4myafiMgYRqKFy10pecahjZWJSQQ-d7GsiEbxHBAsPRndE</td>\n",
              "      <td>yamuzer</td>\n",
              "      <td>0</td>\n",
              "      <td>11</td>\n",
              "      <td>8</td>\n",
              "      <td>False</td>\n",
              "      <td>False</td>\n",
              "      <td>False</td>\n",
              "      <td>False</td>\n",
              "      <td>NaN</td>\n",
              "    </tr>\n",
              "    <tr>\n",
              "      <th>1</th>\n",
              "      <td>f072db37-cc38-45fb-a225-cb99f69a79d0</td>\n",
              "      <td>RANKED_FLEX_SR</td>\n",
              "      <td>PLATINUM</td>\n",
              "      <td>I</td>\n",
              "      <td>MHomhdDguGjx7ARABgJ961dCeZM6cjyEmZ65JWaViMHtaeE</td>\n",
              "      <td>SunDongLyul</td>\n",
              "      <td>100</td>\n",
              "      <td>37</td>\n",
              "      <td>22</td>\n",
              "      <td>False</td>\n",
              "      <td>False</td>\n",
              "      <td>False</td>\n",
              "      <td>False</td>\n",
              "      <td>{'target': 2, 'wins': 0, 'losses': 1, 'progres...</td>\n",
              "    </tr>\n",
              "    <tr>\n",
              "      <th>2</th>\n",
              "      <td>c17ad294-7daa-46a0-844b-553e18e5b7dd</td>\n",
              "      <td>RANKED_FLEX_SR</td>\n",
              "      <td>PLATINUM</td>\n",
              "      <td>I</td>\n",
              "      <td>xPsuD1taLugX-42O3BvbTQNmhj6P_81XT-F-1398RbDpdxE</td>\n",
              "      <td>내가바로조선걸레</td>\n",
              "      <td>12</td>\n",
              "      <td>27</td>\n",
              "      <td>21</td>\n",
              "      <td>False</td>\n",
              "      <td>False</td>\n",
              "      <td>False</td>\n",
              "      <td>True</td>\n",
              "      <td>NaN</td>\n",
              "    </tr>\n",
              "    <tr>\n",
              "      <th>3</th>\n",
              "      <td>bdcbfd41-dcaa-488d-8867-39b373718fba</td>\n",
              "      <td>RANKED_FLEX_SR</td>\n",
              "      <td>PLATINUM</td>\n",
              "      <td>I</td>\n",
              "      <td>vR8Wes9mnbYP_EC8JxB2eMPRVnjEixegV2XeIY0sImFCif0</td>\n",
              "      <td>착한짜장죽은짜장</td>\n",
              "      <td>10</td>\n",
              "      <td>93</td>\n",
              "      <td>48</td>\n",
              "      <td>False</td>\n",
              "      <td>False</td>\n",
              "      <td>False</td>\n",
              "      <td>False</td>\n",
              "      <td>NaN</td>\n",
              "    </tr>\n",
              "    <tr>\n",
              "      <th>4</th>\n",
              "      <td>64f9f9b7-012d-46d9-ab6e-2e530ed9b1e8</td>\n",
              "      <td>RANKED_FLEX_SR</td>\n",
              "      <td>PLATINUM</td>\n",
              "      <td>I</td>\n",
              "      <td>hXeN9W2imC9QIr69TCNOqTM0hclL2OaW1dXcYiLY8P86Uco</td>\n",
              "      <td>탑갱절 대가</td>\n",
              "      <td>44</td>\n",
              "      <td>42</td>\n",
              "      <td>39</td>\n",
              "      <td>False</td>\n",
              "      <td>False</td>\n",
              "      <td>False</td>\n",
              "      <td>False</td>\n",
              "      <td>NaN</td>\n",
              "    </tr>\n",
              "    <tr>\n",
              "      <th>5</th>\n",
              "      <td>bd45e7c1-9aab-4fa0-9dd6-5813f3bcc028</td>\n",
              "      <td>RANKED_FLEX_SR</td>\n",
              "      <td>PLATINUM</td>\n",
              "      <td>I</td>\n",
              "      <td>quUimzQIkh2O43fOdFzuy0AgirNLSfCOa3FzfyzQV7zTZGw</td>\n",
              "      <td>한국원딜러</td>\n",
              "      <td>18</td>\n",
              "      <td>27</td>\n",
              "      <td>21</td>\n",
              "      <td>False</td>\n",
              "      <td>False</td>\n",
              "      <td>False</td>\n",
              "      <td>False</td>\n",
              "      <td>NaN</td>\n",
              "    </tr>\n",
              "    <tr>\n",
              "      <th>6</th>\n",
              "      <td>3afb9d6a-708d-4f25-aaa2-91b946d6fbbb</td>\n",
              "      <td>RANKED_FLEX_SR</td>\n",
              "      <td>PLATINUM</td>\n",
              "      <td>I</td>\n",
              "      <td>61M5QeGm0_HmexsKDZlQc8uCAOcMFlT6JJ_A_gXGBF2_mF0</td>\n",
              "      <td>성 놈</td>\n",
              "      <td>100</td>\n",
              "      <td>77</td>\n",
              "      <td>57</td>\n",
              "      <td>False</td>\n",
              "      <td>False</td>\n",
              "      <td>False</td>\n",
              "      <td>False</td>\n",
              "      <td>{'target': 2, 'wins': 1, 'losses': 1, 'progres...</td>\n",
              "    </tr>\n",
              "    <tr>\n",
              "      <th>7</th>\n",
              "      <td>1c61ffe5-5913-4e95-9853-4305263e634f</td>\n",
              "      <td>RANKED_FLEX_SR</td>\n",
              "      <td>PLATINUM</td>\n",
              "      <td>I</td>\n",
              "      <td>sZ2tCS_5-OfkTZ5BOfHgGF1B50gg-Fv_Fazq3UrHeKOpSI4</td>\n",
              "      <td>장다혜내꺼</td>\n",
              "      <td>64</td>\n",
              "      <td>8</td>\n",
              "      <td>9</td>\n",
              "      <td>False</td>\n",
              "      <td>False</td>\n",
              "      <td>False</td>\n",
              "      <td>False</td>\n",
              "      <td>NaN</td>\n",
              "    </tr>\n",
              "    <tr>\n",
              "      <th>8</th>\n",
              "      <td>f8880a51-3a9e-452b-b719-19c6014d7279</td>\n",
              "      <td>RANKED_FLEX_SR</td>\n",
              "      <td>PLATINUM</td>\n",
              "      <td>I</td>\n",
              "      <td>fTMI5HQyn3_DKSrKP4KiiJv2Gh6tPwhi0uJfsHUAB-ij54A</td>\n",
              "      <td>북극여우 귀여웡</td>\n",
              "      <td>8</td>\n",
              "      <td>10</td>\n",
              "      <td>9</td>\n",
              "      <td>False</td>\n",
              "      <td>False</td>\n",
              "      <td>False</td>\n",
              "      <td>False</td>\n",
              "      <td>NaN</td>\n",
              "    </tr>\n",
              "    <tr>\n",
              "      <th>9</th>\n",
              "      <td>716078f7-cdc7-4fd0-a1be-8f187b53dc3b</td>\n",
              "      <td>RANKED_FLEX_SR</td>\n",
              "      <td>PLATINUM</td>\n",
              "      <td>I</td>\n",
              "      <td>-QpK9r0N5nLmS4a4IsJ-2qYY4XQSiGJ5RTyL6PZyVfDVDWc</td>\n",
              "      <td>막뚱이</td>\n",
              "      <td>19</td>\n",
              "      <td>45</td>\n",
              "      <td>41</td>\n",
              "      <td>False</td>\n",
              "      <td>False</td>\n",
              "      <td>False</td>\n",
              "      <td>False</td>\n",
              "      <td>NaN</td>\n",
              "    </tr>\n",
              "  </tbody>\n",
              "</table>\n",
              "</div>\n",
              "      <button class=\"colab-df-convert\" onclick=\"convertToInteractive('df-1cbbef61-ab92-40f4-b99c-3cadd28708e9')\"\n",
              "              title=\"Convert this dataframe to an interactive table.\"\n",
              "              style=\"display:none;\">\n",
              "        \n",
              "  <svg xmlns=\"http://www.w3.org/2000/svg\" height=\"24px\"viewBox=\"0 0 24 24\"\n",
              "       width=\"24px\">\n",
              "    <path d=\"M0 0h24v24H0V0z\" fill=\"none\"/>\n",
              "    <path d=\"M18.56 5.44l.94 2.06.94-2.06 2.06-.94-2.06-.94-.94-2.06-.94 2.06-2.06.94zm-11 1L8.5 8.5l.94-2.06 2.06-.94-2.06-.94L8.5 2.5l-.94 2.06-2.06.94zm10 10l.94 2.06.94-2.06 2.06-.94-2.06-.94-.94-2.06-.94 2.06-2.06.94z\"/><path d=\"M17.41 7.96l-1.37-1.37c-.4-.4-.92-.59-1.43-.59-.52 0-1.04.2-1.43.59L10.3 9.45l-7.72 7.72c-.78.78-.78 2.05 0 2.83L4 21.41c.39.39.9.59 1.41.59.51 0 1.02-.2 1.41-.59l7.78-7.78 2.81-2.81c.8-.78.8-2.07 0-2.86zM5.41 20L4 18.59l7.72-7.72 1.47 1.35L5.41 20z\"/>\n",
              "  </svg>\n",
              "      </button>\n",
              "      \n",
              "  <style>\n",
              "    .colab-df-container {\n",
              "      display:flex;\n",
              "      flex-wrap:wrap;\n",
              "      gap: 12px;\n",
              "    }\n",
              "\n",
              "    .colab-df-convert {\n",
              "      background-color: #E8F0FE;\n",
              "      border: none;\n",
              "      border-radius: 50%;\n",
              "      cursor: pointer;\n",
              "      display: none;\n",
              "      fill: #1967D2;\n",
              "      height: 32px;\n",
              "      padding: 0 0 0 0;\n",
              "      width: 32px;\n",
              "    }\n",
              "\n",
              "    .colab-df-convert:hover {\n",
              "      background-color: #E2EBFA;\n",
              "      box-shadow: 0px 1px 2px rgba(60, 64, 67, 0.3), 0px 1px 3px 1px rgba(60, 64, 67, 0.15);\n",
              "      fill: #174EA6;\n",
              "    }\n",
              "\n",
              "    [theme=dark] .colab-df-convert {\n",
              "      background-color: #3B4455;\n",
              "      fill: #D2E3FC;\n",
              "    }\n",
              "\n",
              "    [theme=dark] .colab-df-convert:hover {\n",
              "      background-color: #434B5C;\n",
              "      box-shadow: 0px 1px 3px 1px rgba(0, 0, 0, 0.15);\n",
              "      filter: drop-shadow(0px 1px 2px rgba(0, 0, 0, 0.3));\n",
              "      fill: #FFFFFF;\n",
              "    }\n",
              "  </style>\n",
              "\n",
              "      <script>\n",
              "        const buttonEl =\n",
              "          document.querySelector('#df-1cbbef61-ab92-40f4-b99c-3cadd28708e9 button.colab-df-convert');\n",
              "        buttonEl.style.display =\n",
              "          google.colab.kernel.accessAllowed ? 'block' : 'none';\n",
              "\n",
              "        async function convertToInteractive(key) {\n",
              "          const element = document.querySelector('#df-1cbbef61-ab92-40f4-b99c-3cadd28708e9');\n",
              "          const dataTable =\n",
              "            await google.colab.kernel.invokeFunction('convertToInteractive',\n",
              "                                                     [key], {});\n",
              "          if (!dataTable) return;\n",
              "\n",
              "          const docLinkHtml = 'Like what you see? Visit the ' +\n",
              "            '<a target=\"_blank\" href=https://colab.research.google.com/notebooks/data_table.ipynb>data table notebook</a>'\n",
              "            + ' to learn more about interactive tables.';\n",
              "          element.innerHTML = '';\n",
              "          dataTable['output_type'] = 'display_data';\n",
              "          await google.colab.output.renderOutput(dataTable, element);\n",
              "          const docLink = document.createElement('div');\n",
              "          docLink.innerHTML = docLinkHtml;\n",
              "          element.appendChild(docLink);\n",
              "        }\n",
              "      </script>\n",
              "    </div>\n",
              "  </div>\n",
              "  "
            ]
          },
          "metadata": {},
          "execution_count": 3
        }
      ]
    },
    {
      "cell_type": "code",
      "source": [
        "summonerName_1 = '성 놈'\n",
        "summonerName_2 = 'SunDongLyul'\n",
        "summonerName_3 = '탑갱절 대가'\n",
        "summonerName_4 = '착한짜장죽은짜장'\n",
        "summonerName_5 = '한국원딜러'\n"
      ],
      "metadata": {
        "id": "ztlHG7pAIq5Q"
      },
      "execution_count": 4,
      "outputs": []
    },
    {
      "cell_type": "markdown",
      "source": [
        "# Summoner-v4(유저 정보 반환) "
      ],
      "metadata": {
        "id": "RHJe_uMYlx6o"
      }
    },
    {
      "cell_type": "code",
      "source": [
        "import requests\n",
        "import pprint\n",
        "\n",
        "pp = pprint.PrettyPrinter(indent=4)\n",
        "api_key = 'RGAPI-f7b1583f-6a39-4310-8fdd-6c02d853616d'\n",
        "request_header = {\n",
        "    \"User-Agent\": \"Mozilla/5.0 (Macintosh; Intel Mac OS X 10_15_7) AppleWebKit/537.36 (KHTML, like Gecko) Chrome/110.0.0.0 Safari/537.36\",\n",
        "    \"Accept-Language\": \"ko-KR,ko;q=0.9,en-US;q=0.8,en;q=0.7\",\n",
        "    \"Accept-Charset\": \"application/x-www-form-urlencoded; charset=UTF-8\",\n",
        "    \"Origin\": \"https://developer.riotgames.com\",\n",
        "    \"X-Riot-Token\": \"RGAPI-f7b1583f-6a39-4310-8fdd-6c02d853616d\"\n",
        "}\n",
        "\n",
        "def summoner_v4_by_summoner_name(summonerName):\n",
        "    encodingSummonerName = summonerName\n",
        "    url = f\"https://kr.api.riotgames.com/lol/summoner/v4/summoners/by-name/{encodingSummonerName}\"\n",
        "    return requests.get(url, headers=request_header).json()\n",
        "\n",
        "print(summoner_v4_by_summoner_name(summonerName_1)) # 결과의 'id'부분이 encryptedSummonerId에 해당됨\n",
        "print(summoner_v4_by_summoner_name(summonerName_2))\n",
        "print(summoner_v4_by_summoner_name(summonerName_3))\n",
        "print(summoner_v4_by_summoner_name(summonerName_4))\n",
        "print(summoner_v4_by_summoner_name(summonerName_5))"
      ],
      "metadata": {
        "colab": {
          "base_uri": "https://localhost:8080/"
        },
        "id": "mnCobxlinV7c",
        "outputId": "967c841a-3eb3-43a1-b0c7-e4f05666fdf3"
      },
      "execution_count": 5,
      "outputs": [
        {
          "output_type": "stream",
          "name": "stdout",
          "text": [
            "{'id': '61M5QeGm0_HmexsKDZlQc8uCAOcMFlT6JJ_A_gXGBF2_mF0', 'accountId': '5Dztuv3RseKeRwrZDhGhzq8MCzJZSLdwrP-SNE65vNhG', 'puuid': 'RlJhFX2qFd31ZqywPxaw0zeTMA0Srx5PnYiubV6O0qMuCdrEzOfGSOHzwiyJwzIulFREeoV55E3wVg', 'name': '성 놈', 'profileIconId': 4690, 'revisionDate': 1678939911997, 'summonerLevel': 367}\n",
            "{'id': 'MHomhdDguGjx7ARABgJ961dCeZM6cjyEmZ65JWaViMHtaeE', 'accountId': '1wPHXr3Mn5ttMBo71-0ZOTJVmqniSOcDvohFmqf8dP7Z', 'puuid': 'iJZGCFsmEfz6bllQz2fOK7VstYpJDcUjyHi38Igb7DVUkD1EFejPYU8tUYlnBA_4vIuIqwSZvwNu3g', 'name': 'SunDongLyul', 'profileIconId': 582, 'revisionDate': 1677950144000, 'summonerLevel': 222}\n",
            "{'id': 'hXeN9W2imC9QIr69TCNOqTM0hclL2OaW1dXcYiLY8P86Uco', 'accountId': 'MfSAcRpLKvsclhdBdK39o4Vtu7rchCmS6asresXfFR9s', 'puuid': 'aVxn31341sAq_IWhDhLTdq3uAuM1WSw9Hky_69HiPLum3XYM0_2LIXbdKmO4rFnD7MGlz_IHQXaKrw', 'name': '탑갱절 대가', 'profileIconId': 588, 'revisionDate': 1678709414000, 'summonerLevel': 330}\n",
            "{'id': 'vR8Wes9mnbYP_EC8JxB2eMPRVnjEixegV2XeIY0sImFCif0', 'accountId': 'ZNMWxl5v1JMLLJfNAajUNa1_wHNyiw3rDOklZOS2SsHO', 'puuid': 'b5_X9o8-jj8Vb_LsBFg-SX8w7SIDOKjBXgzbk_6Uaby2AW5iiBSoIsZGM90vV7vd_zFX_ViYEvMFKw', 'name': '착한짜장죽은짜장', 'profileIconId': 4246, 'revisionDate': 1677680195000, 'summonerLevel': 171}\n",
            "{'id': 'quUimzQIkh2O43fOdFzuy0AgirNLSfCOa3FzfyzQV7zTZGw', 'accountId': 'aMzwiOtwy0cUh5Ei_QwbBhQzZU5kxf-smbkMlZfJrycm', 'puuid': '9K_AQzxH4DUTWqk9350k6GYNOkr2r-E-CKDy-Hz3wzVj4fALx8wSMO18Fg5iqkBhdI0eCpyltZ3kMQ', 'name': '한국원딜러', 'profileIconId': 5582, 'revisionDate': 1678814752000, 'summonerLevel': 410}\n"
          ]
        }
      ]
    },
    {
      "cell_type": "code",
      "source": [
        "puuid_1 = 'RlJhFX2qFd31ZqywPxaw0zeTMA0Srx5PnYiubV6O0qMuCdrEzOfGSOHzwiyJwzIulFREeoV55E3wVg'\n",
        "puuid_2 = 'iJZGCFsmEfz6bllQz2fOK7VstYpJDcUjyHi38Igb7DVUkD1EFejPYU8tUYlnBA_4vIuIqwSZvwNu3g'\n",
        "puuid_3 = 'aVxn31341sAq_IWhDhLTdq3uAuM1WSw9Hky_69HiPLum3XYM0_2LIXbdKmO4rFnD7MGlz_IHQXaKrw'\n",
        "puuid_4 = 'b5_X9o8-jj8Vb_LsBFg-SX8w7SIDOKjBXgzbk_6Uaby2AW5iiBSoIsZGM90vV7vd_zFX_ViYEvMFKw'\n",
        "puuid_5 = '9K_AQzxH4DUTWqk9350k6GYNOkr2r-E-CKDy-Hz3wzVj4fALx8wSMO18Fg5iqkBhdI0eCpyltZ3kMQ'\n",
        "summonerId_1 = '61M5QeGm0_HmexsKDZlQc8uCAOcMFlT6JJ_A_gXGBF2_mF0'\n",
        "summonerId_2 = 'MHomhdDguGjx7ARABgJ961dCeZM6cjyEmZ65JWaViMHtaeE'\n",
        "summonerId_3 = 'hXeN9W2imC9QIr69TCNOqTM0hclL2OaW1dXcYiLY8P86Uco'\n",
        "summonerId_4 = 'vR8Wes9mnbYP_EC8JxB2eMPRVnjEixegV2XeIY0sImFCif0'\n",
        "summonerId_5 = 'quUimzQIkh2O43fOdFzuy0AgirNLSfCOa3FzfyzQV7zTZGw'"
      ],
      "metadata": {
        "id": "yYT7NBB2KKvc"
      },
      "execution_count": 6,
      "outputs": []
    },
    {
      "cell_type": "markdown",
      "source": [
        "# CHAMPION-MASTERY-V4(해당 유저의 챔피언 숙련도) "
      ],
      "metadata": {
        "id": "7RDbub74oqJM"
      }
    },
    {
      "cell_type": "code",
      "source": [
        "import requests\n",
        "import pprint\n",
        "\n",
        "pp = pprint.PrettyPrinter(indent=4)\n",
        "api_key = 'RGAPI-f7b1583f-6a39-4310-8fdd-6c02d853616d'\n",
        "request_header = {\n",
        "    \"User-Agent\": \"Mozilla/5.0 (Macintosh; Intel Mac OS X 10_15_7) AppleWebKit/537.36 (KHTML, like Gecko) Chrome/110.0.0.0 Safari/537.36\",\n",
        "    \"Accept-Language\": \"ko-KR,ko;q=0.9,en-US;q=0.8,en;q=0.7\",\n",
        "    \"Accept-Charset\": \"application/x-www-form-urlencoded; charset=UTF-8\",\n",
        "    \"Origin\": \"https://developer.riotgames.com\",\n",
        "    \"X-Riot-Token\": \"RGAPI-f7b1583f-6a39-4310-8fdd-6c02d853616d\"\n",
        "\n",
        "}\n",
        "\n",
        "def champion_mastery_v4(summonerid):\n",
        "    encryptedSummonerId = summonerid\n",
        "    url = f\"https://kr.api.riotgames.com/lol/champion-mastery/v4/champion-masteries/by-summoner/{encryptedSummonerId}\"\n",
        "    return requests.get(url, headers=request_header).json()\n",
        "\n",
        "pd.DataFrame(champion_mastery_v4(summonerId_1))\n",
        "# summonerId_1,2,3,4,5 다 적용 가능 "
      ],
      "metadata": {
        "colab": {
          "base_uri": "https://localhost:8080/",
          "height": 488
        },
        "id": "JdhttTRbrv7H",
        "outputId": "bb2bad51-cc1d-43ff-e8b6-6b0b12695976"
      },
      "execution_count": 7,
      "outputs": [
        {
          "output_type": "execute_result",
          "data": {
            "text/plain": [
              "     championId  championLevel  championPoints   lastPlayTime  \\\n",
              "0            67              7          460332  1677334164000   \n",
              "1            81              7          209871  1677163250000   \n",
              "2           236              7          205440  1676132686000   \n",
              "3            64              7          164007  1678542104000   \n",
              "4           104              7          162151  1677331410000   \n",
              "..          ...            ...             ...            ...   \n",
              "139          74              1             171  1534426672000   \n",
              "140         201              1             165  1539610300000   \n",
              "141         526              1             155  1612343240000   \n",
              "142           6              1             120  1546593892000   \n",
              "143          77              1             109  1568342624000   \n",
              "\n",
              "     championPointsSinceLastLevel  championPointsUntilNextLevel  chestGranted  \\\n",
              "0                          438732                             0         False   \n",
              "1                          188271                             0         False   \n",
              "2                          183840                             0         False   \n",
              "3                          142407                             0         False   \n",
              "4                          140551                             0         False   \n",
              "..                            ...                           ...           ...   \n",
              "139                           171                          1629         False   \n",
              "140                           165                          1635         False   \n",
              "141                           155                          1645         False   \n",
              "142                           120                          1680         False   \n",
              "143                           109                          1691         False   \n",
              "\n",
              "     tokensEarned                                       summonerId  \n",
              "0               0  61M5QeGm0_HmexsKDZlQc8uCAOcMFlT6JJ_A_gXGBF2_mF0  \n",
              "1               0  61M5QeGm0_HmexsKDZlQc8uCAOcMFlT6JJ_A_gXGBF2_mF0  \n",
              "2               0  61M5QeGm0_HmexsKDZlQc8uCAOcMFlT6JJ_A_gXGBF2_mF0  \n",
              "3               0  61M5QeGm0_HmexsKDZlQc8uCAOcMFlT6JJ_A_gXGBF2_mF0  \n",
              "4               0  61M5QeGm0_HmexsKDZlQc8uCAOcMFlT6JJ_A_gXGBF2_mF0  \n",
              "..            ...                                              ...  \n",
              "139             0  61M5QeGm0_HmexsKDZlQc8uCAOcMFlT6JJ_A_gXGBF2_mF0  \n",
              "140             0  61M5QeGm0_HmexsKDZlQc8uCAOcMFlT6JJ_A_gXGBF2_mF0  \n",
              "141             0  61M5QeGm0_HmexsKDZlQc8uCAOcMFlT6JJ_A_gXGBF2_mF0  \n",
              "142             0  61M5QeGm0_HmexsKDZlQc8uCAOcMFlT6JJ_A_gXGBF2_mF0  \n",
              "143             0  61M5QeGm0_HmexsKDZlQc8uCAOcMFlT6JJ_A_gXGBF2_mF0  \n",
              "\n",
              "[144 rows x 9 columns]"
            ],
            "text/html": [
              "\n",
              "  <div id=\"df-0e1db669-0895-4a3f-a1af-d587055c7f33\">\n",
              "    <div class=\"colab-df-container\">\n",
              "      <div>\n",
              "<style scoped>\n",
              "    .dataframe tbody tr th:only-of-type {\n",
              "        vertical-align: middle;\n",
              "    }\n",
              "\n",
              "    .dataframe tbody tr th {\n",
              "        vertical-align: top;\n",
              "    }\n",
              "\n",
              "    .dataframe thead th {\n",
              "        text-align: right;\n",
              "    }\n",
              "</style>\n",
              "<table border=\"1\" class=\"dataframe\">\n",
              "  <thead>\n",
              "    <tr style=\"text-align: right;\">\n",
              "      <th></th>\n",
              "      <th>championId</th>\n",
              "      <th>championLevel</th>\n",
              "      <th>championPoints</th>\n",
              "      <th>lastPlayTime</th>\n",
              "      <th>championPointsSinceLastLevel</th>\n",
              "      <th>championPointsUntilNextLevel</th>\n",
              "      <th>chestGranted</th>\n",
              "      <th>tokensEarned</th>\n",
              "      <th>summonerId</th>\n",
              "    </tr>\n",
              "  </thead>\n",
              "  <tbody>\n",
              "    <tr>\n",
              "      <th>0</th>\n",
              "      <td>67</td>\n",
              "      <td>7</td>\n",
              "      <td>460332</td>\n",
              "      <td>1677334164000</td>\n",
              "      <td>438732</td>\n",
              "      <td>0</td>\n",
              "      <td>False</td>\n",
              "      <td>0</td>\n",
              "      <td>61M5QeGm0_HmexsKDZlQc8uCAOcMFlT6JJ_A_gXGBF2_mF0</td>\n",
              "    </tr>\n",
              "    <tr>\n",
              "      <th>1</th>\n",
              "      <td>81</td>\n",
              "      <td>7</td>\n",
              "      <td>209871</td>\n",
              "      <td>1677163250000</td>\n",
              "      <td>188271</td>\n",
              "      <td>0</td>\n",
              "      <td>False</td>\n",
              "      <td>0</td>\n",
              "      <td>61M5QeGm0_HmexsKDZlQc8uCAOcMFlT6JJ_A_gXGBF2_mF0</td>\n",
              "    </tr>\n",
              "    <tr>\n",
              "      <th>2</th>\n",
              "      <td>236</td>\n",
              "      <td>7</td>\n",
              "      <td>205440</td>\n",
              "      <td>1676132686000</td>\n",
              "      <td>183840</td>\n",
              "      <td>0</td>\n",
              "      <td>False</td>\n",
              "      <td>0</td>\n",
              "      <td>61M5QeGm0_HmexsKDZlQc8uCAOcMFlT6JJ_A_gXGBF2_mF0</td>\n",
              "    </tr>\n",
              "    <tr>\n",
              "      <th>3</th>\n",
              "      <td>64</td>\n",
              "      <td>7</td>\n",
              "      <td>164007</td>\n",
              "      <td>1678542104000</td>\n",
              "      <td>142407</td>\n",
              "      <td>0</td>\n",
              "      <td>False</td>\n",
              "      <td>0</td>\n",
              "      <td>61M5QeGm0_HmexsKDZlQc8uCAOcMFlT6JJ_A_gXGBF2_mF0</td>\n",
              "    </tr>\n",
              "    <tr>\n",
              "      <th>4</th>\n",
              "      <td>104</td>\n",
              "      <td>7</td>\n",
              "      <td>162151</td>\n",
              "      <td>1677331410000</td>\n",
              "      <td>140551</td>\n",
              "      <td>0</td>\n",
              "      <td>False</td>\n",
              "      <td>0</td>\n",
              "      <td>61M5QeGm0_HmexsKDZlQc8uCAOcMFlT6JJ_A_gXGBF2_mF0</td>\n",
              "    </tr>\n",
              "    <tr>\n",
              "      <th>...</th>\n",
              "      <td>...</td>\n",
              "      <td>...</td>\n",
              "      <td>...</td>\n",
              "      <td>...</td>\n",
              "      <td>...</td>\n",
              "      <td>...</td>\n",
              "      <td>...</td>\n",
              "      <td>...</td>\n",
              "      <td>...</td>\n",
              "    </tr>\n",
              "    <tr>\n",
              "      <th>139</th>\n",
              "      <td>74</td>\n",
              "      <td>1</td>\n",
              "      <td>171</td>\n",
              "      <td>1534426672000</td>\n",
              "      <td>171</td>\n",
              "      <td>1629</td>\n",
              "      <td>False</td>\n",
              "      <td>0</td>\n",
              "      <td>61M5QeGm0_HmexsKDZlQc8uCAOcMFlT6JJ_A_gXGBF2_mF0</td>\n",
              "    </tr>\n",
              "    <tr>\n",
              "      <th>140</th>\n",
              "      <td>201</td>\n",
              "      <td>1</td>\n",
              "      <td>165</td>\n",
              "      <td>1539610300000</td>\n",
              "      <td>165</td>\n",
              "      <td>1635</td>\n",
              "      <td>False</td>\n",
              "      <td>0</td>\n",
              "      <td>61M5QeGm0_HmexsKDZlQc8uCAOcMFlT6JJ_A_gXGBF2_mF0</td>\n",
              "    </tr>\n",
              "    <tr>\n",
              "      <th>141</th>\n",
              "      <td>526</td>\n",
              "      <td>1</td>\n",
              "      <td>155</td>\n",
              "      <td>1612343240000</td>\n",
              "      <td>155</td>\n",
              "      <td>1645</td>\n",
              "      <td>False</td>\n",
              "      <td>0</td>\n",
              "      <td>61M5QeGm0_HmexsKDZlQc8uCAOcMFlT6JJ_A_gXGBF2_mF0</td>\n",
              "    </tr>\n",
              "    <tr>\n",
              "      <th>142</th>\n",
              "      <td>6</td>\n",
              "      <td>1</td>\n",
              "      <td>120</td>\n",
              "      <td>1546593892000</td>\n",
              "      <td>120</td>\n",
              "      <td>1680</td>\n",
              "      <td>False</td>\n",
              "      <td>0</td>\n",
              "      <td>61M5QeGm0_HmexsKDZlQc8uCAOcMFlT6JJ_A_gXGBF2_mF0</td>\n",
              "    </tr>\n",
              "    <tr>\n",
              "      <th>143</th>\n",
              "      <td>77</td>\n",
              "      <td>1</td>\n",
              "      <td>109</td>\n",
              "      <td>1568342624000</td>\n",
              "      <td>109</td>\n",
              "      <td>1691</td>\n",
              "      <td>False</td>\n",
              "      <td>0</td>\n",
              "      <td>61M5QeGm0_HmexsKDZlQc8uCAOcMFlT6JJ_A_gXGBF2_mF0</td>\n",
              "    </tr>\n",
              "  </tbody>\n",
              "</table>\n",
              "<p>144 rows × 9 columns</p>\n",
              "</div>\n",
              "      <button class=\"colab-df-convert\" onclick=\"convertToInteractive('df-0e1db669-0895-4a3f-a1af-d587055c7f33')\"\n",
              "              title=\"Convert this dataframe to an interactive table.\"\n",
              "              style=\"display:none;\">\n",
              "        \n",
              "  <svg xmlns=\"http://www.w3.org/2000/svg\" height=\"24px\"viewBox=\"0 0 24 24\"\n",
              "       width=\"24px\">\n",
              "    <path d=\"M0 0h24v24H0V0z\" fill=\"none\"/>\n",
              "    <path d=\"M18.56 5.44l.94 2.06.94-2.06 2.06-.94-2.06-.94-.94-2.06-.94 2.06-2.06.94zm-11 1L8.5 8.5l.94-2.06 2.06-.94-2.06-.94L8.5 2.5l-.94 2.06-2.06.94zm10 10l.94 2.06.94-2.06 2.06-.94-2.06-.94-.94-2.06-.94 2.06-2.06.94z\"/><path d=\"M17.41 7.96l-1.37-1.37c-.4-.4-.92-.59-1.43-.59-.52 0-1.04.2-1.43.59L10.3 9.45l-7.72 7.72c-.78.78-.78 2.05 0 2.83L4 21.41c.39.39.9.59 1.41.59.51 0 1.02-.2 1.41-.59l7.78-7.78 2.81-2.81c.8-.78.8-2.07 0-2.86zM5.41 20L4 18.59l7.72-7.72 1.47 1.35L5.41 20z\"/>\n",
              "  </svg>\n",
              "      </button>\n",
              "      \n",
              "  <style>\n",
              "    .colab-df-container {\n",
              "      display:flex;\n",
              "      flex-wrap:wrap;\n",
              "      gap: 12px;\n",
              "    }\n",
              "\n",
              "    .colab-df-convert {\n",
              "      background-color: #E8F0FE;\n",
              "      border: none;\n",
              "      border-radius: 50%;\n",
              "      cursor: pointer;\n",
              "      display: none;\n",
              "      fill: #1967D2;\n",
              "      height: 32px;\n",
              "      padding: 0 0 0 0;\n",
              "      width: 32px;\n",
              "    }\n",
              "\n",
              "    .colab-df-convert:hover {\n",
              "      background-color: #E2EBFA;\n",
              "      box-shadow: 0px 1px 2px rgba(60, 64, 67, 0.3), 0px 1px 3px 1px rgba(60, 64, 67, 0.15);\n",
              "      fill: #174EA6;\n",
              "    }\n",
              "\n",
              "    [theme=dark] .colab-df-convert {\n",
              "      background-color: #3B4455;\n",
              "      fill: #D2E3FC;\n",
              "    }\n",
              "\n",
              "    [theme=dark] .colab-df-convert:hover {\n",
              "      background-color: #434B5C;\n",
              "      box-shadow: 0px 1px 3px 1px rgba(0, 0, 0, 0.15);\n",
              "      filter: drop-shadow(0px 1px 2px rgba(0, 0, 0, 0.3));\n",
              "      fill: #FFFFFF;\n",
              "    }\n",
              "  </style>\n",
              "\n",
              "      <script>\n",
              "        const buttonEl =\n",
              "          document.querySelector('#df-0e1db669-0895-4a3f-a1af-d587055c7f33 button.colab-df-convert');\n",
              "        buttonEl.style.display =\n",
              "          google.colab.kernel.accessAllowed ? 'block' : 'none';\n",
              "\n",
              "        async function convertToInteractive(key) {\n",
              "          const element = document.querySelector('#df-0e1db669-0895-4a3f-a1af-d587055c7f33');\n",
              "          const dataTable =\n",
              "            await google.colab.kernel.invokeFunction('convertToInteractive',\n",
              "                                                     [key], {});\n",
              "          if (!dataTable) return;\n",
              "\n",
              "          const docLinkHtml = 'Like what you see? Visit the ' +\n",
              "            '<a target=\"_blank\" href=https://colab.research.google.com/notebooks/data_table.ipynb>data table notebook</a>'\n",
              "            + ' to learn more about interactive tables.';\n",
              "          element.innerHTML = '';\n",
              "          dataTable['output_type'] = 'display_data';\n",
              "          await google.colab.output.renderOutput(dataTable, element);\n",
              "          const docLink = document.createElement('div');\n",
              "          docLink.innerHTML = docLinkHtml;\n",
              "          element.appendChild(docLink);\n",
              "        }\n",
              "      </script>\n",
              "    </div>\n",
              "  </div>\n",
              "  "
            ]
          },
          "metadata": {},
          "execution_count": 7
        }
      ]
    },
    {
      "cell_type": "markdown",
      "source": [
        "# 소환사의 게임id 리스트 "
      ],
      "metadata": {
        "id": "7dYFGOmz28Q_"
      }
    },
    {
      "cell_type": "code",
      "source": [
        "import requests\n",
        "import pprint\n",
        "\n",
        "pp = pprint.PrettyPrinter(indent=4)\n",
        "api_key = 'RGAPI-f7b1583f-6a39-4310-8fdd-6c02d853616d'\n",
        "request_header = {\n",
        "    \"User-Agent\": \"Mozilla/5.0 (Macintosh; Intel Mac OS X 10_15_7) AppleWebKit/537.36 (KHTML, like Gecko) Chrome/110.0.0.0 Safari/537.36\",\n",
        "    \"Accept-Language\": \"ko-KR,ko;q=0.9,en-US;q=0.8,en;q=0.7\",\n",
        "    \"Accept-Charset\": \"application/x-www-form-urlencoded; charset=UTF-8\",\n",
        "    \"Origin\": \"https://developer.riotgames.com\",\n",
        "    \"X-Riot-Token\": \"RGAPI-f7b1583f-6a39-4310-8fdd-6c02d853616d\"\n",
        "\n",
        "}\n",
        "\n",
        "def match_v5_gamelist(summoner_puuid,start, count):\n",
        "    puuid = summoner_puuid\n",
        "    url = f\"https://asia.api.riotgames.com/lol/match/v5/matches/by-puuid/{puuid}/ids?start={start}&count={count}\"\n",
        "    return requests.get(url, headers=request_header).json()\n",
        "\n",
        "gamelist_1 = match_v5_gamelist(puuid_1,0,100)\n",
        "gamelist_1 #한번에 최대 100개 출력가능 \n",
        "\n",
        "\n"
      ],
      "metadata": {
        "colab": {
          "base_uri": "https://localhost:8080/"
        },
        "id": "fiAa5cML2d7D",
        "outputId": "19b215bb-1efa-4344-fc68-1d157f23ffd1"
      },
      "execution_count": 8,
      "outputs": [
        {
          "output_type": "execute_result",
          "data": {
            "text/plain": [
              "['KR_6407238339',\n",
              " 'KR_6407219214',\n",
              " 'KR_6401412528',\n",
              " 'KR_6401305429',\n",
              " 'KR_6401213810',\n",
              " 'KR_6401117768',\n",
              " 'KR_6401034366',\n",
              " 'KR_6400988231',\n",
              " 'KR_6399883575',\n",
              " 'KR_6397100533',\n",
              " 'KR_6397024569',\n",
              " 'KR_6393556122',\n",
              " 'KR_6393478139',\n",
              " 'KR_6393354784',\n",
              " 'KR_6393297515',\n",
              " 'KR_6385773220',\n",
              " 'KR_6385711729',\n",
              " 'KR_6385643974',\n",
              " 'KR_6385576355',\n",
              " 'KR_6385509176',\n",
              " 'KR_6385421609',\n",
              " 'KR_6385318678',\n",
              " 'KR_6385271903',\n",
              " 'KR_6384096502',\n",
              " 'KR_6384036609',\n",
              " 'KR_6383968488',\n",
              " 'KR_6383878637',\n",
              " 'KR_6383815043',\n",
              " 'KR_6383692922',\n",
              " 'KR_6383616740',\n",
              " 'KR_6383546445',\n",
              " 'KR_6382545321',\n",
              " 'KR_6382481622',\n",
              " 'KR_6382474219',\n",
              " 'KR_6382419305',\n",
              " 'KR_6382356946',\n",
              " 'KR_6380802794',\n",
              " 'KR_6380716945',\n",
              " 'KR_6380623926',\n",
              " 'KR_6380538301',\n",
              " 'KR_6380417357',\n",
              " 'KR_6380312329',\n",
              " 'KR_6380237675',\n",
              " 'KR_6377330592',\n",
              " 'KR_6377254310',\n",
              " 'KR_6377199448',\n",
              " 'KR_6377146391',\n",
              " 'KR_6377068032',\n",
              " 'KR_6376967554',\n",
              " 'KR_6376884848',\n",
              " 'KR_6374572822',\n",
              " 'KR_6374558301',\n",
              " 'KR_6374514472',\n",
              " 'KR_6374464029',\n",
              " 'KR_6373808302',\n",
              " 'KR_6373798112',\n",
              " 'KR_6373758201',\n",
              " 'KR_6372665402',\n",
              " 'KR_6372578726',\n",
              " 'KR_6370293904',\n",
              " 'KR_6370230742',\n",
              " 'KR_6370172837',\n",
              " 'KR_6370111229',\n",
              " 'KR_6370066660',\n",
              " 'KR_6367629735',\n",
              " 'KR_6367537789',\n",
              " 'KR_6367479272',\n",
              " 'KR_6367369842',\n",
              " 'KR_6367269199',\n",
              " 'KR_6367165980',\n",
              " 'KR_6361439015',\n",
              " 'KR_6361390427',\n",
              " 'KR_6361332945',\n",
              " 'KR_6361265572',\n",
              " 'KR_6361174026',\n",
              " 'KR_6361087661',\n",
              " 'KR_6357782494',\n",
              " 'KR_6357726477',\n",
              " 'KR_6345677748',\n",
              " 'KR_6345628836',\n",
              " 'KR_6345528370',\n",
              " 'KR_6345399843',\n",
              " 'KR_6343605255',\n",
              " 'KR_6343503927',\n",
              " 'KR_6343404605',\n",
              " 'KR_6343352384',\n",
              " 'KR_6343287412',\n",
              " 'KR_6343172265',\n",
              " 'KR_6343092594',\n",
              " 'KR_6342151105',\n",
              " 'KR_6342073140',\n",
              " 'KR_6341943865',\n",
              " 'KR_6341867177',\n",
              " 'KR_6341801054',\n",
              " 'KR_6340766329',\n",
              " 'KR_6340723013',\n",
              " 'KR_6340640494',\n",
              " 'KR_6340565914',\n",
              " 'KR_6340496240',\n",
              " 'KR_6340403424']"
            ]
          },
          "metadata": {},
          "execution_count": 8
        }
      ]
    },
    {
      "cell_type": "code",
      "source": [
        "gamelist_2 = match_v5_gamelist(puuid_2,0,100)\n",
        "gamelist_3 = match_v5_gamelist(puuid_3,0,100)\n",
        "gamelist_4 = match_v5_gamelist(puuid_4,0,100)\n",
        "gamelist_5 = match_v5_gamelist(puuid_5,0,100)\n"
      ],
      "metadata": {
        "id": "TCOgVCA4IoPo"
      },
      "execution_count": 9,
      "outputs": []
    },
    {
      "cell_type": "code",
      "source": [
        "import time\n",
        "import datetime"
      ],
      "metadata": {
        "id": "CKJkfuMIMTQF"
      },
      "execution_count": 10,
      "outputs": []
    },
    {
      "cell_type": "code",
      "source": [
        "import requests\n",
        "import pandas as pd\n",
        "\n",
        "# Riot API key\n",
        "api_key = 'RGAPI-f7b1583f-6a39-4310-8fdd-6c02d853616d'\n",
        "request_header = {\n",
        "    \"User-Agent\": \"Mozilla/5.0 (Macintosh; Intel Mac OS X 10_15_7) AppleWebKit/537.36 (KHTML, like Gecko) Chrome/110.0.0.0 Safari/537.36\",\n",
        "    \"Accept-Language\": \"ko-KR,ko;q=0.9,en-US;q=0.8,en;q=0.7\",\n",
        "    \"Accept-Charset\": \"application/x-www-form-urlencoded; charset=UTF-8\",\n",
        "    \"Origin\": \"https://developer.riotgames.com\",\n",
        "    \"X-Riot-Token\": \"RGAPI-f7b1583f-6a39-4310-8fdd-6c02d853616d\"\n",
        "\n",
        "}\n",
        "# 사용자의 puuid와 match id 리스트\n",
        "puuid = puuid_1\n",
        "match_id_list = gamelist_1\n",
        "\n",
        "# 각 match id에 해당하는 match 정보 가져오기\n",
        "match_data_list = []\n",
        "for match_id in match_id_list:\n",
        "    url = f\"https://asia.api.riotgames.com/lol/match/v5/matches/{match_id}\"\n",
        "    headers = {\"X-Riot-Token\": api_key}\n",
        "    response = requests.get(url, headers=headers)\n",
        "    match_data_list.append(response.json())\n",
        "\n",
        "# match 정보를 데이터프레임으로 변환하기\n",
        "match_df_list = []\n",
        "for match_data in match_data_list:\n",
        "    match_df = pd.json_normalize(match_data)\n",
        "    match_df_list.append(match_df)\n",
        "    \n",
        "# 모든 match 정보를 하나의 데이터프레임으로 합치기\n",
        "match_df_1 = pd.concat(match_df_list, axis=0)\n"
      ],
      "metadata": {
        "id": "Raf7W64ZTE3W"
      },
      "execution_count": 44,
      "outputs": []
    },
    {
      "cell_type": "code",
      "source": [
        "match_df_1.info()"
      ],
      "metadata": {
        "colab": {
          "base_uri": "https://localhost:8080/"
        },
        "id": "1nh7zl9cTURv",
        "outputId": "42dbf8e9-0618-464d-fce3-1593a5fd39eb"
      },
      "execution_count": 45,
      "outputs": [
        {
          "output_type": "stream",
          "name": "stdout",
          "text": [
            "<class 'pandas.core.frame.DataFrame'>\n",
            "Int64Index: 100 entries, 0 to 0\n",
            "Data columns (total 20 columns):\n",
            " #   Column                   Non-Null Count  Dtype  \n",
            "---  ------                   --------------  -----  \n",
            " 0   metadata.dataVersion     86 non-null     object \n",
            " 1   metadata.matchId         86 non-null     object \n",
            " 2   metadata.participants    86 non-null     object \n",
            " 3   info.gameCreation        86 non-null     float64\n",
            " 4   info.gameDuration        86 non-null     float64\n",
            " 5   info.gameEndTimestamp    86 non-null     float64\n",
            " 6   info.gameId              86 non-null     float64\n",
            " 7   info.gameMode            86 non-null     object \n",
            " 8   info.gameName            86 non-null     object \n",
            " 9   info.gameStartTimestamp  86 non-null     float64\n",
            " 10  info.gameType            86 non-null     object \n",
            " 11  info.gameVersion         86 non-null     object \n",
            " 12  info.mapId               86 non-null     float64\n",
            " 13  info.participants        86 non-null     object \n",
            " 14  info.platformId          86 non-null     object \n",
            " 15  info.queueId             86 non-null     float64\n",
            " 16  info.teams               86 non-null     object \n",
            " 17  info.tournamentCode      86 non-null     object \n",
            " 18  status.message           14 non-null     object \n",
            " 19  status.status_code       14 non-null     float64\n",
            "dtypes: float64(8), object(12)\n",
            "memory usage: 16.4+ KB\n"
          ]
        }
      ]
    },
    {
      "cell_type": "code",
      "source": [
        "import requests\n",
        "import pandas as pd\n",
        "\n",
        "# Riot API key\n",
        "api_key = 'RGAPI-f7b1583f-6a39-4310-8fdd-6c02d853616d'\n",
        "request_header = {\n",
        "    \"User-Agent\": \"Mozilla/5.0 (Macintosh; Intel Mac OS X 10_15_7) AppleWebKit/537.36 (KHTML, like Gecko) Chrome/110.0.0.0 Safari/537.36\",\n",
        "    \"Accept-Language\": \"ko-KR,ko;q=0.9,en-US;q=0.8,en;q=0.7\",\n",
        "    \"Accept-Charset\": \"application/x-www-form-urlencoded; charset=UTF-8\",\n",
        "    \"Origin\": \"https://developer.riotgames.com\",\n",
        "    \"X-Riot-Token\": \"RGAPI-f7b1583f-6a39-4310-8fdd-6c02d853616d\"\n",
        "\n",
        "}\n",
        "# 사용자의 puuid와 match id 리스트\n",
        "puuid = puuid_2\n",
        "match_id_list = gamelist_2\n",
        "\n",
        "# 각 match id에 해당하는 match 정보 가져오기\n",
        "match_data_list = []\n",
        "for match_id in match_id_list:\n",
        "    url = f\"https://asia.api.riotgames.com/lol/match/v5/matches/{match_id}\"\n",
        "    headers = {\"X-Riot-Token\": api_key}\n",
        "    response = requests.get(url, headers=headers)\n",
        "    match_data_list.append(response.json())\n",
        "\n",
        "# match 정보를 데이터프레임으로 변환하기\n",
        "match_df_list = []\n",
        "for match_data in match_data_list:\n",
        "    match_df = pd.json_normalize(match_data)\n",
        "    match_df_list.append(match_df)\n",
        "    \n",
        "# 모든 match 정보를 하나의 데이터프레임으로 합치기\n",
        "match_df_2 = pd.concat(match_df_list, axis=0)\n"
      ],
      "metadata": {
        "id": "T_gCZb0RUd5w"
      },
      "execution_count": 46,
      "outputs": []
    },
    {
      "cell_type": "code",
      "source": [
        "import requests\n",
        "import pandas as pd\n",
        "\n",
        "# Riot API key\n",
        "api_key = 'RGAPI-f7b1583f-6a39-4310-8fdd-6c02d853616d'\n",
        "request_header = {\n",
        "    \"User-Agent\": \"Mozilla/5.0 (Macintosh; Intel Mac OS X 10_15_7) AppleWebKit/537.36 (KHTML, like Gecko) Chrome/110.0.0.0 Safari/537.36\",\n",
        "    \"Accept-Language\": \"ko-KR,ko;q=0.9,en-US;q=0.8,en;q=0.7\",\n",
        "    \"Accept-Charset\": \"application/x-www-form-urlencoded; charset=UTF-8\",\n",
        "    \"Origin\": \"https://developer.riotgames.com\",\n",
        "    \"X-Riot-Token\": \"RGAPI-f7b1583f-6a39-4310-8fdd-6c02d853616d\"\n",
        "\n",
        "}\n",
        "# 사용자의 puuid와 match id 리스트\n",
        "puuid = puuid_3\n",
        "match_id_list = gamelist_3\n",
        "\n",
        "# 각 match id에 해당하는 match 정보 가져오기\n",
        "match_data_list = []\n",
        "for match_id in match_id_list:\n",
        "    url = f\"https://asia.api.riotgames.com/lol/match/v5/matches/{match_id}\"\n",
        "    headers = {\"X-Riot-Token\": api_key}\n",
        "    response = requests.get(url, headers=headers)\n",
        "    match_data_list.append(response.json())\n",
        "\n",
        "# match 정보를 데이터프레임으로 변환하기\n",
        "match_df_list = []\n",
        "for match_data in match_data_list:\n",
        "    match_df = pd.json_normalize(match_data)\n",
        "    match_df_list.append(match_df)\n",
        "    \n",
        "# 모든 match 정보를 하나의 데이터프레임으로 합치기\n",
        "match_df_3 = pd.concat(match_df_list, axis=0)\n"
      ],
      "metadata": {
        "id": "Wk3tc2hyU32s"
      },
      "execution_count": 47,
      "outputs": []
    },
    {
      "cell_type": "code",
      "source": [
        "import requests\n",
        "import pandas as pd\n",
        "\n",
        "# Riot API key\n",
        "api_key = 'RGAPI-f7b1583f-6a39-4310-8fdd-6c02d853616d'\n",
        "request_header = {\n",
        "    \"User-Agent\": \"Mozilla/5.0 (Macintosh; Intel Mac OS X 10_15_7) AppleWebKit/537.36 (KHTML, like Gecko) Chrome/110.0.0.0 Safari/537.36\",\n",
        "    \"Accept-Language\": \"ko-KR,ko;q=0.9,en-US;q=0.8,en;q=0.7\",\n",
        "    \"Accept-Charset\": \"application/x-www-form-urlencoded; charset=UTF-8\",\n",
        "    \"Origin\": \"https://developer.riotgames.com\",\n",
        "    \"X-Riot-Token\": \"RGAPI-f7b1583f-6a39-4310-8fdd-6c02d853616d\"\n",
        "\n",
        "}\n",
        "# 사용자의 puuid와 match id 리스트\n",
        "puuid = puuid_4\n",
        "match_id_list = gamelist_4\n",
        "\n",
        "# 각 match id에 해당하는 match 정보 가져오기\n",
        "match_data_list = []\n",
        "for match_id in match_id_list:\n",
        "    url = f\"https://asia.api.riotgames.com/lol/match/v5/matches/{match_id}\"\n",
        "    headers = {\"X-Riot-Token\": api_key}\n",
        "    response = requests.get(url, headers=headers)\n",
        "    match_data_list.append(response.json())\n",
        "\n",
        "# match 정보를 데이터프레임으로 변환하기\n",
        "match_df_list = []\n",
        "for match_data in match_data_list:\n",
        "    match_df = pd.json_normalize(match_data)\n",
        "    match_df_list.append(match_df)\n",
        "    \n",
        "# 모든 match 정보를 하나의 데이터프레임으로 합치기\n",
        "match_df_4 = pd.concat(match_df_list, axis=0)\n"
      ],
      "metadata": {
        "id": "xqS3flEFVUvc"
      },
      "execution_count": 50,
      "outputs": []
    },
    {
      "cell_type": "code",
      "source": [
        "import requests\n",
        "import pandas as pd\n",
        "\n",
        "# Riot API key\n",
        "api_key = 'RGAPI-f7b1583f-6a39-4310-8fdd-6c02d853616d'\n",
        "request_header = {\n",
        "    \"User-Agent\": \"Mozilla/5.0 (Macintosh; Intel Mac OS X 10_15_7) AppleWebKit/537.36 (KHTML, like Gecko) Chrome/110.0.0.0 Safari/537.36\",\n",
        "    \"Accept-Language\": \"ko-KR,ko;q=0.9,en-US;q=0.8,en;q=0.7\",\n",
        "    \"Accept-Charset\": \"application/x-www-form-urlencoded; charset=UTF-8\",\n",
        "    \"Origin\": \"https://developer.riotgames.com\",\n",
        "    \"X-Riot-Token\": \"RGAPI-f7b1583f-6a39-4310-8fdd-6c02d853616d\"\n",
        "\n",
        "}\n",
        "# 사용자의 puuid와 match id 리스트\n",
        "puuid = puuid_5\n",
        "match_id_list = gamelist_5\n",
        "\n",
        "# 각 match id에 해당하는 match 정보 가져오기\n",
        "match_data_list = []\n",
        "for match_id in match_id_list:\n",
        "    url = f\"https://asia.api.riotgames.com/lol/match/v5/matches/{match_id}\"\n",
        "    headers = {\"X-Riot-Token\": api_key}\n",
        "    response = requests.get(url, headers=headers)\n",
        "    match_data_list.append(response.json())\n",
        "\n",
        "# match 정보를 데이터프레임으로 변환하기\n",
        "match_df_list = []\n",
        "for match_data in match_data_list:\n",
        "    match_df = pd.json_normalize(match_data)\n",
        "    match_df_list.append(match_df)\n",
        "    \n",
        "# 모든 match 정보를 하나의 데이터프레임으로 합치기\n",
        "match_df_5 = pd.concat(match_df_list, axis=0)\n"
      ],
      "metadata": {
        "id": "oi24KMToVpTF"
      },
      "execution_count": 51,
      "outputs": []
    },
    {
      "cell_type": "code",
      "source": [
        "lol_match_data = pd.concat([match_df_1,match_df_2,match_df_3, match_df_4 ,match_df_5],axis=0)"
      ],
      "metadata": {
        "id": "YS0hxRibWHkp"
      },
      "execution_count": 58,
      "outputs": []
    },
    {
      "cell_type": "code",
      "source": [
        "lol_match_data"
      ],
      "metadata": {
        "colab": {
          "base_uri": "https://localhost:8080/",
          "height": 1000
        },
        "id": "u1jE-rgmgsf7",
        "outputId": "d363bad5-3615-4b78-cf13-bab40999a5c8"
      },
      "execution_count": 63,
      "outputs": [
        {
          "output_type": "execute_result",
          "data": {
            "text/plain": [
              "   metadata.dataVersion metadata.matchId  \\\n",
              "0                     2    KR_6407238339   \n",
              "0                     2    KR_6407219214   \n",
              "0                     2    KR_6401412528   \n",
              "0                     2    KR_6401305429   \n",
              "0                     2    KR_6401213810   \n",
              "..                  ...              ...   \n",
              "0                     2    KR_6386144872   \n",
              "0                     2    KR_6386114340   \n",
              "0                     2    KR_6386089059   \n",
              "0                     2    KR_6386065665   \n",
              "0                     2    KR_6386032943   \n",
              "\n",
              "                                metadata.participants  info.gameCreation  \\\n",
              "0   [MsiZlkhRXHP2WSbqEGF85QbYhhWJY2_ps4rrIsQhqBzJa...       1.678941e+12   \n",
              "0   [MsiZlkhRXHP2WSbqEGF85QbYhhWJY2_ps4rrIsQhqBzJa...       1.678939e+12   \n",
              "0   [TCQwnu3pDofBuF42GmUaC90nN-ir-71p6nxclyPiOCSuD...       1.678547e+12   \n",
              "0   [aGnXwyWnyD06XnbV46zIugKRWpLG_747FKchzVaB1CYQI...       1.678544e+12   \n",
              "0   [l4Hs1khAyvm015no-avuc6PYTv8YRXSfYrPG4_pWfQdp0...       1.678542e+12   \n",
              "..                                                ...                ...   \n",
              "0   [GAa-D9LWAuPahjo3C62fe7bQkIYj2K4gbF9enjtgZ2Pui...       1.677640e+12   \n",
              "0   [lV_4CL7yEYfJEtVlfC5bXU2kd3ayrZR_C8MQCGqs0J4_2...       1.677637e+12   \n",
              "0   [7d0er7pHqlm7VrahV0YPfWa1EFV-jXF1azEke6xWsFQnR...       1.677635e+12   \n",
              "0   [wuxCd8IMVvLLm1wBuqCWYs_k99K9VW2hkRRvEv4bwpe04...       1.677633e+12   \n",
              "0   [S3aQUgYi8U4AJEVHkgPA08fwytIgUTfDFJ_kYZ5qT-OAM...       1.677629e+12   \n",
              "\n",
              "    info.gameDuration  info.gameEndTimestamp   info.gameId info.gameMode  \\\n",
              "0               107.0           1.678941e+12  6.407238e+09       CLASSIC   \n",
              "0              1464.0           1.678940e+12  6.407219e+09       CLASSIC   \n",
              "0               938.0           1.678548e+12  6.401413e+09       CLASSIC   \n",
              "0              2427.0           1.678547e+12  6.401305e+09       CLASSIC   \n",
              "0              1722.0           1.678544e+12  6.401214e+09       CLASSIC   \n",
              "..                ...                    ...           ...           ...   \n",
              "0              1707.0           1.677642e+12  6.386145e+09       CLASSIC   \n",
              "0              2136.0           1.677639e+12  6.386114e+09       CLASSIC   \n",
              "0              1650.0           1.677636e+12  6.386089e+09       CLASSIC   \n",
              "0              1332.0           1.677634e+12  6.386066e+09       CLASSIC   \n",
              "0              2146.0           1.677632e+12  6.386033e+09       CLASSIC   \n",
              "\n",
              "                   info.gameName  info.gameStartTimestamp info.gameType  \\\n",
              "0   teambuilder-match-6407238339             1.678941e+12  MATCHED_GAME   \n",
              "0   teambuilder-match-6407219214             1.678939e+12  MATCHED_GAME   \n",
              "0   teambuilder-match-6401412528             1.678547e+12  MATCHED_GAME   \n",
              "0   teambuilder-match-6401305429             1.678544e+12  MATCHED_GAME   \n",
              "0   teambuilder-match-6401213810             1.678542e+12  MATCHED_GAME   \n",
              "..                           ...                      ...           ...   \n",
              "0   teambuilder-match-6386144872             1.677640e+12  MATCHED_GAME   \n",
              "0   teambuilder-match-6386114340             1.677637e+12  MATCHED_GAME   \n",
              "0   teambuilder-match-6386089059             1.677635e+12  MATCHED_GAME   \n",
              "0   teambuilder-match-6386065665             1.677633e+12  MATCHED_GAME   \n",
              "0   teambuilder-match-6386032943             1.677630e+12  MATCHED_GAME   \n",
              "\n",
              "   info.gameVersion  info.mapId  \\\n",
              "0     13.5.495.8836        11.0   \n",
              "0     13.5.495.8836        11.0   \n",
              "0     13.5.495.8836        11.0   \n",
              "0     13.5.495.8836        11.0   \n",
              "0     13.5.495.8836        11.0   \n",
              "..              ...         ...   \n",
              "0     13.4.494.1549        11.0   \n",
              "0     13.4.494.1549        11.0   \n",
              "0     13.4.494.1549        11.0   \n",
              "0     13.4.494.1549        11.0   \n",
              "0     13.4.494.1549        11.0   \n",
              "\n",
              "                                    info.participants info.platformId  \\\n",
              "0   [{'allInPings': 0, 'assistMePings': 0, 'assist...              KR   \n",
              "0   [{'allInPings': 0, 'assistMePings': 0, 'assist...              KR   \n",
              "0   [{'allInPings': 0, 'assistMePings': 0, 'assist...              KR   \n",
              "0   [{'allInPings': 0, 'assistMePings': 0, 'assist...              KR   \n",
              "0   [{'allInPings': 0, 'assistMePings': 0, 'assist...              KR   \n",
              "..                                                ...             ...   \n",
              "0   [{'allInPings': 0, 'assistMePings': 8, 'assist...              KR   \n",
              "0   [{'allInPings': 0, 'assistMePings': 0, 'assist...              KR   \n",
              "0   [{'allInPings': 0, 'assistMePings': 2, 'assist...              KR   \n",
              "0   [{'allInPings': 0, 'assistMePings': 1, 'assist...              KR   \n",
              "0   [{'allInPings': 1, 'assistMePings': 6, 'assist...              KR   \n",
              "\n",
              "    info.queueId                                         info.teams  \\\n",
              "0          440.0  [{'bans': [{'championId': -1, 'pickTurn': 1}, ...   \n",
              "0          440.0  [{'bans': [{'championId': 350, 'pickTurn': 1},...   \n",
              "0          440.0  [{'bans': [{'championId': 517, 'pickTurn': 1},...   \n",
              "0          440.0  [{'bans': [{'championId': 45, 'pickTurn': 1}, ...   \n",
              "0          440.0  [{'bans': [{'championId': 517, 'pickTurn': 1},...   \n",
              "..           ...                                                ...   \n",
              "0          420.0  [{'bans': [{'championId': 238, 'pickTurn': 1},...   \n",
              "0          420.0  [{'bans': [{'championId': 22, 'pickTurn': 1}, ...   \n",
              "0          420.0  [{'bans': [{'championId': 84, 'pickTurn': 1}, ...   \n",
              "0          420.0  [{'bans': [{'championId': 53, 'pickTurn': 1}, ...   \n",
              "0          420.0  [{'bans': [{'championId': 111, 'pickTurn': 1},...   \n",
              "\n",
              "   info.tournamentCode status.message  status.status_code  \n",
              "0                                 NaN                 NaN  \n",
              "0                                 NaN                 NaN  \n",
              "0                                 NaN                 NaN  \n",
              "0                                 NaN                 NaN  \n",
              "0                                 NaN                 NaN  \n",
              "..                 ...            ...                 ...  \n",
              "0                                 NaN                 NaN  \n",
              "0                                 NaN                 NaN  \n",
              "0                                 NaN                 NaN  \n",
              "0                                 NaN                 NaN  \n",
              "0                                 NaN                 NaN  \n",
              "\n",
              "[500 rows x 20 columns]"
            ],
            "text/html": [
              "\n",
              "  <div id=\"df-be71bde2-b7a0-4003-98d9-12ae677b91af\">\n",
              "    <div class=\"colab-df-container\">\n",
              "      <div>\n",
              "<style scoped>\n",
              "    .dataframe tbody tr th:only-of-type {\n",
              "        vertical-align: middle;\n",
              "    }\n",
              "\n",
              "    .dataframe tbody tr th {\n",
              "        vertical-align: top;\n",
              "    }\n",
              "\n",
              "    .dataframe thead th {\n",
              "        text-align: right;\n",
              "    }\n",
              "</style>\n",
              "<table border=\"1\" class=\"dataframe\">\n",
              "  <thead>\n",
              "    <tr style=\"text-align: right;\">\n",
              "      <th></th>\n",
              "      <th>metadata.dataVersion</th>\n",
              "      <th>metadata.matchId</th>\n",
              "      <th>metadata.participants</th>\n",
              "      <th>info.gameCreation</th>\n",
              "      <th>info.gameDuration</th>\n",
              "      <th>info.gameEndTimestamp</th>\n",
              "      <th>info.gameId</th>\n",
              "      <th>info.gameMode</th>\n",
              "      <th>info.gameName</th>\n",
              "      <th>info.gameStartTimestamp</th>\n",
              "      <th>info.gameType</th>\n",
              "      <th>info.gameVersion</th>\n",
              "      <th>info.mapId</th>\n",
              "      <th>info.participants</th>\n",
              "      <th>info.platformId</th>\n",
              "      <th>info.queueId</th>\n",
              "      <th>info.teams</th>\n",
              "      <th>info.tournamentCode</th>\n",
              "      <th>status.message</th>\n",
              "      <th>status.status_code</th>\n",
              "    </tr>\n",
              "  </thead>\n",
              "  <tbody>\n",
              "    <tr>\n",
              "      <th>0</th>\n",
              "      <td>2</td>\n",
              "      <td>KR_6407238339</td>\n",
              "      <td>[MsiZlkhRXHP2WSbqEGF85QbYhhWJY2_ps4rrIsQhqBzJa...</td>\n",
              "      <td>1.678941e+12</td>\n",
              "      <td>107.0</td>\n",
              "      <td>1.678941e+12</td>\n",
              "      <td>6.407238e+09</td>\n",
              "      <td>CLASSIC</td>\n",
              "      <td>teambuilder-match-6407238339</td>\n",
              "      <td>1.678941e+12</td>\n",
              "      <td>MATCHED_GAME</td>\n",
              "      <td>13.5.495.8836</td>\n",
              "      <td>11.0</td>\n",
              "      <td>[{'allInPings': 0, 'assistMePings': 0, 'assist...</td>\n",
              "      <td>KR</td>\n",
              "      <td>440.0</td>\n",
              "      <td>[{'bans': [{'championId': -1, 'pickTurn': 1}, ...</td>\n",
              "      <td></td>\n",
              "      <td>NaN</td>\n",
              "      <td>NaN</td>\n",
              "    </tr>\n",
              "    <tr>\n",
              "      <th>0</th>\n",
              "      <td>2</td>\n",
              "      <td>KR_6407219214</td>\n",
              "      <td>[MsiZlkhRXHP2WSbqEGF85QbYhhWJY2_ps4rrIsQhqBzJa...</td>\n",
              "      <td>1.678939e+12</td>\n",
              "      <td>1464.0</td>\n",
              "      <td>1.678940e+12</td>\n",
              "      <td>6.407219e+09</td>\n",
              "      <td>CLASSIC</td>\n",
              "      <td>teambuilder-match-6407219214</td>\n",
              "      <td>1.678939e+12</td>\n",
              "      <td>MATCHED_GAME</td>\n",
              "      <td>13.5.495.8836</td>\n",
              "      <td>11.0</td>\n",
              "      <td>[{'allInPings': 0, 'assistMePings': 0, 'assist...</td>\n",
              "      <td>KR</td>\n",
              "      <td>440.0</td>\n",
              "      <td>[{'bans': [{'championId': 350, 'pickTurn': 1},...</td>\n",
              "      <td></td>\n",
              "      <td>NaN</td>\n",
              "      <td>NaN</td>\n",
              "    </tr>\n",
              "    <tr>\n",
              "      <th>0</th>\n",
              "      <td>2</td>\n",
              "      <td>KR_6401412528</td>\n",
              "      <td>[TCQwnu3pDofBuF42GmUaC90nN-ir-71p6nxclyPiOCSuD...</td>\n",
              "      <td>1.678547e+12</td>\n",
              "      <td>938.0</td>\n",
              "      <td>1.678548e+12</td>\n",
              "      <td>6.401413e+09</td>\n",
              "      <td>CLASSIC</td>\n",
              "      <td>teambuilder-match-6401412528</td>\n",
              "      <td>1.678547e+12</td>\n",
              "      <td>MATCHED_GAME</td>\n",
              "      <td>13.5.495.8836</td>\n",
              "      <td>11.0</td>\n",
              "      <td>[{'allInPings': 0, 'assistMePings': 0, 'assist...</td>\n",
              "      <td>KR</td>\n",
              "      <td>440.0</td>\n",
              "      <td>[{'bans': [{'championId': 517, 'pickTurn': 1},...</td>\n",
              "      <td></td>\n",
              "      <td>NaN</td>\n",
              "      <td>NaN</td>\n",
              "    </tr>\n",
              "    <tr>\n",
              "      <th>0</th>\n",
              "      <td>2</td>\n",
              "      <td>KR_6401305429</td>\n",
              "      <td>[aGnXwyWnyD06XnbV46zIugKRWpLG_747FKchzVaB1CYQI...</td>\n",
              "      <td>1.678544e+12</td>\n",
              "      <td>2427.0</td>\n",
              "      <td>1.678547e+12</td>\n",
              "      <td>6.401305e+09</td>\n",
              "      <td>CLASSIC</td>\n",
              "      <td>teambuilder-match-6401305429</td>\n",
              "      <td>1.678544e+12</td>\n",
              "      <td>MATCHED_GAME</td>\n",
              "      <td>13.5.495.8836</td>\n",
              "      <td>11.0</td>\n",
              "      <td>[{'allInPings': 0, 'assistMePings': 0, 'assist...</td>\n",
              "      <td>KR</td>\n",
              "      <td>440.0</td>\n",
              "      <td>[{'bans': [{'championId': 45, 'pickTurn': 1}, ...</td>\n",
              "      <td></td>\n",
              "      <td>NaN</td>\n",
              "      <td>NaN</td>\n",
              "    </tr>\n",
              "    <tr>\n",
              "      <th>0</th>\n",
              "      <td>2</td>\n",
              "      <td>KR_6401213810</td>\n",
              "      <td>[l4Hs1khAyvm015no-avuc6PYTv8YRXSfYrPG4_pWfQdp0...</td>\n",
              "      <td>1.678542e+12</td>\n",
              "      <td>1722.0</td>\n",
              "      <td>1.678544e+12</td>\n",
              "      <td>6.401214e+09</td>\n",
              "      <td>CLASSIC</td>\n",
              "      <td>teambuilder-match-6401213810</td>\n",
              "      <td>1.678542e+12</td>\n",
              "      <td>MATCHED_GAME</td>\n",
              "      <td>13.5.495.8836</td>\n",
              "      <td>11.0</td>\n",
              "      <td>[{'allInPings': 0, 'assistMePings': 0, 'assist...</td>\n",
              "      <td>KR</td>\n",
              "      <td>440.0</td>\n",
              "      <td>[{'bans': [{'championId': 517, 'pickTurn': 1},...</td>\n",
              "      <td></td>\n",
              "      <td>NaN</td>\n",
              "      <td>NaN</td>\n",
              "    </tr>\n",
              "    <tr>\n",
              "      <th>...</th>\n",
              "      <td>...</td>\n",
              "      <td>...</td>\n",
              "      <td>...</td>\n",
              "      <td>...</td>\n",
              "      <td>...</td>\n",
              "      <td>...</td>\n",
              "      <td>...</td>\n",
              "      <td>...</td>\n",
              "      <td>...</td>\n",
              "      <td>...</td>\n",
              "      <td>...</td>\n",
              "      <td>...</td>\n",
              "      <td>...</td>\n",
              "      <td>...</td>\n",
              "      <td>...</td>\n",
              "      <td>...</td>\n",
              "      <td>...</td>\n",
              "      <td>...</td>\n",
              "      <td>...</td>\n",
              "      <td>...</td>\n",
              "    </tr>\n",
              "    <tr>\n",
              "      <th>0</th>\n",
              "      <td>2</td>\n",
              "      <td>KR_6386144872</td>\n",
              "      <td>[GAa-D9LWAuPahjo3C62fe7bQkIYj2K4gbF9enjtgZ2Pui...</td>\n",
              "      <td>1.677640e+12</td>\n",
              "      <td>1707.0</td>\n",
              "      <td>1.677642e+12</td>\n",
              "      <td>6.386145e+09</td>\n",
              "      <td>CLASSIC</td>\n",
              "      <td>teambuilder-match-6386144872</td>\n",
              "      <td>1.677640e+12</td>\n",
              "      <td>MATCHED_GAME</td>\n",
              "      <td>13.4.494.1549</td>\n",
              "      <td>11.0</td>\n",
              "      <td>[{'allInPings': 0, 'assistMePings': 8, 'assist...</td>\n",
              "      <td>KR</td>\n",
              "      <td>420.0</td>\n",
              "      <td>[{'bans': [{'championId': 238, 'pickTurn': 1},...</td>\n",
              "      <td></td>\n",
              "      <td>NaN</td>\n",
              "      <td>NaN</td>\n",
              "    </tr>\n",
              "    <tr>\n",
              "      <th>0</th>\n",
              "      <td>2</td>\n",
              "      <td>KR_6386114340</td>\n",
              "      <td>[lV_4CL7yEYfJEtVlfC5bXU2kd3ayrZR_C8MQCGqs0J4_2...</td>\n",
              "      <td>1.677637e+12</td>\n",
              "      <td>2136.0</td>\n",
              "      <td>1.677639e+12</td>\n",
              "      <td>6.386114e+09</td>\n",
              "      <td>CLASSIC</td>\n",
              "      <td>teambuilder-match-6386114340</td>\n",
              "      <td>1.677637e+12</td>\n",
              "      <td>MATCHED_GAME</td>\n",
              "      <td>13.4.494.1549</td>\n",
              "      <td>11.0</td>\n",
              "      <td>[{'allInPings': 0, 'assistMePings': 0, 'assist...</td>\n",
              "      <td>KR</td>\n",
              "      <td>420.0</td>\n",
              "      <td>[{'bans': [{'championId': 22, 'pickTurn': 1}, ...</td>\n",
              "      <td></td>\n",
              "      <td>NaN</td>\n",
              "      <td>NaN</td>\n",
              "    </tr>\n",
              "    <tr>\n",
              "      <th>0</th>\n",
              "      <td>2</td>\n",
              "      <td>KR_6386089059</td>\n",
              "      <td>[7d0er7pHqlm7VrahV0YPfWa1EFV-jXF1azEke6xWsFQnR...</td>\n",
              "      <td>1.677635e+12</td>\n",
              "      <td>1650.0</td>\n",
              "      <td>1.677636e+12</td>\n",
              "      <td>6.386089e+09</td>\n",
              "      <td>CLASSIC</td>\n",
              "      <td>teambuilder-match-6386089059</td>\n",
              "      <td>1.677635e+12</td>\n",
              "      <td>MATCHED_GAME</td>\n",
              "      <td>13.4.494.1549</td>\n",
              "      <td>11.0</td>\n",
              "      <td>[{'allInPings': 0, 'assistMePings': 2, 'assist...</td>\n",
              "      <td>KR</td>\n",
              "      <td>420.0</td>\n",
              "      <td>[{'bans': [{'championId': 84, 'pickTurn': 1}, ...</td>\n",
              "      <td></td>\n",
              "      <td>NaN</td>\n",
              "      <td>NaN</td>\n",
              "    </tr>\n",
              "    <tr>\n",
              "      <th>0</th>\n",
              "      <td>2</td>\n",
              "      <td>KR_6386065665</td>\n",
              "      <td>[wuxCd8IMVvLLm1wBuqCWYs_k99K9VW2hkRRvEv4bwpe04...</td>\n",
              "      <td>1.677633e+12</td>\n",
              "      <td>1332.0</td>\n",
              "      <td>1.677634e+12</td>\n",
              "      <td>6.386066e+09</td>\n",
              "      <td>CLASSIC</td>\n",
              "      <td>teambuilder-match-6386065665</td>\n",
              "      <td>1.677633e+12</td>\n",
              "      <td>MATCHED_GAME</td>\n",
              "      <td>13.4.494.1549</td>\n",
              "      <td>11.0</td>\n",
              "      <td>[{'allInPings': 0, 'assistMePings': 1, 'assist...</td>\n",
              "      <td>KR</td>\n",
              "      <td>420.0</td>\n",
              "      <td>[{'bans': [{'championId': 53, 'pickTurn': 1}, ...</td>\n",
              "      <td></td>\n",
              "      <td>NaN</td>\n",
              "      <td>NaN</td>\n",
              "    </tr>\n",
              "    <tr>\n",
              "      <th>0</th>\n",
              "      <td>2</td>\n",
              "      <td>KR_6386032943</td>\n",
              "      <td>[S3aQUgYi8U4AJEVHkgPA08fwytIgUTfDFJ_kYZ5qT-OAM...</td>\n",
              "      <td>1.677629e+12</td>\n",
              "      <td>2146.0</td>\n",
              "      <td>1.677632e+12</td>\n",
              "      <td>6.386033e+09</td>\n",
              "      <td>CLASSIC</td>\n",
              "      <td>teambuilder-match-6386032943</td>\n",
              "      <td>1.677630e+12</td>\n",
              "      <td>MATCHED_GAME</td>\n",
              "      <td>13.4.494.1549</td>\n",
              "      <td>11.0</td>\n",
              "      <td>[{'allInPings': 1, 'assistMePings': 6, 'assist...</td>\n",
              "      <td>KR</td>\n",
              "      <td>420.0</td>\n",
              "      <td>[{'bans': [{'championId': 111, 'pickTurn': 1},...</td>\n",
              "      <td></td>\n",
              "      <td>NaN</td>\n",
              "      <td>NaN</td>\n",
              "    </tr>\n",
              "  </tbody>\n",
              "</table>\n",
              "<p>500 rows × 20 columns</p>\n",
              "</div>\n",
              "      <button class=\"colab-df-convert\" onclick=\"convertToInteractive('df-be71bde2-b7a0-4003-98d9-12ae677b91af')\"\n",
              "              title=\"Convert this dataframe to an interactive table.\"\n",
              "              style=\"display:none;\">\n",
              "        \n",
              "  <svg xmlns=\"http://www.w3.org/2000/svg\" height=\"24px\"viewBox=\"0 0 24 24\"\n",
              "       width=\"24px\">\n",
              "    <path d=\"M0 0h24v24H0V0z\" fill=\"none\"/>\n",
              "    <path d=\"M18.56 5.44l.94 2.06.94-2.06 2.06-.94-2.06-.94-.94-2.06-.94 2.06-2.06.94zm-11 1L8.5 8.5l.94-2.06 2.06-.94-2.06-.94L8.5 2.5l-.94 2.06-2.06.94zm10 10l.94 2.06.94-2.06 2.06-.94-2.06-.94-.94-2.06-.94 2.06-2.06.94z\"/><path d=\"M17.41 7.96l-1.37-1.37c-.4-.4-.92-.59-1.43-.59-.52 0-1.04.2-1.43.59L10.3 9.45l-7.72 7.72c-.78.78-.78 2.05 0 2.83L4 21.41c.39.39.9.59 1.41.59.51 0 1.02-.2 1.41-.59l7.78-7.78 2.81-2.81c.8-.78.8-2.07 0-2.86zM5.41 20L4 18.59l7.72-7.72 1.47 1.35L5.41 20z\"/>\n",
              "  </svg>\n",
              "      </button>\n",
              "      \n",
              "  <style>\n",
              "    .colab-df-container {\n",
              "      display:flex;\n",
              "      flex-wrap:wrap;\n",
              "      gap: 12px;\n",
              "    }\n",
              "\n",
              "    .colab-df-convert {\n",
              "      background-color: #E8F0FE;\n",
              "      border: none;\n",
              "      border-radius: 50%;\n",
              "      cursor: pointer;\n",
              "      display: none;\n",
              "      fill: #1967D2;\n",
              "      height: 32px;\n",
              "      padding: 0 0 0 0;\n",
              "      width: 32px;\n",
              "    }\n",
              "\n",
              "    .colab-df-convert:hover {\n",
              "      background-color: #E2EBFA;\n",
              "      box-shadow: 0px 1px 2px rgba(60, 64, 67, 0.3), 0px 1px 3px 1px rgba(60, 64, 67, 0.15);\n",
              "      fill: #174EA6;\n",
              "    }\n",
              "\n",
              "    [theme=dark] .colab-df-convert {\n",
              "      background-color: #3B4455;\n",
              "      fill: #D2E3FC;\n",
              "    }\n",
              "\n",
              "    [theme=dark] .colab-df-convert:hover {\n",
              "      background-color: #434B5C;\n",
              "      box-shadow: 0px 1px 3px 1px rgba(0, 0, 0, 0.15);\n",
              "      filter: drop-shadow(0px 1px 2px rgba(0, 0, 0, 0.3));\n",
              "      fill: #FFFFFF;\n",
              "    }\n",
              "  </style>\n",
              "\n",
              "      <script>\n",
              "        const buttonEl =\n",
              "          document.querySelector('#df-be71bde2-b7a0-4003-98d9-12ae677b91af button.colab-df-convert');\n",
              "        buttonEl.style.display =\n",
              "          google.colab.kernel.accessAllowed ? 'block' : 'none';\n",
              "\n",
              "        async function convertToInteractive(key) {\n",
              "          const element = document.querySelector('#df-be71bde2-b7a0-4003-98d9-12ae677b91af');\n",
              "          const dataTable =\n",
              "            await google.colab.kernel.invokeFunction('convertToInteractive',\n",
              "                                                     [key], {});\n",
              "          if (!dataTable) return;\n",
              "\n",
              "          const docLinkHtml = 'Like what you see? Visit the ' +\n",
              "            '<a target=\"_blank\" href=https://colab.research.google.com/notebooks/data_table.ipynb>data table notebook</a>'\n",
              "            + ' to learn more about interactive tables.';\n",
              "          element.innerHTML = '';\n",
              "          dataTable['output_type'] = 'display_data';\n",
              "          await google.colab.output.renderOutput(dataTable, element);\n",
              "          const docLink = document.createElement('div');\n",
              "          docLink.innerHTML = docLinkHtml;\n",
              "          element.appendChild(docLink);\n",
              "        }\n",
              "      </script>\n",
              "    </div>\n",
              "  </div>\n",
              "  "
            ]
          },
          "metadata": {},
          "execution_count": 63
        }
      ]
    },
    {
      "cell_type": "code",
      "source": [
        "lol_match_data.to_csv('lol_match_data.csv', header=False, index=False)"
      ],
      "metadata": {
        "id": "2dgnop_7d5DV"
      },
      "execution_count": 62,
      "outputs": []
    },
    {
      "cell_type": "code",
      "source": [
        "import pandas as pd\n",
        "import requests\n",
        "import json\n",
        "\n",
        "# Riot API endpoint\n",
        "base_url = \"https://asia.api.riotgames.com\"\n",
        "\n",
        "# Your API key\n",
        "api_key = \"your_api_key\"\n",
        "\n",
        "# List of user PUUIDs\n",
        "puuids = [\"puuid1\", \"puuid2\", \"puuid3\"]\n",
        "\n",
        "# List of match IDs for each user\n",
        "match_ids = []\n",
        "\n",
        "# Collect match IDs for each user\n",
        "for puuid in puuids:\n",
        "    response = requests.get(\n",
        "        f\"{base_url}/lol/match/v5/matches/by-puuid/{puuid}/ids\",\n",
        "        headers={\"X-Riot-Token\": api_key},\n",
        "    )\n",
        "    match_ids.append(response.json())\n",
        "\n",
        "# Create an empty DataFrame with columns for each match\n",
        "columns = [\"match_id\", \"champion\", \"items\", \"win\", \"lose\", \"kda\", \"role\"]\n",
        "df = pd.DataFrame(columns=columns)\n",
        "\n",
        "# Loop through each user's match IDs and collect data\n",
        "for i, puuid in enumerate(puuids):\n",
        "    for match_id in match_ids[i]:\n",
        "        response = requests.get(\n",
        "            f\"{base_url}/lol/match/v5/matches/{match_id}\",\n",
        "            headers={\"X-Riot-Token\": api_key},\n",
        "        )\n",
        "        match_data = response.json()\n",
        "\n",
        "        # Extract relevant data from match data\n",
        "        champion = ...\n",
        "        items = ...\n",
        "        win = ...\n",
        "        lose = ...\n",
        "        kda = ...\n",
        "        role = ...\n",
        "\n",
        "        # Add data to DataFrame as a new row\n",
        "        new_row = pd.DataFrame(\n",
        "            [[match_id, champion, items, win, lose, kda, role]],\n",
        "            columns=columns,\n",
        "        )\n",
        "        df = df.append(new_row, ignore_index=True)\n"
      ],
      "metadata": {
        "id": "EIPddP5OSKMz"
      },
      "execution_count": null,
      "outputs": []
    },
    {
      "cell_type": "markdown",
      "source": [
        "# 0321(화) 여러명의 매치 데이터 생성하기 "
      ],
      "metadata": {
        "id": "e2xi-fxuNDoX"
      }
    },
    {
      "cell_type": "code",
      "source": [
        "import requests\n",
        "import pandas as pd\n",
        "\n",
        "# Set your API key and the endpoint you want to use\n",
        "api_key = \"RGAPI-51c34da8-fcfc-4c82-8ebd-354fb62799cf\"\n",
        "request_header = {\n",
        "    \"User-Agent\": \"Mozilla/5.0 (Macintosh; Intel Mac OS X 10_15_7) AppleWebKit/537.36 (KHTML, like Gecko) Chrome/110.0.0.0 Safari/537.36\",\n",
        "    \"Accept-Language\": \"ko-KR,ko;q=0.9,en-US;q=0.8,en;q=0.7\",\n",
        "    \"Accept-Charset\": \"application/x-www-form-urlencoded; charset=UTF-8\",\n",
        "    \"Origin\": \"https://developer.riotgames.com\",\n",
        "    \"X-Riot-Token\": \"RGAPI-f7b1583f-6a39-4310-8fdd-6c02d853616d\"\n",
        "\n",
        "}\n",
        "endpoint = \"https://kr.api.riotgames.com/lol/match/v5/matches/{match_id}\"\n",
        "\n",
        "# Set the list of summoner names you want to analyze\n",
        "summoner_names = [\"J꾸짖을 갈\", \"푸 투\", \"마법소녀 모야삡\", \"응애소나\", \"막타의호흡\"]\n",
        "\n",
        "# Get the account IDs for the players you want to analyze\n",
        "account_ids = []\n",
        "for summoner_name in summoner_names:\n",
        "    region = \"kr\"\n",
        "    url = f\"https://{region}.api.riotgames.com/lol/summoner/v4/summoners/by-name/{summoner_name}?api_key={api_key}\"\n",
        "    response = requests.get(url, headers = request_header)\n",
        "    account_id = response.json()[\"accountId\"]\n",
        "    account_ids.append(account_id)\n",
        "\n",
        "\n",
        "# Set the query parameters for the match list\n",
        "params = {\n",
        "    \"queue\": 420,  # Only get data for Ranked Solo/Duo games\n",
        "    \"season\": 13,  # Only get data for Season 13\n",
        "    \"champion\": None,  # No champion filtering\n",
        "    \"beginIndex\": 0,  # Start at the first match\n",
        "    \"endIndex\": 100,  # Get the first 100 matches\n",
        "}\n",
        "\n",
        "# Create an empty dataframe to store the match data\n",
        "df = pd.DataFrame(columns=[\"match_id\", \"win\", \"champ_name\", \"kills\", \"deaths\", \"assists\", \"kda\", \"role\", \"lane\"])\n",
        "\n",
        "# Loop over the account IDs and get the match data for each one\n",
        "for account_id in account_ids:\n",
        "    # Get the match list for the specified account ID and query parameters\n",
        "    url = f\"https://{region}.api.riotgames.com/lol/match/v5/matchlists/by-account/{account_id}\"\n",
        "    response = requests.get(url, params=params, headers=request_header)\n",
        "    \n",
        "    # Parse the response and create a list of match IDs\n",
        "    match_list = response.json()[\"matches\"]\n",
        "    match_ids = [match[\"gameId\"] for match in match_list]\n",
        "\n",
        "    # Loop over the match IDs and get the match data for each one\n",
        "    for match_id in match_ids:\n",
        "        url = endpoint.format(match_id=match_id)\n",
        "        response = requests.get(url, headers={\"X-Riot-Token\": api_key})\n",
        "        data = response.json()\n",
        "        win = None\n",
        "        champ_name = None\n",
        "        k = None\n",
        "        d = None\n",
        "        a = None\n",
        "        kda = None\n",
        "        role = None\n",
        "        lane = None\n",
        "        for participant in data[\"participants\"]:\n",
        "            if participant[\"participantId\"] == data[\"participantIdentities\"][0][\"participantId\"]:\n",
        "                win = participant[\"stats\"][\"win\"]\n",
        "                champ_name = participant[\"championId\"]\n",
        "                k = participant[\"stats\"][\"kills\"]\n",
        "                d = participant[\"stats\"][\"deaths\"]\n",
        "                a = participant[\"stats\"][\"assists\"]\n",
        "                kda = (k + a) / max(d, 1)\n",
        "                role = participant[\"timeline\"][\"role\"]\n",
        "                lane = participant[\"timeline\"][\"lane\"]\n",
        "                break\n",
        "        if win is not None and data[\"queueId\"] == 420 and data[\"seasonId\"] == 13 and champ_name is not None and \\\n",
        "                data[\"participants\"][0][\"highestAchievedSeasonTier\"] == \"GOLD\" and role == \"SOLO\" and lane == \"MIDDLE\":\n",
        "            df = df.append({\"match_id\": match_id, \"win\": win, \"champ_name\": champ_name})"
      ],
      "metadata": {
        "colab": {
          "base_uri": "https://localhost:8080/",
          "height": 241
        },
        "id": "RK54697GREb5",
        "outputId": "d30e3419-53b1-4b3c-dc30-64ab5a6b585a"
      },
      "execution_count": 2,
      "outputs": [
        {
          "output_type": "error",
          "ename": "KeyError",
          "evalue": "ignored",
          "traceback": [
            "\u001b[0;31m---------------------------------------------------------------------------\u001b[0m",
            "\u001b[0;31mKeyError\u001b[0m                                  Traceback (most recent call last)",
            "\u001b[0;32m<ipython-input-2-89a7c7e46cdf>\u001b[0m in \u001b[0;36m<module>\u001b[0;34m\u001b[0m\n\u001b[1;32m     23\u001b[0m     \u001b[0murl\u001b[0m \u001b[0;34m=\u001b[0m \u001b[0;34mf\"https://{region}.api.riotgames.com/lol/summoner/v4/summoners/by-name/{summoner_name}?api_key={api_key}\"\u001b[0m\u001b[0;34m\u001b[0m\u001b[0;34m\u001b[0m\u001b[0m\n\u001b[1;32m     24\u001b[0m     \u001b[0mresponse\u001b[0m \u001b[0;34m=\u001b[0m \u001b[0mrequests\u001b[0m\u001b[0;34m.\u001b[0m\u001b[0mget\u001b[0m\u001b[0;34m(\u001b[0m\u001b[0murl\u001b[0m\u001b[0;34m,\u001b[0m \u001b[0mheaders\u001b[0m \u001b[0;34m=\u001b[0m \u001b[0mrequest_header\u001b[0m\u001b[0;34m)\u001b[0m\u001b[0;34m\u001b[0m\u001b[0;34m\u001b[0m\u001b[0m\n\u001b[0;32m---> 25\u001b[0;31m     \u001b[0maccount_id\u001b[0m \u001b[0;34m=\u001b[0m \u001b[0mresponse\u001b[0m\u001b[0;34m.\u001b[0m\u001b[0mjson\u001b[0m\u001b[0;34m(\u001b[0m\u001b[0;34m)\u001b[0m\u001b[0;34m[\u001b[0m\u001b[0;34m\"accountId\"\u001b[0m\u001b[0;34m]\u001b[0m\u001b[0;34m\u001b[0m\u001b[0;34m\u001b[0m\u001b[0m\n\u001b[0m\u001b[1;32m     26\u001b[0m     \u001b[0maccount_ids\u001b[0m\u001b[0;34m.\u001b[0m\u001b[0mappend\u001b[0m\u001b[0;34m(\u001b[0m\u001b[0maccount_id\u001b[0m\u001b[0;34m)\u001b[0m\u001b[0;34m\u001b[0m\u001b[0;34m\u001b[0m\u001b[0m\n\u001b[1;32m     27\u001b[0m \u001b[0;34m\u001b[0m\u001b[0m\n",
            "\u001b[0;31mKeyError\u001b[0m: 'accountId'"
          ]
        }
      ]
    },
    {
      "cell_type": "code",
      "source": [
        "print(response.content)"
      ],
      "metadata": {
        "colab": {
          "base_uri": "https://localhost:8080/"
        },
        "id": "rxbd1LXrTchW",
        "outputId": "b4f488e0-5761-482e-8c54-8fba2bab886e"
      },
      "execution_count": 3,
      "outputs": [
        {
          "output_type": "stream",
          "name": "stdout",
          "text": [
            "b'{\"status\":{\"message\":\"Forbidden\",\"status_code\":403}}'\n"
          ]
        }
      ]
    },
    {
      "cell_type": "markdown",
      "source": [
        "# 일단 puuid 리스트 추출"
      ],
      "metadata": {
        "id": "fvB9S600yymt"
      }
    },
    {
      "cell_type": "code",
      "source": [
        "import requests\n",
        "import json\n",
        "api_key = 'RGAPI-51c34da8-fcfc-4c82-8ebd-354fb62799cf'\n",
        "username = \"어푸 어푸\"\n",
        "puuid_url = \"https://kr.api.riotgames.com/lol/summoner/v4/summoners/by-name/\" + username + \"?api_key=\" + api_key\n",
        "r = requests.get(puuid_url)\n",
        "r = r.json()\n",
        "r\n",
        "request_header = {\n",
        "    \"User-Agent\": \"Mozilla/5.0 (Macintosh; Intel Mac OS X 10_15_7) AppleWebKit/537.36 (KHTML, like Gecko) Chrome/110.0.0.0 Safari/537.36\",\n",
        "    \"Accept-Language\": \"ko-KR,ko;q=0.9,en-US;q=0.8,en;q=0.7\",\n",
        "    \"Accept-Charset\": \"application/x-www-form-urlencoded; charset=UTF-8\",\n",
        "    \"Origin\": \"https://developer.riotgames.com\",\n",
        "    \"X-Riot-Token\": \"RGAPI-f7b1583f-6a39-4310-8fdd-6c02d853616d\"\n",
        "\n",
        "}\n",
        " \n",
        "    # Make a request to the League API for each user who meets the criteria\n",
        "    response = requests.get(summoner_url.format(summonerName=''), headers=headers)\n",
        "    summoner_data = response.json()\n",
        "    encrypted_summoner_id = summoner_data['id']\n",
        "    response = requests.get(league_url.format(encryptedSummonerId=encrypted_summoner_id), headers=headers)\n",
        "    league_data = response.json()\n",
        "\n",
        "# Set up the rank and position criteria\n",
        "rank = 'GOLD'\n",
        "position = 'MID'\n",
        "\n",
        "# Set up an empty list to store the puuids of users who meet the criteria\n",
        "puuids = []\n",
        "\n",
        "# Iterate over each region\n",
        "for region in regions:\n",
        "    # Set up the Summoner API endpoint URL\n",
        "    summoner_url = base_url.format(region=region) + '/lol/summoner/v4/summoners/by-name/{summonerName}'\n",
        "    \n",
        "    # Set up the League API endpoint URL\n",
        "    league_url = base_url.format(region=region) + '/lol/league/v4/entries/by-summoner/{encryptedSummonerId}'\n",
        "    \n",
        "    # Set up the headers for the API requests\n",
        "    headers = {'X-Riot-Token': api_key}\n",
        "    \n",
        "    # Make a request to the League API for each user who meets the criteria\n",
        "    response = requests.get(summoner_url.format(summonerName=''), headers=headers)\n",
        "    summoner_data = response.json()\n",
        "    encrypted_summoner_id = summoner_data['id']\n",
        "    response = requests.get(league_url.format(encryptedSummonerId=encrypted_summoner_id), headers=headers)\n",
        "    league_data = response.json()\n",
        "    \n",
        "    # Check if the user meets the criteria and add their puuid to the list if they do\n",
        "    if league_data and league_data[0]['queueType'] == 'RANKED_SOLO_5x5' and league_data[0]['tier'] == rank and league_data[0]['position'] == position:\n",
        "        puuids.append(summoner_data['puuid'])\n",
        "\n",
        "# Print the list of puuids\n",
        "print(puuids)\n"
      ],
      "metadata": {
        "colab": {
          "base_uri": "https://localhost:8080/",
          "height": 241
        },
        "id": "0w0NT3fAy4E2",
        "outputId": "45d488a4-0bec-4c6c-d9ba-22787c26b376"
      },
      "execution_count": 4,
      "outputs": [
        {
          "output_type": "error",
          "ename": "KeyError",
          "evalue": "ignored",
          "traceback": [
            "\u001b[0;31m---------------------------------------------------------------------------\u001b[0m",
            "\u001b[0;31mKeyError\u001b[0m                                  Traceback (most recent call last)",
            "\u001b[0;32m<ipython-input-4-65df06b0196c>\u001b[0m in \u001b[0;36m<module>\u001b[0;34m\u001b[0m\n\u001b[1;32m     31\u001b[0m     \u001b[0mresponse\u001b[0m \u001b[0;34m=\u001b[0m \u001b[0mrequests\u001b[0m\u001b[0;34m.\u001b[0m\u001b[0mget\u001b[0m\u001b[0;34m(\u001b[0m\u001b[0msummoner_url\u001b[0m\u001b[0;34m.\u001b[0m\u001b[0mformat\u001b[0m\u001b[0;34m(\u001b[0m\u001b[0msummonerName\u001b[0m\u001b[0;34m=\u001b[0m\u001b[0;34m''\u001b[0m\u001b[0;34m)\u001b[0m\u001b[0;34m,\u001b[0m \u001b[0mheaders\u001b[0m\u001b[0;34m=\u001b[0m\u001b[0mheaders\u001b[0m\u001b[0;34m)\u001b[0m\u001b[0;34m\u001b[0m\u001b[0;34m\u001b[0m\u001b[0m\n\u001b[1;32m     32\u001b[0m     \u001b[0msummoner_data\u001b[0m \u001b[0;34m=\u001b[0m \u001b[0mresponse\u001b[0m\u001b[0;34m.\u001b[0m\u001b[0mjson\u001b[0m\u001b[0;34m(\u001b[0m\u001b[0;34m)\u001b[0m\u001b[0;34m\u001b[0m\u001b[0;34m\u001b[0m\u001b[0m\n\u001b[0;32m---> 33\u001b[0;31m     \u001b[0mencrypted_summoner_id\u001b[0m \u001b[0;34m=\u001b[0m \u001b[0msummoner_data\u001b[0m\u001b[0;34m[\u001b[0m\u001b[0;34m'id'\u001b[0m\u001b[0;34m]\u001b[0m\u001b[0;34m\u001b[0m\u001b[0;34m\u001b[0m\u001b[0m\n\u001b[0m\u001b[1;32m     34\u001b[0m     \u001b[0mresponse\u001b[0m \u001b[0;34m=\u001b[0m \u001b[0mrequests\u001b[0m\u001b[0;34m.\u001b[0m\u001b[0mget\u001b[0m\u001b[0;34m(\u001b[0m\u001b[0mleague_url\u001b[0m\u001b[0;34m.\u001b[0m\u001b[0mformat\u001b[0m\u001b[0;34m(\u001b[0m\u001b[0mencryptedSummonerId\u001b[0m\u001b[0;34m=\u001b[0m\u001b[0mencrypted_summoner_id\u001b[0m\u001b[0;34m)\u001b[0m\u001b[0;34m,\u001b[0m \u001b[0mheaders\u001b[0m\u001b[0;34m=\u001b[0m\u001b[0mheaders\u001b[0m\u001b[0;34m)\u001b[0m\u001b[0;34m\u001b[0m\u001b[0;34m\u001b[0m\u001b[0m\n\u001b[1;32m     35\u001b[0m     \u001b[0mleague_data\u001b[0m \u001b[0;34m=\u001b[0m \u001b[0mresponse\u001b[0m\u001b[0;34m.\u001b[0m\u001b[0mjson\u001b[0m\u001b[0;34m(\u001b[0m\u001b[0;34m)\u001b[0m\u001b[0;34m\u001b[0m\u001b[0;34m\u001b[0m\u001b[0m\n",
            "\u001b[0;31mKeyError\u001b[0m: 'id'"
          ]
        }
      ]
    },
    {
      "cell_type": "code",
      "source": [
        "import requests\n",
        "import json\n",
        "#####\n",
        "api_key = 'RGAPI-51c34da8-fcfc-4c82-8ebd-354fb62799cf'\n",
        "username = \"어푸 어푸\"\n",
        "user_url = \"https://kr.api.riotgames.com/lol/summoner/v4/summoners/by-name/\" + username + \"?api_key=\" + api_key\n",
        "r = requests.get(user_url)\n",
        "r = r.json()\n",
        "r\n",
        "########"
      ],
      "metadata": {
        "colab": {
          "base_uri": "https://localhost:8080/"
        },
        "id": "AimhEi4wzHeg",
        "outputId": "858de299-cfb0-4c2a-9ca2-fb3c1a2d4515"
      },
      "execution_count": 12,
      "outputs": [
        {
          "output_type": "execute_result",
          "data": {
            "text/plain": [
              "{'id': 'dvPo35tCj1LM_Kj6haByu0C_GtbBoAfB3ozdqGDklpU9wp4l',\n",
              " 'accountId': 'zDhD7gvMnw4BnMr97kT4LXjeon_rDWID3_lDgPiML96uNReO__Pj6hxz',\n",
              " 'puuid': '4igndmTzuWF_b_mPNsjwtKqtFlCd81fKBfwXN8KsUdBE58ZsPei1og5iwgaawhN6LFC_V-vAXPCROw',\n",
              " 'name': '어푸 어푸',\n",
              " 'profileIconId': 4881,\n",
              " 'revisionDate': 1678712298000,\n",
              " 'summonerLevel': 34}"
            ]
          },
          "metadata": {},
          "execution_count": 12
        }
      ]
    },
    {
      "cell_type": "markdown",
      "source": [
        "# gold tier user들의 summoner name과 summoner id를 데이터 프레임 형식으로 저장"
      ],
      "metadata": {
        "id": "WW5ZcpVu2IG-"
      }
    },
    {
      "cell_type": "code",
      "source": [
        "import requests\n",
        "import pandas as pd\n",
        "\n",
        "# Replace {api_key} with your Riot API key\n",
        "api_key = 'RGAPI-51c34da8-fcfc-4c82-8ebd-354fb62799cf'\n",
        "\n",
        "# Set up the base URL for the Riot API\n",
        "base_url = 'https://{region}.api.riotgames.com'\n",
        "\n",
        "# Set up the regions you're interested in\n",
        "regions = ['kr']\n",
        "\n",
        "# Set up the rank and division criteria\n",
        "rank = 'GOLD'\n",
        "division = 'I'\n",
        "\n",
        "# Set up an empty list to store the user data\n",
        "user_data = []\n",
        "\n",
        "# Iterate over each region\n",
        "for region in regions:\n",
        "    # Set up the League API endpoint URL\n",
        "    league_url = base_url.format(region=region) + '/lol/league-exp/v4/entries/RANKED_SOLO_5x5/{tier}/{division}'\n",
        "    # Set up the headers for the API requests\n",
        "    headers = {'X-Riot-Token': api_key}\n",
        "    \n",
        "    # Make a request to the League API for users who meet the criteria\n",
        "    response = requests.get(league_url.format(tier=rank, division=division), headers=headers)\n",
        "    league_data = response.json()\n",
        "    \n",
        "    # Iterate over each user and collect their data\n",
        "    for user in league_data:\n",
        "        user_dict = {\n",
        "            'summoner_id' : user['summonerId'],\n",
        "            'summoner_name': user['summonerName'],\n",
        "#            'wins': user['wins'],\n",
        "#           'losses': user['losses'],\n",
        "#            'win_ratio': user['wins'] / (user['wins'] + user['losses'])\n",
        "        }\n",
        "        user_data.append(user_dict)\n",
        "\n",
        "# Convert the list of user data to a pandas DataFrame\n",
        "df = pd.DataFrame(user_data)\n",
        "\n",
        "# Print the DataFrame\n",
        "print(df)\n"
      ],
      "metadata": {
        "colab": {
          "base_uri": "https://localhost:8080/"
        },
        "id": "q3JkMaCa2N3y",
        "outputId": "a99d7e8f-61b3-44e7-c226-8bbdd8e7e7b8"
      },
      "execution_count": 19,
      "outputs": [
        {
          "output_type": "stream",
          "name": "stdout",
          "text": [
            "                                          summoner_id  summoner_name\n",
            "0    xn87B73DmRFH_2m42rX7B9eTe9kWWMKMSG97yXO2UlMf2lep         J꾸짖을 갈\n",
            "1    QPi-8CUDhm_mYttzQKpDR3EYhgRraB05V-DpX21HVmwN3DYG            푸 투\n",
            "2    wO6e2sgb8s5qexhWcAOV60yTn6cppq4kVTNLnB4P9HqhKqGP       마법소녀 모야삡\n",
            "3    avNBhDDrbGeoKshj0k4RBSgKU7zXgJA0p60UbXvDFgNLtvkh           응애소나\n",
            "4    YRpk_hdXNUS_7QNh3h9VV5ReoiMcxvLSMK1_PTsWYdNyDarA          막타의호흡\n",
            "..                                                ...            ...\n",
            "200  qMC2lQIduOOGKUg6g6vt8q3tUbFZX_kEuvhFxgonorFVHsn9        MMMMMID\n",
            "201  0-AOeJBCbJ6syrz8AZgii9ulRKtvI8wEtzBK9xh9LRg1w4Uu         공용혜지냥이\n",
            "202  8QUuw-uqvuW-yaCH8hNr-cGD28vEMV39DON_SA-0Edtk4tTT       이봐요 롱탐노씨\n",
            "203  HzvETRuNiP3qQgK0MItYrMlfE9fyA1_SlqaoU0opTIj7qcI3        JHBRANT\n",
            "204  XmxRPW5_nhwSHdRER-hb9ckMDYhN7wXUim9D-wPUe1py7Txn   MEVIUS CASSI\n",
            "\n",
            "[205 rows x 2 columns]\n"
          ]
        }
      ]
    },
    {
      "cell_type": "code",
      "source": [],
      "metadata": {
        "id": "K5NvYp80A2dG"
      },
      "execution_count": null,
      "outputs": []
    },
    {
      "cell_type": "markdown",
      "source": [
        "# 위 데이터 프레임에서 summoner id만 리스트로 만들기"
      ],
      "metadata": {
        "id": "BbNR2lkF3_Re"
      }
    },
    {
      "cell_type": "code",
      "source": [
        "# Extract the 'summoner_id' column from the DataFrame as a pandas Series\n",
        "summoner_id_series = df['summoner_id']\n",
        "\n",
        "# Convert the Series to a list\n",
        "summoner_id_list = summoner_id_series.tolist()\n",
        "\n",
        "# Print the resulting list\n",
        "print(summoner_id_list)\n"
      ],
      "metadata": {
        "colab": {
          "base_uri": "https://localhost:8080/"
        },
        "id": "AEI4MPew4-0O",
        "outputId": "43107526-26e0-405f-a03f-d3373ccfcf96"
      },
      "execution_count": 22,
      "outputs": [
        {
          "output_type": "stream",
          "name": "stdout",
          "text": [
            "['xn87B73DmRFH_2m42rX7B9eTe9kWWMKMSG97yXO2UlMf2lep', 'QPi-8CUDhm_mYttzQKpDR3EYhgRraB05V-DpX21HVmwN3DYG', 'wO6e2sgb8s5qexhWcAOV60yTn6cppq4kVTNLnB4P9HqhKqGP', 'avNBhDDrbGeoKshj0k4RBSgKU7zXgJA0p60UbXvDFgNLtvkh', 'YRpk_hdXNUS_7QNh3h9VV5ReoiMcxvLSMK1_PTsWYdNyDarA', 'ivGNQHWrww9HGNVvidlMR6nHYAYPXsduMXZenyc9Yeho4hSS', 'BNCP-z1GdtORGDJHgGtDqeoaVLjSDnkn12T1fXziPZsNuIU8', 'RXPcjiUmBFwCTEMZRe4acW2SFevtgTV386otWA_ACfYcfQEo', 'eoliDpTZ4Vim88RkuXBeq-eHuEyl7Ideohj_0k7CF7niKZ4', 'uJrIczRq5mkBWECBe-_54aslKZPRKJcFATYdr2RkGQydTRw', 'dD0xBiYBvTEf72R0jeOrPGS7xvFiJxP7JNrWpc1K1PjswLo', 'pa-iqoYBBBwdzgbqJoFC9a9_Re7PMVF2gXHNETnPW9c9YCs', 'zbtl5B4PsMtrgyWTv6BliH94gIBqXo4TOaq0pmG4MkmLi8gw', 'kOim0v43FmmF6BPgy2rl6yhjSkl8y32waan5yePcAq8Ddq3C', 'XYw9H4STjyVDaq3ucgIPc_3uySM4mLPgs3CJxbSWE8N-mhGU', '5APMU6HrYvZtP-DfGxMbXEukjDaFjTCda6PIRFFq_EvikeNn', 'lRKSu-pU4AJx_C8DVa87A2QiaPfb7uiQV1PpR127NS81i7E', 'rHYurWb4yErU1uQqknO8hIG3NHY-FUicmabCyVkBVxEUT9U', 'np8voCa6tIo0lgvvOUMoUOoFZDx9f6yIYd_6WnmYosdb9Q9H', 'RAs9O08X6pbdwXkvFFPYtWilFnkztEqjJ5r7THs9GkwmSNmt', 'MsUPVq6JcbdYoChcl89aYTI2dFhZ13UvDwf1nKQwGiLBCKz9', 'SOfNQ5qa2sABK6j8LUYDE9QPYoOCgyTubv0XFmTl3Drn2jJ0', '_jRZH98vsJfVPAtvLVLA5iOkDGhLCQ7Xg0Ork7EabOn0Y38b', 'qNTpm7wULlwC8qKcuKbjBFnfxh9lRwCsulwD6dVZ_BsqF3IE', 'twOWgBnY_hXnRhlgaz5TBVX5BivR9Lma5XF7lbZr9D_LHNm4', 'x-DVgTk9XM4tmZAwcuqvgrD9r2e70V1kiFdVCiPrlNgEEkk', 'qLWSdthPp9MXBmqEPKTEkxIblyV5C9Ou9tf5J4395L9WTrLw', 'SpvBvjQTP3PALrxLHbADY4Lv2-fgIk_WXYwhD96EN25itOC1', 'VnuDNU8RqCy-9UHmczLkxQFgAWnwP3g87l7yum7el1lXZcDw', 'NntV0UqgWBEZmgXqJDcxn98LlwTbUvPjEcXlrVoKkh8aU0ki', '3uAXyxihmnI7Zj6RvGMxHhgj-b1kr4cQQSSq6Jak8aQQZTE', 'p3mxm6jeYlyMMiGQeiAw5E2BptiriF7bAoPJgQ8eTqOGgdI', 'y9DpX4CLc6DOdX8KTfYw5fKOYk5mMOUNYCXYcyEwqI8qMXo', 'DotqyrtFdvaNHoWOY5Txkudf3P8uoWYBIGddRbKmwDLVqSfA', 'iEksOdpy8siIRyGMDl8awz3fPj0ApiZIeJfjl65v9S70FwM', '9v7di4y7J67wVVo1NthAhjSHOKKABjNZr_UlQQb4t2wynnrd', 'OgrX6YpJuNC2AB3iBDufeleGfIaPmb_gZWXB6HyLrdsrSAzZ', 'cieRekP8e831vGQ0lSlAsr4i27Le99zMxOqQLV8ScneCZwk', 'tlRX5oPPP_QP14xiG_jNZIb83ft_xl9csmt1yViNX91sE6k', 'LCRJ39pEKBYIqusb8S80UpcjUwnG0XwUgwh_QZY7Vjlkx64', '4GzFvw_YMH_vWZJzCWi1qD4ggSEnLKLFbt26FCyxYP0KwKY', 'bmUtYXMx3gkL-5VAIPioP_kiPnEF5cuBiu9a3ErAuC8_2os', 'kSLEqx5eou3129sIi82b4IxjLpg-N8LRY00JdGzxCrcxeExK', 'Iz1rW6zKJC3YrOJfs1kniTWCxPLsFleTVPFdEiIpuD-Pqq8m', 'vcv3-kANgq8mXIdo_1rIsbDT9Y1A3okp6pbGly8wKM9WDlYa', 'WLbCSdQc3NaBlpR1FRHeFVKp2U6tym9z6BBy-CS6UDaUj_a1', '4eZBTxesiM1Cx14-QeF9V_DO6t-bt8ss3GVPzWvH9DIMTNk', 'MYODGvEZnuk89eHPP3PIPoQNs0FKWC18vtwpHUmdPTVjavap', 'rA9oAniWFjF3RkvVH9OdGmdYlEvsm3eXSyBfz8Yql9rDfQU', 'v6egj-P7hnBdEeRygGFdiy5MbGscnylUk_yv4EKQVssMAdE', '0rTemM6kWuDG1GZe7d3Fc74qe7zo8Ka4Yylw4acHGvuiwvs', 'MwJk0N4iwYbnOLRymC5Xypv9OadlyG-pbGHO_iD-HYauauQ', '9XodJELpONThAuPsyvayG4mBTXGKDToAq6_jg3PAdgIPDO0', '6Uy1amsDICCHowra-OQHqt9_Tk8zEDnVPASSMlGyX7rgtJk', 'Jz47LDp0EGBnvFbrwSfnWexQcMcMl_xTKeXCEkR5Hb18iQ8', 'H9FjGMdQtBL5uIIE2gy1eh9CpD5uNRuoRwh2QYfuGTWfoGA', 'sE4cnBXvHnrrkrH2ro3SbGZBw91KgbnlQE5TXiyxm2TbNWg', '1bWx57SoMxmrbN3Zup16XdU1Zjl71uU-eaVAr3Y37Im9zUI', 'CtClrceKHPZKCizuPEb3Fl4dGU0vEjIx319OqZ0HPdYfSOw', 'cQR4WDZ5mSG2_CdfQB7kENP69bzS3ik3LFEfdNgFfdzi67NW', '6si1xpAac-LGBBIXum3v6XDhGhAy0pzm1-ahaVcw9QoOiMwO', 'VyJvS_oONL0nm4NroO67mjbnMNTs0MDp1ZqDVME3CgohL4wm', 'zV8HdRIlkk0RUoO3fpxqYdHu401V-emy6r2Uw0eCsU7VRcnW', 'BgAe9Xe8erVw5hltBFRMuQUU0JbGaqJMqyGQ0zJqhiFmMlBY', 'uKA3P59kFdo_Uj6zh9ssKn0IWwB4S2VARU4KSqAObdnpXSjz', 'HAQdNTrzeWCqzCl24mL6F77DinU7AufvN1FqY8H7B68Rkmek', 'SX9vkw1bUyWkO-YKt9GiCnUYtb-2MSL-wGo6xEnwmpKtnxg', 'bL1JPbb1e-sNkZRWkMCIyTo4HriEiWXJlR_8DHnvuM4BQys', 'uRrG9fTNo1Uz_NGOvpeXsIf7SqIxFejgwSdXQBrDYGmi3m4', 'RYrSt5D5uUzpTQ-zxL-yUmYzB3UU32yUUQV8XijMx7rczRA', 'qpMMyXFz5F2aGP7stTHDvgbAjKv8_COlAG0cCFObsWoqvMg', '38zwPfJOIiTkbUsoUz4VsGo7mJwP5YrPPSMgVQB8s2AHqOMg', 'zpyoYLo2FIUafxx7Dq-n5pmWBzUiiEUbTMSV55312UusmTGb', '7_y4yM8kjwppGJdsLeLaKRJZt8wM6GPd5l3XzTKCtQHUN1WI', 'TGGuJ2vmaz4B3mTX49P2GIti6JDelQlGOCCeXwr5c7OpKrZH', '5p07UlZU5yU3HjfLHcnn_rkH1DfLVlSQV--xhr2qYlvcDLkj', 'i8vS9bvjUt7mkx30xDb9UrI797hyrotmuVFw751FXD4RFX4', 'jq--FT3y6zPvJQF24ERmRatX74pjNGoI1vzaDOfNxtDI0qHG', 'oe4bOfu3tQ2h4dPq1NJsL_Gs-icnIEMNN8MREvaoHSpLKsU', 'NGAq3yiSMDzkUg4MBJalUy64aPtk2ow8nfYxANSt7coHFLMl', '19gMcb-T7XM-Jive64_KmcV63amSZH7KMnaKaVpClu4OzyeI', 'uA-uMkZQVaLmbsOm4GQXxnEWlhPDDc2hAN4PVl0HjasrnWyV', 'nN4obWHjyRbzHeZJITKtmGWt8OsgmjcipcAF4AmtbVQU7NA', '_ATSt2YAwl7z6BFNu-B8misjB2LL731QS-QushPSIN595ZSV', '6ei5WET9JbMQt8yXhq79bbJuunrB7i7JEN-cPMYMhvUR1IFL', 'z3FnfW2e01MV5ki3cla2Jn7BkVf7TT-0UWO0ylwIhqZwP1E', 'K0VAZGtrRrsJVg3uXR1JPok2hj-KrhnwFWSJnoKDYeYOoE8s', 'RRRdB-hLrhENjGerZKd4zabF4WG7JXFdxwNLfh9khTxJixs', 'SC6h_aACHm9WW9wdxywWkQvQyVzhZB3PPPStNAgY1X4ogHYX', '5cZOwmHM4kbFfR6YwLdm4YkE2fBLd-MIqZQYGN1zekrEkJs', 'klezzVJaJ2xAj3YpP1tVv1JNXFLbnXV7fOS56YM5ld6znds', 'gWPI98TONZKgVeqWcudhx9ylb6wbaDFFNrcfY_yJ0k8ALSU', 'l5npXn1YnkGBYLFSl853ElRIkLQ8NK6xGXHFro9-9KMkX24', 'Q5HlrYv8TY9kYwY5U-nLd9xL9Poof72ZCRchEClbdByQToo', 'xfRfW6WTyqiOuci2EZVqw4UGYak01a0mpljmql8GHYOn3RAP', 'CZGKdPJgB06XCMCrAtxYIBr8kkBJnDI1Ro3A42mXYPGy7VqE', 'gIxQlC5908-T8Ct2HweL2ajhdI0Az1NfOCSyzk9zZb-ITl7t', 'ifh8_8TGEkkLmgd6TTQGaFu6jzCb0fxeegAdAgP8lgKwJ7K_', 'TRBPbJl4vTRjsBi9NqMJn8t8mSgc3sizxhfodauOZozdY4g', 'jZ4d31s5yLn3Mkscc1s_N_MaoXUKTK5nunv2GgyBlL6OMGHE', 'SHD1j37bpIl6T6rp_9Jm0ljG-dpeyE8Bb3TyYq31MJmBx1Jz', 'xhzdey1TXCoHccxbEDQUr3frlhdNtyW8ZiSzm8LUMaLZvVld', 'wtVhWH3Cd1cZEfIdUUP1-lCConqO7Lni0DEntOCqeliu6ZQ', 'vZ0qeEI0a39XkGhFcm_MF-6zXdGLLiguScLTFlC_0q5TExA', 'UJ3cH-_sdNuNPw_tG7tvgepEdHI5mE5HA3h_LmAFNPDuZm_Q', 'BfMlRO0g9ZSEqC0zi-VsfLL9i6-JkeX5m-NsM7fDJ2GTXae4', 'fhITCwX53jBEVOdySPmsesOx1XjINyS-OdD9kNC4qEmyMuj7', 'qgsvlmihoWAJqROV-azQFMdF0nTFwnX7zdpA0tppmqpoRLuH', 'S8Ln-HxfUlkFdv1Vxt0yN_R1mTAFFggNVnd8YVN8kGHmuwyi', 'S-lMdJf4FXsSDcQ-fNLExxEzPOKi9kBdDlKBb-F-aiFlucz7', 'n9-5APl_VDITC9OuGM9YCOEsawweJRjcVoqx6AEsNfsr8N5t', 'MlaFOMQhZl0ocTEIzE5t9UakRtV7fhmvn3D16s4tl4IHq7ud', 'ookLg-eqzmN0cAyN8q90pNPqkRQ0XvpQVIHn57LFRb3ZJ5Gc', 'z9NJqM75lp3rNBxHDLV3jVOOLccQUjN8fl2i1kxoxiflZx4', 'eMJ9ukXTqHPMS4wocTmb69aUdONFjzhS4NTJuJr3LaI9XmTW', '_E91KoSMuJasYAKiJEG5r8i-aw2WAGABU30k5M2MvSkBIDvN', 'eElkDkSu2GqFbyZCAMKpcS0y0tST0ccMnVMomK8T-2rIyGyU', 'Gm8h1Ef9FvuAigRZvhLRGmz5oyT9K0qkcqwWCHDPqnxREud0', 'P-3N-nqvC3inuBXBaxTVwYC_5SNuHed0_1qgFwHoH7rzgf9V', 'fOXNXpUubPDXWH3_UOQNipko7O8-PgEJ7zAPPxTSEjbnLIdA', 'BB0XTaJvMvFW-7PX5-5dNNJ0tRQDKUKF8eSsRe2QMoP5oAZp', '-mvcf70fLlxllcSDu4V-gmoiEfuSqD5XJyImMIAGiCUobYWv', 'v6w_w2vHS3ImnLi-3s-bwAPgLG9hI71HPXtWG59xpEynPAKs', 'QuzYWn9vjf0TL7lQkIRKQt9nW6lj09skM1sft7wq0-Y_HxCq', 'VW_OSc_WYawDBcsQxjq1dj1_9uGy5WaITL5vsrKgH6LCR3I', 'Pd6-TKvZUq3sA6yN1Nz50ox2yyg7nBquzgKhlzl-sMJmzfk', '8PI-ol01CJmIVn1TlfaEj28blDr3qdsflFFgGBIHcMDuiaU', 'oC3eIr4ksrc0POJTKuMF1__8Qa7ag7bx9Y3i0RirfnZECkaX', 'IvO77RwoeuBkpgWdwGw17fjDxEHVvcoBL6HOy_DE7RvKWgq9', 'Z7SVS-dQxYlznaIvdElRQOaCHoX8g6cLgY6GBKfECeb1RLvj', '9gaCgyTUy6vmNQQe4O2-LondpWFGB2Y4Hg-Wwyd_ahsOOk_O', 'HwnGbaq53-Oa05yz4jTZw3Zlm0FVn7_D8ok0pRWTfxT94vBH', 'RgU_RqpzwYWJgIQgbNGhtJkM-HolbjKhkPQGx4xrxP0-jRZb', '5gEINA6Fy4Om3W0p_3Qv5uGIVGSmA_zxxDJstyx_lsj-m1st', '3H0rPzzL22WqsrUeslo_Mv0FNNlwF0pUagyH2dISzbWiWzSn', 'n6PpRcwuhv_ASco84L77B4MmhKJvjS0Pj93Um0qdoMPubFkQ', 'BIc_1J-ZVBzaFWflwxEAAhWrYm3hETHCr1s6ymQj5LfDRFNL', 'crbCk09jlHXYrxX2jBwe3uWOsbNly_h1wS2K4Y2MWpmqNxBz', 'wZpJcq7uobQpbksavAL328xlT7wgfkSTlV6sXDAv-JJipPPa', '8Q98WXlHK5Ntdw7HvReAyJDlSxnbguebTDf7hk-9p5Lt7wrq', 'RmvgP_5j_0NB7hD7MObj1uQI0FM6WT6SEB6fSA5UKv7akktt', 'a82m_lQdVT2pWIAovlAqE2S4WNHuFYwWlu5mSUjAsGGwIqlt', 'YIvRP9tMo7Ef741v3c3Bq69EW3MDTBuKaCwUplXsxHpa038', 'xv4IrWKgZBPhm1p6uPwsbRzg35kqmulCG-J5A4ulxBTXh8U', 'SsG_utvnTA-qdTaixecoNZRp1Mbk4NJy5_CLiIxiygLRJHc', '7yO07-9mmVx6qIYaqqgrBsjsnl_r5nt7oC5I4Uh5HomNCOo', '41X4m5bfeXToM8ivJns2Lya_xhgdAa-Dnrpw7kqV0c0cjWA', 'jrxTBRkmZEV6N909NyI4qwDsYlT4-N2i23bzQ4yHiwGVpJU', 'RyDaQUeI7WmIQP5UMUpwp894f2Q_kfs0AWRZsXWA22Wwzvw', 'zZu47AHzHaLkRAdTcciInqY8KM2qYwa8WX-6_LZYcam_Iwg', '_X_ZDRT4yfhAjcCQ1s-8Mlun15x41Mhk3_pmdyb2tzJjHb2w', 'M-1XL7-PmxAMtZHCONjSjLU9ngKWgcUgHeTHY68a6no5YabX', 'KhW2Uw7ZlIcZCt_5n54zqVa9K-TlYb-Kr9oGrXxgz5OBYFk', '2qSO-yFKeikIh0l_Bn6nL6QB0RcxrfeA_upyEKCUmc8zHj8V', 'qpbxy5cSyG6_-BZrnauz4yJChbXSeEq1ZVrthqVmczexQeov', '2V_X89z69JtMQLFOFUNUHjNdWqPpv7Xryr7z_iL1L3fzWXj2', 'JaoYr6jyKfCtcx0-kXnOZr7i4BWiabGyZl8GV1-3DSJmT_Dw', '3b0yKGP4PrsiWVvwbig4T4-zXUqWqxwDoUG9CI5TL9whjx4', 'bZFFX8KkBNHl9UA0DlGQqCKUXLbnwebr8_iC1K4ctWfh0CE', 'LROBdFX3cZaVNUyAQ96RaivgYCInbddSnIOB76xjKRq62AJU', 'BAVS_2uK2bSn6aGIFReB0nFNrC1GxYevHU5k2aOZ7nI3EHu8', 'VXV8J2fRlLqYpxBOat0LOIshycuIu7wryNFL0HMyIHDDqOrV', 'OAmBERAEM9444vrMeB7N6Jn-Mt7HVlZagq7aS1ILzWAI7wY', 'HNlLsXgAapAKJVST6dgC6F3q3vOFGXBG-zwzkcWZgBOs-Fs', 'NT0bblcNNDPpZUO92XboyPUX1JzUv5OHO-mbDPfcYE1XFJM', 'lAYYw_xnFsU061P9NzamyY2NEHatIDrlptxi_QqoQ-KNxxc', 'Mrw3YT2z-_V2JHQBSYgjUEoZ-p6IbTtPyPGxtwEp8ytbzXg', 'jcHklazB8v1TY3NokfgJKTcwnJm3h5WM5eircg1PRgQp6f0C', '282_y-jnBy7zEwD8tw_8JSUFieLs8TQJxI3TDySEasqLB4XE', '6su1Ff96gTS7vJIFLs7z7i2taPQiWKmd1dS_4avAw_oHpB1_', 'hv2xV6mwbjeKGKpx9vobpxxz0dQPYqv89x0QhWU2KDsGjhlv', 'An2J5uaJYTl-TRV_4PFaB-PXTyMMfahpTDOwuB4EJfAWnkok', 'Yq0x1Lfg6ZWH5tlINt19bqAQAv-mXU47m-bz_AZ7Byc5Tgzd', 'zKCrZ-Mt2ePDepqWBgRYMT2lDa2-7yWC-g_xGKLy0kcRrCL0', 'EwcM-ETrmq9LlAoc0Hv4JXCWhLlXXGH-G2F2pWYVoz6DsM-_', 'Uk_oQLV8RMT_SIQop1lJH8OKGv5lFIIbF25D0texmi7rm6Cz', 'PLMVV1l5UvWInRkK7RLpWS8xMcPgJyQfPFVMUZN_oylU62-G', 'GebFOoIhSvNzMHU6K7-MrUMrcMcYiNPU6bSCuFTPfXfmnRn2', 'fyLtZoDLiXYWmAVvIOlUbKA5e3ki6_F3wc0hfehgthd3b8Y', 'b-K-H3G-wXuiWDOgW6v7QXyjwvhZ5qpj0HgEqXR9cZArrqmV', 'YSrgdvibuEQQse0cGUIk8TpU_sPsEY9cPT__DcuCWHNRDGM', 'HP-Z75qTh-e-xl0C7g1QiQM4JylfqShp9P6STnlZnM1JVV6O', '9DPjnsBLCTpNULupmhVL07sQfkOJUCvN11TiZ6UOFeGXMSC0', 'NLvV-GOcJPvW0Z5CuW2nMw674Ts6qvsa6Au7B72VG71-mkA', '-F9d1qWWhgtB_dpxHBAGXgOmFJRayZ-QcVMQ7xp5AAduIj0', 'QymEKeiD4ot-eprP4T_ThJmjbE0sUD_k9ljhHMfk1FpV89k', 'zWrhOo6Hn3mRR3lkFtmMAmM80t_ItMD_6SsX-K0vGg7Vzp8', 'dnIccgcAXrorzqjob1prYu5mBiz6XWqNK2EE4dao-ta8S4E', 'pQDNsL94hlAujsXYIJolBqbBFQSdBlgDBezo858JeLsefAw', 'dJsk-V8aeAC_d2sQzRpNW8WsrXW22PVk1pRX3KRtGGQ1cHY', 'bu1pyiYja1r-YV49QqVxFKY-I09tX5FHCqxLYrJ3R_dNNDvE', 'GmOHGfTVzQdjW5lu0qnVv0EfK_vTlYhCViGjVHvlOy9aPFft', 'vex1vZBedOEMDNv0Qc9rSqJ2cJomm2_ULGGy57P7nhMJjej1', 'QiZ947uFPb2ZNDmcLjfduh5_Q5RYojQ4rnTKAb0NwVNERaLo', 'GhyQNZrz1HkOm7J-Zevt097bmzI_h-c36mdiZR6yuqMrkeh0', 'sORE4AEnLNGZP73OnMPDf6qN_wEmvort3c6uEqmytbAhmj1W', 'hc1xkoO8rFe2NXEF06KnrvHFh_v95mAyLFnTa5-1Xgf1B2g4', 'xF1eC3g5AH1DzuK4UE1j7wTupKJMe86r12V9seUQKFgAzd4K', '4uSGMn5Da-USQEDfAGlnf4g8EVk4Jc15COoqmnpmGL3oKbU', 'EP-wxCcMneRtW6T5kA1NN0CwkQu3vG97zr6mYt8fWmTbEkY', 'qMC2lQIduOOGKUg6g6vt8q3tUbFZX_kEuvhFxgonorFVHsn9', '0-AOeJBCbJ6syrz8AZgii9ulRKtvI8wEtzBK9xh9LRg1w4Uu', '8QUuw-uqvuW-yaCH8hNr-cGD28vEMV39DON_SA-0Edtk4tTT', 'HzvETRuNiP3qQgK0MItYrMlfE9fyA1_SlqaoU0opTIj7qcI3', 'XmxRPW5_nhwSHdRER-hb9ckMDYhN7wXUim9D-wPUe1py7Txn']\n"
          ]
        }
      ]
    },
    {
      "cell_type": "markdown",
      "source": [
        "# 추출된 summoner id 리스트에 해당되는 puuid 리스트 만들기 "
      ],
      "metadata": {
        "id": "cfgG3zvM5uKE"
      }
    },
    {
      "cell_type": "code",
      "source": [
        "# 4분 걸림 ... \n",
        "\n",
        "import requests\n",
        "import time\n",
        "import retrying\n",
        "\n",
        "# Replace {api_key} with your Riot API key\n",
        "api_key = 'RGAPI-51c34da8-fcfc-4c82-8ebd-354fb62799cf'\n",
        "\n",
        "# Set up the base URL for the Riot API\n",
        "base_url = 'https://kr.api.riotgames.com'\n",
        "\n",
        "# Set up the regions you're interested in\n",
        "regions = ['kr']\n",
        "\n",
        "# Set up an empty list to store the puuids\n",
        "puuid_list = []\n",
        "\n",
        "# Set up rate limit variables\n",
        "RATE_LIMIT_RETRIES = 5\n",
        "RATE_LIMIT_BACKOFF_FACTOR = 2\n",
        "\n",
        "# Set up retries variables\n",
        "RETRIES = 5\n",
        "BACKOFF_FACTOR = 2\n",
        "\n",
        "# Define a function to make a request to the Riot API with retries and rate limiting\n",
        "@retrying.retry(wait_exponential_multiplier=1000, wait_exponential_max=10000, stop_max_attempt_number=RETRIES)\n",
        "def request_riot_api(url, headers):\n",
        "    response = requests.get(url, headers=headers)\n",
        "    if response.status_code == 429:\n",
        "        retry_after = int(response.headers['Retry-After'])\n",
        "        time.sleep(retry_after + 1)\n",
        "        raise Exception('Rate limit exceeded, retrying...')\n",
        "    elif response.status_code != 200:\n",
        "        raise Exception(f'Request failed with status code {response.status_code}: {response.content.decode()}')\n",
        "    return response.json()\n",
        "\n",
        "# Iterate over each region\n",
        "for region in regions:\n",
        "    # Set up the Summoner API endpoint URL\n",
        "    summoner_url = base_url.format(region=region) + '/lol/summoner/v4/summoners/{encryptedSummonerId}'\n",
        "    \n",
        "    # Set up the headers for the API requests\n",
        "    headers = {'X-Riot-Token': api_key}\n",
        "    \n",
        "    # Iterate over each summoner ID in the list\n",
        "    for summoner_id in summoner_id_list:\n",
        "        # Make a request to the Summoner API for the corresponding puuid\n",
        "        for i in range(RATE_LIMIT_RETRIES):\n",
        "            try:\n",
        "                summoner_data = request_riot_api(summoner_url.format(encryptedSummonerId=summoner_id), headers)\n",
        "                break\n",
        "            except Exception as e:\n",
        "                print(e)\n",
        "                print(f'Retrying in {BACKOFF_FACTOR ** i} seconds...')\n",
        "                time.sleep(BACKOFF_FACTOR ** i)\n",
        "\n",
        "        # Append the puuid to the list\n",
        "        puuid_list.append(summoner_data['puuid'])\n",
        "\n",
        "# Print the resulting puuid list\n",
        "print(puuid_list)\n"
      ],
      "metadata": {
        "colab": {
          "base_uri": "https://localhost:8080/"
        },
        "id": "SiFTfuU97_SP",
        "outputId": "efc5ac32-1840-4d2f-ad00-20d03ffe18eb"
      },
      "execution_count": 27,
      "outputs": [
        {
          "output_type": "stream",
          "name": "stdout",
          "text": [
            "['YvRwtybq9iG4ybIeLn9osnfzrUPob5bNgcVkOwWJd5jm9hs70w0jy9_mdH3VCwekIzM1vnrk7rq8Kg', 'ev9cR3_z9HIDe-BbdMP8KcSQb1micGugw_ogBcCWUdUI4cyrrV6Np3ozKtFexJIkJ0gc47CCsl6AUg', '7dGrIHqteZzlicQ9pgm80swBRNzmV16qYFeVnmRZBYrkotQxCzBme84SDGVjMQP5xn-qAn8Vdqx4Hw', 'KcjxziNxPL21KTZTnW0Uyp4Mg-uW36xuJZCA43qte_AFG_nQ6Ti8V_MBH8laS9-dLF8RKJimW-Yoew', 'uQlxMetzKy8xUqKvrTtNmSHU4zBKGihpZA20fcwd7Ao1lcGCKJBhU2QyRhkm9i-V5OwiNNOSaRoCJQ', 'AXLhMB-GcfRoFrmFSHSosnGXZhvAYAgW55FeZX_8v6QCGlM9UC1snKNcAr_z-ag38PBnPY_hAqUKzQ', 'dlSZLefbV8gYfAlDw87WO3a1de1OZpQ4ieGcyHHOKyBTWdX7bBPwqo-SIsAmE6XxCh-39kGAPk0K-Q', '89KMebQJVJ9h2NpQjQsdQU_CDlOR3wgYHv0rcCcfM8T7cULGCvE2_gj9QpjHpbIcHa6BC0YxE7tMZA', 'Ci1TFrPtdo8xEL5tLaVCmZAIzv7cbjf-aRnIJg8pWGpv7C1B2p258sgQF517sNT0xr38uADw2wboWQ', '1BqmT4PHg-HI_RNCV1w9cY6GRGK2Li-Dj38hsH2VGuKk8zmDJ2toVQTgJqpciYaLzP2pEtDdVFsf9w', 's8XrlAjztzTANMZSj1H7Qy6DEbD6-1gcTyQFjlKpTPEI_Eaqkw2b0HNSyY-s314NiznX7xuAsEY96g', 'kQD_WQJIMpovJrWSTmZpoI6zOHl-5RhFzquvkE3I9_iuC0HT7DpElTy2MSJSDRTCJw2SPkrbnWqc1w', 'rxEjY5WSjOSqaoJc_SWzVS2emhpshKwtRcM-HK5z0tzUljyRv_LI44l-DRXPu-mJQb_zVKCrDqvxMA', 'goviJRx4EbvpFH32-Yl-O17w9ZlZc-IBcnrYFfiXkeOZjFqEswT0esRBb8kADjXvjUdxmNZl6zDZhA', '4twjproiQZzcnrjPfWu0WlrzTVgdJ92Zp7Srrk64XjXtpmrwtKNz5Ynkejk8qLAt7JQ4hqe0M0UJsg', 'okfbBK_-IDtmzLfozk7bqNy4brGy4qyQHR31k057WPzmpeSTD8_v8txD0DI6snEmji89x7IfARjTIg', 'eF5Ng77iYnWNiLPHCsj29pMDAUagoUGYNZo4S3E4Je7CP-jsTmxQtHS0AUcG4AC3Rd0BCWcp9j7q6Q', 'e-1C3Dh-7CXI0PCRVfEFCG4ZvvSvkN7PaqN7NBMltdIhXcIIwJ0RIZuOpiAVqQabqJzUIWrBaPW8GA', 'ziTPMDvFa0Bf3KvFNuU3KP_xJQ39vmPUcQExkEpqzQPkuUoOR9M9QScLcX1UO8d8ZyDheoGUG7LwQw', '0LHgNiOX45BIAgMnHIy7etn1FjIbBjCra5f5YPE2FulkcRagVUwsl4oUJJ2ZTCzeXOJK4fFAXdjc_g', 'OZKFtOC_r1cacpCMVBV4xeIezlDIba5y5W1zIHqwo8Lzg7ZMUkq2uWEreh-ZymUhIZ4G_4L4kZkjPg', '3ixbDAPPzmygeMbDu3U1HPw-x7_7rnPZ7rVJCl3klG0WwQmgeHdfYPqAKkZpBoiYuFrFDN9c2vYPnw', 'DsalGwD7DLzKlTde30DWzIRJDhgjpVlT572NCA0uBa7nUmgC-xso1wz9SKkVrHshYFRnUphmgg0qBQ', '1OwTOoXnQBO6x0bQzv3KdpbW-Kosu6-k72kysWTje5EnCmjoJzqhUO0Eub2iUAo9TYpnTCKvn2d8Tg', 'fIlVppW7r-rB6dKpBPhadU2Vq6Gqcs4FX6ufkrMFM7VNq840NJZYqazKrUwIcaf6vjlx9myTXXwzpA', '7IBwgwMq5xsC3EZjZrAQ3gk6NbiBtxd674ZqVOxvFKryX1nWpKV2AFww0zqbY3P2xfuPMYIG5LyeHA', 'cOyCUdpJYdz3CgwzCe930CfQ-w4gQKFczJMLKQE-ZEXOqK819GQbw3uFFpJaeABz2vYGdtL18muNeA', 'vgYrT24BLIlFpgWBZkiVX2TRPnp3dHmUpuCP6WO5Ykpc8r0LACx9nvUplOZ-8MHtwRO5iq2Cts47nQ', 'njEUjK1tvSq-BMyz2dpMVoHGo9JM-56eAd-cpnvB1a3ZW5b36Nxj-99b9FRtunhcmHgB0ApIm2o0DQ', 'ODfes2K73OjMw0ytxDqpp-xP4rtdoN7iL56AfOdD-bVkScrzwt13j_1hOfWLYlyC3bInqHVGxpB-OA', 'aI1uoGd6EHz3ufSTIn-KGn--Ez2UdruqKzNHwJd1ny6Np-R3xW4IbasFg19uxvxVTaoXoFE23MPABg', 'v1QT12Pn-vU8eJxQbS4kftGig7OVs5lz3iSEbG3U_x50YwHXkm1Qnw30jublEVOHG2gXH_fpo2hHoA', 'SSYx_AgWT47IijOL17L58Vg7SxthAnASZHOyIqKzhZC9DAyWQmChGpOqwLZq72OgAhwRt9xdcFdbKg', 'ZusVJ3bRHYQR0Fug3dsArQ1Rtv2Cx5CwAJzreVeQNfiXrrkr2AXpNDblPb6hVZHQNdchoIDJIj1w4A', 'unrP83QeBqIwP_awW52V8-KNdv3CTbJNWvtGrycWCBaXFog2pWV4i_kysSg72weH7RHoQcZNKqCm4A', 'vqwbpTfYf8ugIeLxgBr3EA1sDHx_SyXZF4yITT4MjmqwFLiBKXY7z6isyIGu0kVRcwsW5DRJmkFz6w', '6v6cyHu2yvcOgua_KukLTE7JF5qIpLRQbPS7ypR4-_EsrJN56V2WnVDIOYzk_piuCFOqE5VgiaJ8jg', '_8l6UjCtRYygs5yL83PA1C_U_UFfOmt8SEfMBrFuwHpSmB6q1hpIBlzZc-UF8LoIhtyGU54KOuUgfA', '-_X_4zdqcB_7fwOOU7tcfduWZX0Q7EZ5qttXtOhZlkXIzfbRNTDSQtwpkXHmrPL6cS5B1BJBifK1bw', 'bNKNHvf8H_VlTjwONomiMV9yZ_zEEbB4vAOp7Hc4fhHs50zc6PUkQEfxY3O-WHMrH0CI98KosXULtg', '1Ec7S-TjK0JbwDnamq9ZV8CL_2rVJnUEDXOMlCfB_7tR1ARPIN8TZ4KT15UJouIMXIn70HHLaCNd7w', 'ZcaZoE_wvsbk2ksq0GmBDSEmyREBwzyqUKTkWRzmXB2vJDz6e8JhwNNSlP5K3v2S0mWZxRXuzsqgvg', '06GxVPTPPwqpCpTumv3yVCRjvWwAHHkhEOYak0ZLa4LqjzviLY4MO55AiPXk-2H85lWMbJpGeCn-JQ', 'sXYYJLw9c0l85FUysx0VBZBPCA8CUY-EFM_WvDr8pZDtMAXMGMDyVyKV3IpNmkhaav_xq1zKd5htFQ', 'G90EwAG3Lg2MyMWuw7xsqr6sia_wDs8VwOMHWvFdb9vfQCs1kfhTSyCpt0hpYJaE3Vu7kZIB3-XXSA', 'QxhEvRD58uUyF7ALj9IYypdSF8OkwEEPQ8dJ44juCoeX6YLOh5_mSttFWuVTznWW2hcVyzDc-XZL2g', 'B9FSH3hbiL81BvWtbqT3PX7Jywwn6LiJPkN9QZFO3frbX9ALQEiXIJY5cORucUqpMEmg8jSpwHfgzQ', 'xqog_lWr8H4eeCqLXHruEXLjZH4f5J3huRvJUdRsIJXnzuGIoyyHSMJiGgi56LS7RfhhmgJC2veQiw', 'TZN-2w_jWal-e06LQBZ8mjoqq5IllE2NFQO4yuD_J1eQzTPXhU_EycPd_ez65VxduXIW1o-gIJDoYQ', 'khWnEtVMLHAPBw8F349kbGmlMqaXlIqRmp3vXKv1bDcYm_t0lp6aTgmVLt8lvNgLykAI5kS8UfwxfA', 'jJJFGhJKCFzvP0OP81FpR32UMeV9UfVP2WNt1bJF2XGzZg28VhDPo1un4LGZJLUOxm_482ZsKGwvnA', 'vY-FLjgDUmoBdykjUyDnD9yHETP1KAXjcxG8z-4FbdWgiasXQiGAnvmXH-nKv_PJmh58_v-JUdkmxA', 'UStb2kSc1Q25kuaI0ECb-sJfqN-C2yAyTUN1lO8PAfyUOZfe5xKs0sz79KnkVWhh7AxY3IjKpBqbjg', 'mzUHH9HQXePvHp97C1cxAUiyaP_heQREH9ip5imlHb8yIa8jZTrspJ7lozuh2n7DVQ5K02OlbqRgtg', 'Cn63ruDd5OFpXEVO3QmYqEBYE4Nn3-5AXIaeBVB7Q6LLdw4V_WaaKAUZmmCmijYmKkgtJV85jYrPRQ', 'L5qSWbnDKux-D9vRt0ayBE7vX7KUrRO1bQREGN_sKuzzSHCqkXh5YS-gGcfTaquhFGZT1LwLJf2Ohw', '6H0DfgyWTNBAPsf7e-VXwkZwqwbgQB6lhaUJtH88Ng1zgs1PhueiJr-gMNJDAMNRHoINkSPq2JXUEQ', 'FY7eTGZ-EylplYqFO8SwyCdBxxE2SI4Tv3AWZHQVrCbbAoxUUSW5vyrpQq-d1BENwgY76LLBa5YY4w', 'RbJLTJuaXpkzpSYGFxVYS_tOqQDz3fFmK38sN6Yxc3VZaLL2nIfQ-PhSCef6UQT2bFHZ2wSpHzYhAQ', 'GE6sSk5xU4Qa2ztVfP5ReuklSzv30oUFiBOycQY4IaY9cc5GhRicSwLaS8F7gX4XMZteJSl3eEHx_A', '3p_C2wETl-Qirqk87H8EQyqptroSjXD_HKtfQfDmSxuX83dK9IAHsaTOJeLb2iIKyTPJBVpb_T8uVA', 'ybz0BUwivog3Q-jFGsgaonw40oGW3naI8-ax19Yyc6LmpJNWt1PzxxcYVjy4_inIytFERVw4_3VRvA', '66S8XDk8qtfDli8i8brDU2mWeiMqYqu61GcDAwRlmW3VpJ2yamt3Z8q7ayl6HfGPRR0H36Oo2ZrZEg', 'vW85DpCl5BA0epC5fhtdsNv_cMBN2y8_0PITyl9ULO6nk6yI1dRWfnj1IqNnG8xRlayypz21PAAgaw', 'uCXOaukvHnIu4uovbWViguwACCozVaWe8cSTidMhCO69_7ppWcHEncwaq0DRFcPu6YQEz3hJeEsCPQ', 'onjC7O21EGx0dofIcRuCJbRfBBgo0HvmAIQkCzHGXLqe6aBt3U2hEuLKdjYZNqpr8pDpDZKRywhHQg', 'xMecnaetlqjdau4cvkMpVjzjtdsAbQwBM2G8_ufB4hrumjVY14aFwnjEuOfqc5SGRhnUQrApTM_9JA', '_DjLPt8g17tLCxs6iZn3CZQ3ywekb_HlgtNQQKVIvEhIkHyt0VaVVIeghvHll-ljb6di9OvS6UO_mw', 'Y6PPVMRpLJY42wvSZslBoAYHWYtK8Yi_GoAO5vQZN-WJrfVZbzA6OMH6TXe91F3hLPpbRsXWBerGeg', '8qapJCJMSHPwhu-Uq9a23DioJxjcDAToqdBdMtWuFfBmsrTmSLah76saoSJecnI9NsiXmavsOllIkQ', 'MYcvLtKyD6BCSsKqfrrRjZd3z4xjk_5wuIJKft91BxbBxraAfbrsrczDb5NGLOXl0qp3ZlEbj_3jQA', 'TvrWrULgL2mJ-XBnQ30haTxR9QRNzRHHS5CZMnKnIxi5CeC26iymXuEh31VRdxZ3ccc289h68T60uQ', '78vR8FROJUlNF6fFQ81_mVjR5UIS_fb4tKnzI7wnVumTIYqkdJweYIoJQGUvR7SgsFsIANV8iAz-HQ', 'BwavAS33-f5cw8QpGr05NOB7mC62KGDqRQMMdrZl81VD2ANrAoeZt2Zsgs7_kHYkzrSX3g8GQew3gQ', '5pO5_dyKdNcZrWkivb83CienaRepiydUl5ogPjpue-coq5vf3yivJPQJpO1_14009gvyDQqREYdEYA', '9SMSyQ5p5a15X0Q1ohZNNtybqDrveKHLb6mmiFv26gcKsX1m5XfJEcepJ3x6RxVUkSyLDyuqL5A7GA', 'A_DXTNkSc2CcwoBePCbjIAzTApB2kmSE5uAQezx2DUrEiFOV34v3BWi2vb3S8rolIV-NwZrpTNU__g', 'YXFd9ufo5jaS-CpSaKPgiljvKLVb-3lY3tgn_3miqfsIJYz3hh7E9q0BeShOQ2HMN3u0jpAoDOvC9A', '9r0Rxzipa7r9RbXXpleUL-Is-GfvF3vOP2V8CEv5H33VG4HnnPNBZ7PD6BGnIj64W4s1bbHBPCN1jw', 'jcXpkVsjIk9nHpSIsj6urdCFb6E3QG81GPzE0MqD4mBEQx33woteeQ_IHSnHtLf7UVkFWKhIav9UVQ', '5S40E2fgxDEa7FKCuwO6KR6vi2oWU6006CVkz3tBX5yJmKnAsAGHBaOkIhpgPYxvH7cVoEPb28S_qw', 'eQK30GF4iPm0w_-p_CabON2T7-Rk46wvWyAMJQ_8SiWzfomt2Fj9PQaJaoSCqMMc2K62QeIj95Xu7A', 'MAIBHIpJH1KKJwjx-QcjFR5jaTQgWzcb_MM-BDHA-MgkQX8S3kjbd2hTrDj791_uKg_GCSFqXsN74w', 'rTqDXkuMJAd5TWLcsPLVt4r1P6j_l9LWFCbcfc-rnktzGIG3v7XqE0BC84Oc1wQRWqQmcrlbgcwuoA', 'MqSDzIKFOxDQ20yOpqK9nKA6OviKy7FHyMCd53ECt4p182mUyEIjZUVHpIUlHay0jaDkfDdsFn1Q4Q', '-D3u-xcIv4VaKAwWzMZXAxGEvhnJHqlUL9AuJCJv_vKQK-_papCn0In8NFskZJQGXb_eaWtHraPmzQ', 'afWdJT1utNhsq77tMKxu4xtlrlluEIVBuhscHh-oPxbov70VfSf13qB9M3lT13AqUJZkwaWdMJZ0Mw', 'NLRbiRh_YMgdvvlxW9m36JdD8biEie-MNsV7m9uLrMfeeVQC532aVcezPU45qlcrtBK_0Qpeqdnuyg', 'TYC00UdHUIHJWC7zR0vM-4zyGo1ugAiHH-1R0p33THWFvm-Jbi4RTC1m_zYY4dlZSRza-tK_iE9Z9Q', 'eOx1IAlre_W5L7P4w7r7wXRT5JxfBh16MEcrPh7CsZOxfm6ITbLfSGiTIaDdn71o2KMXFIlshiQhVQ', 'IDHN0RlQvBxSwLo5GVH1xxzI2Ziy0YWt88S30gwywkOK76HsU5-lZCldKresV-FsULzLcw593Jymww', 'jhyVTn0XesrikO4x61MTSOfQd4Doz_Nmxls7LSYdCSRWovir3tK3J78D-pjoNf4tUt-8XeNa5FiCMw', 'VgqfNHoKQbnwCUASfdeSnFAreaIr27J0_TBHrCoKs0qEARoNZPAERAhnD9El2IY29hVozgGGpxBo_w', 'EqtwqwO7khXa4cHq2je2up6b8cbixW3g1MzACmgWySv6btecWBFQKKKep652Dqyr6oGa2UygqldF_g', 'V1idUmA7le-sWZLR_12yYM2dNBuYFipV8WRg0JzIwhk1H50A6q74gcJEvK1qcDfSisUOvA26_tgE1A', '9fiPb472BWQmH2c_9FpIPatcS920rYnw7I7YiR55rHV1LZjPi3mJw9zaXwifmcBJ1XKGCDonWq5RQg', 'ogHXJ2jA8EY18tswbKKH5zTzech9CIBIfwoW4e45tA5YFEhrq9HATD4AdVZmlC2AD_hy_794Zp64SA', '24oOQF89rPGxFCMH-pRAHaSnT0SOMxSv0pUfV7E--UqXniHZSnrF71C8ZRPWmCoeT2i0YNdIYZdAOA', 'Q-ZJ9FTNUM75XQjd1fxTTY-nn_QtbHAf4xv6i9OQoIp-1LhYljWXw3kjYeRC8Qn7n_oEengx8t32Ww', '203tuNh6KZnvS2XtNHMdX78ULrGgMP7QHpSR_egf4zJy_E2j_h7vNzBBS6s_ccGuCZavy9wicJ3Hrg', 'cu3cnCVSgjhd7uzlqrvJ421-jTLzijg_Dk1k0I4QW3Apqka7YC1UrnpBGv7wUXp7QarBhM2hVprYtQ', 'kRHBPkDg3z1w0DavARydizRZeOit7fJebQxCTXrA03xC4TeFRmxUMo0mmqBBeIJzwFAysTlgHMVQ_w', 'ACwFg_pQdaVHUlNmL-r8sygA1cXCAuq6uK-ET1wDKY1ivfBPb22o5r0qmugTR-18bX9tFq3RRX75Ng', '1_SIirb1tjeac4FBTkZSzdKDviSSTzL-i_C7CgC311aoU270UIZX5t5uW-6amkoylgF947N7OuK-mQ', 'cZ1mwVo2u1D0DZdq2IcIyBWfDjkES6NRYKmsnvfxvxFr9wbjjLAfj6TEDpG4sT-dTVpr-B5JcWtJyg', 'IaWjNmmrWA21svzV3YQl9tVmeCLB_CQ8tnUK25ImvK-knxrx3bSIMC5O_H3xxlOxHqeisSKee0DKow', 'MYVx1eZ4vRIc-k61F8sszuyJaAmn85Umho2A92PyU9Zd2gB8lQG_nuNKRFVaDj55z8N6qGApBn5PWQ', '6UCf-g_Mhp6AzIyhsAwuIb7usyD2uAe_9cLmVnl7n7CBYnAWdjHxxrYHSiexTolHk0k0QHkCHAIFIw', 'Wf-qVv6py9OpQs2T6nx-XVakarLDGK0SnEo-FXAIQhLYfuzuW1WkvUkZqWXPMWnHcLV5AeCvbZQm8Q', 'wN0u5NdSXn5hzV7CzAMzc7Nq1bUQQSJYmmiQfb4JWC93Pj4PM9L_HyRzXxN-9HS3Qbw91i7BtAte7A', 'A1_bVOnAqDD2gBVSZ7pGTLZpCzwmC5kNWSkNYR8kUWqouKNbZT05JmR6lynBZblIlx6GfVm59j1cqw', '-omeeLCMgQo-1o4SyjTLh3BuBPiVfdbMipdYTA8cKX4c7y5Tr4xCgTFTITl4Xtf6_4bkpNfbsXhN3Q', 'cF0fu8_BWEIFO1O4rnkj-XT40_uvUqST6Rcu6suTAPCXEMRkAeGD_7USvEcroIe7i48xEMz8St2OkA', 'ob_HU198f1fUliX0UVKvXl2DdEuxr2lhOFLOezJbtoPXbdYrGgwCTKnvTxp_avqAmSNLor3enSpq3w', 'Mz2-XiUj9ujmSPyUbTI1x6hQkO27Cl383mJdWy72SEr8aEpYhUEyoVDkd-8m9p5VKDmMls7FDXClfg', 'PYuR3lMKg0C6wfP_opuxC0GwPYOyBZa_VFU0hoDA_Y80EL2-dsR3_X4O5mhlNCXX4tNklmo5rsXGpw', 'fJ6E6yPQw10nTY7227SCn3AAy78rOWKISXbLF_YBZhB6N5OUqjiDQjDxSJVZx85opN19oYRAgI5CZw', 'noSjFefW4CXmmxXNlYEhLgpC5c1mL7ctF0wgWi7GyTrcSQOE3ydcH81LIs3hnQYdAKS4NZ7iEhcMvg', 'EsgKOARpI7u1ViswDHPLOT4s43TzoxpBR1rA58osu213lsk_wtiJQPz02vKp9zqkWvNA3rYVF0YGYQ', 'l3dAL7afwd_cDF_olEoBUmYGK1C3i1Oz9fq9QO3HKb62euODCgIIBolZ4YAWyX6A6HClJLfvrazCmA', 'ObJ6izi7uhslcUEL9Gx3kTNZGNyZvRlyU7EJeYNWeYFvUf3kMNMQDYtjWdGMOUliLQLGRsQC7l8wbQ', 'c-nBDMmP-vyipO_BKqX7oI8WaJIRO5MbcQUwxM7AeJnFQgsRATnDOrM3LDqqQPW-ZW5d_5JtEl1Xdw', 'Ho6cmfKZQvafgmjP0wkNac4f2zo2y0h59NnTfLT0M3CXbywA54udJcbYcoY5xGLNPNOccowvt09ADg', 'WMQ9TnnCl6Wc_M-mtvjmZ5N1jt1-2Q5IizH-jI4PCyndzgMhuQ3lUoykjfd5bv8v3qw0UgRV5FuMfQ', 'SJ9RoAJYyra-ROAB2aKsENI--OgPWJu_bFp40TnXaaC3Ow_txaDAIFmuJ5Q1XvAT8mkoF4b1ujjpLA', 'k65ciH08vR02l1h-5p-SY00OAhT33Z-dzA_sfA0p18qyTGfUUMxwUm1tIGoAkFIV057pXsasEbeHBQ', '_sSfKTdZ2woXZkfS11YYy3vsPCXmqyaBfBWao6oslYW6EfhPVD-LlHAyUXa_ihekotAMzKC3t96i3Q', 'Ee9Bo9NQ3cof37DcNUnSkdEo6WDCH8p223wgrcFC1G7KINVVXKwefIIywEfpdaV_vC1a7OLRhGKtbg', 'j41OK14hwiyYLiagx2LpiOuf-vtRGJplz7heUwurVYkHRnT8tYI29ysNMNTlBGdi7IYD5B9BS11vLA', 'r0qzusoEgv6ZNS52PtGvImutOBqOUkTR-gEp4ZZNGqtHycXonEQJtwHfZcd3EY0NN8uOCI5jXw_xzg', '09suuWqOnhMEopZii8LMF9An7Rh8P6rt58k5ulpxKlw5zL35nP7HpNi1_vW1SnlRMlXjubb3xJlYZg', 'Clyr4Gjbiqm62WHQ6q_6oTW89pw1z6RuCU70Cev_4LKXxxaKNMC5Uyy3RnGF0DSiULFYE4QnEAYfqg', 'SC99y89_69dFEibiQVBQQ4xl0H_GCisFkGF47n9w6wZcFO-0o1_Spgd4WIt7lpLDyr3cY9iw0FHj7w', 'NNeBOCBr2uPV3T0xT1ZE5OVRg1qlq6w98GhicttM3V58rHvPmXbgps67xmyyIXCQkUy5IzhGgSgchw', 'YaMe9j_nMbK_rlPctmTbByNHZnJD2IVJqtotexjfDcnWXLhZv9Rn3Xky86CH_AC04EiOjLENv1De1Q', '4DamyZVrIkio7UP-dDGR1nE6JIr6NGWPYJGPyNureLQ7rSfJmfZVgbYKqRuBiZ82_AqGuJtgHlB9Xw', 'NVc8Y3bTWiXStyZ8L2yZgOHPPOf2FaG8aqzwxSx6RMEomYKsNxUtG3o1LAYkJ1lx3n4Yw3O766lseA', 'S89pGk9-k-J2XTmqNl6bcKMZlceRqP_xyT0iSVsgDZ_vI3pxC563zqBcdUl9wsvGyGtAoYmZoYrWMA', 'l4lctjllgiZd71WsMZonPGxWvwMubmAn_vlMhjJeRkOG8Xk6HNvJSGJz6h0jGTOLEKmhaetuzwXbpQ', 'nH4F72wwXMMpAU-SM1YelMDZLqAgzxTrWiSEQvXT6vBd4ctmmDQ_xJdXJ2LKTSSeY93Sd1a-MeXUug', 'Yaj1AgmTvBpSXfyMuY376WGptXtf6YyXJ4PVRyn_ufh0p6kP4Qx5eVH2DWRwR4DgK98Hrdf5diT2MQ', 'JNziCOOwIRJmpqCAfJ5Y6GNaY1-9Pb9O3I5WK49623FUG8fhDu4NOX-GhkhpOMBdLYdkWUR35BXjkg', 'D749P7oHdEIjTkRKZZr_31mpJ1VldkTb3phAxQjwJVx8xd5kL29d3Ry0PLrobYQF5rknH6wJEPYIxA', 'gSwxnyF-daxhP5xdNrgGxxgN4_Ltq1gq2UobhNTzD1_zyKD72CQRTYnndSTCnelZ0L7ZDQfqR_dbkA', 'gtSY0c1_DfoK5SXa0njN3pUQx5hXFkvGHKPKGh-jeh6q5KTbNJ8rEkHJljkZjf1e6lHElHNjh-BudA', 'BH63e3vvid5V9122tY-uO7ZE_WmCb2PQ4FzmIfIGj-nAYrtlXwpJ54ef3AV-m69ImQeppqdvOYS_eA', 'd7Dm5KgtOeMAcIqCQJIEdhtJt00_qkynuh5JAIRayL5g19EIoMrWLlHsUEYLteffbL2P_74foxCxWg', 'psqHLr9ux4C-8RGTjI2Efxz2gNMFKWTTCb6I-1TU94MlB0LlCste4U5ylFCEctaPhVzNW4X5PWPxiQ', '5feS4He-TzyJlZN6XkxpqRfy0N284pDQXPyR6iCzeqwMYO4e9-MJuoI1GnwbYpXFp7SR0SJKgRB_hg', 'hs6e99OOoF9hR10jj4uBYaiRGlwRmPLgbLoUuY9_RAlSbrP52e3L_QDedFkECX5lc427FzRj0nnjyw', 'x9BdYqsZfu7cDNUKSIsF1xuk0iMBOs9FIQOzGviejb0ooK2gwTuBIU2Vca29wyKH7VpALusHACXikw', 'Tbs7nsCumu6E8q3P_-fLfpIU1XhBtwhxDrGMuiPznb89aDyTzwH0dCwY4RilR_hNaiapSM3abEpPVg', 'QILNOTgbdQmTG5ykwiiA4EOrgox-vCm7el2G8QhJbGm7UX9-HfPFacY_j82Hdqdu5nS5eNPe2FLNdw', 'TQTedw7ePN2uTfUKpLZ5Yp6Io_2sit3hRlnvHjxgcYyrKJwdd3ZzVhSelligvOjQ1AU3ujdTHSYWsg', 'it5DGUBKBFXY-yuq_dASsme6oDGPosIIsE-RT2_AyjS2ZtuhftQ4Ko7gcOGe6HGIzkWNHN2gjoxeqw', 'MFhqzz7P4YyRhpHjL6G5_aS2xhj49ujm0Pxt3dQ8FUQsEE_PTU06pERlpErTo-jYOZE8T3WLdsfnGw', 'RPY_Pgq1kx6SRcxzpe4Z7-plN7y3UIntdtfGJfQbexPnfvt88pON2Iz8lkr83wRzun6F3EeX4JSu5A', 'Dw5hXJRcWvxPo3WvH694YWnmD3gZp8vS-_ya4ydJbriP0cHiuIp5ne_CcKOYqLRe01ASfPI6gl15KA', 'm_JyBFkfZBX-hHAHKa3meRki0p0f4nfxvZmzMokIJxakwCUmF-k1oy9ReRMCtfV-IY5o0NdfZriBKA', 'rCiJUq6gcz4PuI2GOH4_tyHbqnMOjRS2ZXKC1uRGEJvhtFf4-kEe2na_XPV5YdmXYtJCixF1JtBl6g', 'DOzOhlNtruOepPXHKmPcHhkWkylYsYSFHjSZay8ZhOn7KDrPwVsBF1KKM04pKY-6M12rMBoLl_PNYQ', 'q3vLpqn7bd393P1yMl_X2kY8_TjoEv7IF08aeVm1BuOdnSPiuFZqwTOqRhr9BltzG4VlPvI9mH0nSA', 'Bjb8xqKiTBfPi3JsuO3AHsdS3qgFV6zUOtEwp2OHHKXC29kMg48s97jNVd8e-8VQlcU79Nj-Qw4JsA', 'WjeyISt4hjl5YpJblMh3cEYOcRE7hkImf8opLp8culOMWg8Ecwps5N70DtLE7iISdjpg2ffV8yZ1DA', 'Puklb_ZlQy59ahizR68Ogvnc8A0twdGI0HPNkcQ6JxQwth-4fNPe7pik7uQ9rJTGomKviVY-iXQx3A', 'yooz0DNy9L3_Q-qcBGSoE9vWpS4vjwTx-da1s1DO_-5IHdxole_voCQeinzlUKfrKtPRSc186g-Q4A', '0HnSy-4TlzTnih4oVe2RhN_RdcqvheRZ15upBRZEp0O9RO3SRwThIv0C3uaX98MzoIOay6Grggogqg', '6Rpn8CQoyFf2h_YeuANom5cymKRL4x18x6OXLtxkRlZLyZ6kgfX96QNDSvvccKAFe5tOd5GQ0CEzOA', 'LcMnYbYmuImTXgEtOwPkZilQanXQnBusaR1Gxum5Or6wixl7LnQfqOfSYuVo8t08t7iZ0kuUgjgXQw', 'eKIgcCb6uCZGlxRfJ3wLn5xvkUibBeXU0yP_uq-ieZQOiLLiqBxNWEkpF_hzk2lidYdatowqApr5eQ', '1My09GIs96YxFSwjBRkenmDbnPR9CI1P-EKV7MpPi1hv_UBAZggZy7WCK5jrvanD-d5FJuQ8unFHJg', 'Zn5fgaEll2fuxUhRpJJmeEWNanhW8wU4sP8syZr77X5HsO8XGpHislqxMcGk-2CeDDTOec0vAG8NIQ', 'AfQUulDVJ1kzeiDRQFf82iAZShWsn5gwTlDNCLlooBsKwuYcWv_c30e2YG61BIzgufbNrAquhCoDAA', 'DLUOVKSptt2nglR6KthaJxER8_mh6yscT4HYH9eL5WYBTB4RYzoA78YPZ8HrDm6Pf82yrwEWW_b0gg', 'z681-WywGM5MnZSoKqyXvASsUq2rLLV0DThB5q0T2hvmkfjesjpzqgxEPgiF8A6XacMBBRDvVPnKNw', 'X-jj6-zFr8gzBZ9C8KWRs6qcQBCdOTFTkZChKbJ1_kHlfB4hEqic2u6UOahIRTTlyY37QrNGO09MiA', '-sqokPlQPjwtG3KSjEuTHaSBFQugk8VoBM6ZmIGJur4iScwzhNRZaxqeTp7uIw59K26jdypa5my06Q', 'xT_Kxdf8BDsj2aiT9XUcj8rcqIVEE2mHvdiELVCnMxVN5su7K_St56VNMxZ-pUIyeL0eLA_o9uiWXw', 'gMEY0fWLPAsWNXxCEyzfoSkYD-d2W3hoOKL1gx162UR961jjebqFXJX-WS18dRP3J_m9rQe5R5JfIg', 'UgqVOvhB7VcP-NjrSq1yu_boPWLT9jLf-wgkFvsxgNQngGNu-cDbqjFj9D8OMf5iiCH92XyE1QEq7w', '6RKmWbsdG9P9cxlpkbs6Q_tEoMKpzQ04qfVeQuFKZEwbzA7k96JPgTSID4-CQ1yFtbufDsid51bsbg', 'ptBVXh_nkyyrASLrBFRQ0OWp8xr4syLYMG7gO2BPnNKTxt4vJKC7-WyiLaPOKvPu2IQjZKOVaKAxlA', 'kX-_urWA4EqoBvP4BUOdYDCM0cYUbiUMFpYO1GH37O6kGSjCciS-a-wZn8gNJEVwQdzVcyZRc6CIoQ', 'oSL_cuDab5M0EjZl7u_MXjaLgyLlii40kFHCq_45ZCtzNy2unv7s507ceL88_VpIb5aP2ii1EGTcLg', 'ySmd08U-L4VY8VjN9mM2bm-iJSXDe_V2hnxXg2fsfQ7Q4OGoYWdzQTKjqUW7L7gvd50HH3pFENpTwg', 'X8fuQmePg7Cr0J0xqDzd41N-xNA7o76P7gp_XwvZsYMZW0UFHH2NlmB_IM5LtQqyJwRmFqYJYoN-NA', 'PTIiICJXOXeRXtzB-uAXlkIznplTiveMGLN12HwJyEteJK-N2I_tH7ImDFNmKgMQq7Y0z-KhNOBrOA', '3biLZCX63zpPYfYQ1Y-vhOpsiwjkei9SIaKodvKP4HA049l9hwUG1ys1QnKoXHmVGN-xlOqDXQApkA', '6s0zFHNhILtGbiPmCs1RkREb-mxxybtYZ25Po30s-IFMTTjxLTHTAgKT1B1rYJ7aGThWbbdM61GrkA', 'hBbW2fvhF9QDaYFQyxUt14fcishUGA2pvFurRLifKNTQJEuiA4rIr8AGKSwdxhvMSUQAsuzJuCGM3w', 'NEH2GtTleD4_or5xRJ6faulNR8Z3G7h9s4WnMxBRARU6tGQKUFpke2MUOQoqGXNPvMEBGA9TWffOtA', 'c15CHzqKRS1fQB0xGFWaqdWdY2zlr82rBqMFNAEtuoWQgpQ2XilflKqkiE0U_X2W8MJcqgKqjrvNvA', 'ExSXEe2fsQ3UI2q7_h5VyMrtdR5FggsIVkOfsHqucOPu2UzJ86yFvlAJIg4BJPHXBrszx7kHvPMyQg', 'D3o5CQoeJIs0r7hggi31_Z7w2U9hGcwSbuPFROsw_MTN4YxufkwOaFXAzATPqzPN-kAxeyCk7FZwmQ', 'SykPqWlGpXhr1k0camfovSZTG98k1HIkRJbact-_SAXB2YLv3HUBfR4EKQZhl9bkqve9rCgftdotEQ', 'FONfYMhsNwF4amxeipuIkqblTsyxJUzdvmFJ3m3UbT5Rav5YCeWBRAFkSwzHzjuSK8UyRGBQc1TXeQ', 'RPrfFxjrHpl803k17QgUUUoNl0FXfbSuAwmotFaV4pZ0BsCQSd1VeAuegRT6aSsnqEvUZi1xSuWMkg', '2lo6gBOIAXICIC7K_s8S7Oiqj4RtPX9FxOQcjkb3j0HTdEr9kibPAwXfUgL_28669GXDjIa2MIxUwg', 'jh9vlP7isCEJNrqFHbCMBKe_ZSx8xCeJLHbvtxuZ-j7OX7qc5tSlJqZnRm77YoyQJ6KvLvvaVji32Q', '_FxBMdhC_cD5BwM9ZCHJzEeXIMAS8BNmz4zFPQofyDmDyrX_AfEJ9KxbiZqH7DcNMgDwL6NwzCCwvw', 'ZNZDUgT-71JLZc3ziCB-q7ztWhY77NBdb6H_uUK2ePKv2Kj0RNuzcrk1t7MQJq3udgXJrqi8HNv8tw', 'hoc0jaWCi4fqb-pxj3tW4OXKYXoikveLIQmr5f03vy-iyn47H_aNkVZvhOSfQYab69l4MyfFvQwXiw', 'rwr_iVUsMifeKDsfWbf4J1-Ojd7HlhNvZuJ0IM_gd_ZXBQ7MjhaQicgHFaHtMnb6RVWM4LBjmzJPnw', 'KRCmm5weYplUGrrDoWyfoRzdL0Q0heCCHRYK5J3WgrKTQNbd-70FccMZa_f_x_n3wCCXDkRsptPUzw', 'xiYe0b3RV0Sc4KmJoPF99tsYidUMbGghHkEZ9biKSvBL0_tiHdF92W16Qp9HJ_XyOlBS_yStqqDElg']\n"
          ]
        }
      ]
    },
    {
      "cell_type": "code",
      "source": [
        "#!pip install retrying"
      ],
      "metadata": {
        "colab": {
          "base_uri": "https://localhost:8080/"
        },
        "id": "YQy-phVm8tLS",
        "outputId": "8a56227f-fcac-40cf-9817-af28fbb0f4e1"
      },
      "execution_count": 26,
      "outputs": [
        {
          "output_type": "stream",
          "name": "stdout",
          "text": [
            "Looking in indexes: https://pypi.org/simple, https://us-python.pkg.dev/colab-wheels/public/simple/\n",
            "Collecting retrying\n",
            "  Downloading retrying-1.3.4-py3-none-any.whl (11 kB)\n",
            "Requirement already satisfied: six>=1.7.0 in /usr/local/lib/python3.9/dist-packages (from retrying) (1.15.0)\n",
            "Installing collected packages: retrying\n",
            "Successfully installed retrying-1.3.4\n"
          ]
        }
      ]
    },
    {
      "cell_type": "code",
      "source": [],
      "metadata": {
        "id": "zmCAnLAeB0fF"
      },
      "execution_count": null,
      "outputs": []
    },
    {
      "cell_type": "markdown",
      "source": [
        "# 리스트 내 puuid에 해당되는 유저의 매치id 불러오기. 각 유저당 최근 1판만.\n",
        "* 총 205개의 매치 id가 추출됨 \n",
        "* 데이터 개수가 적다. 나중에 각 유저당 10개, 50개 ... 로 늘리면 데이터가 많아질 것. "
      ],
      "metadata": {
        "id": "CrRSLR9a91rH"
      }
    },
    {
      "cell_type": "code",
      "source": [
        "import requests\n",
        "import time\n",
        "import json\n",
        "\n",
        "# Replace {api_key} with your Riot API key\n",
        "api_key = 'RGAPI-51c34da8-fcfc-4c82-8ebd-354fb62799cf'\n",
        "\n",
        "# Set up the base URL for the Riot API\n",
        "base_url = 'https://asia.api.riotgames.com'\n",
        "\n",
        "# Set up the regions you're interested in\n",
        "regions = ['asia']\n",
        "\n",
        "# Set up an empty dictionary to store the match ids\n",
        "match_id_dict = {}\n",
        "\n",
        "# Set up a cache to store API responses\n",
        "response_cache = {}\n",
        "\n",
        "# Define a function to make a request to the Riot API\n",
        "def request_riot_api(url, headers):\n",
        "    # Check if the response is in the cache\n",
        "    if url in response_cache:\n",
        "        return response_cache[url]\n",
        "    \n",
        "    # Make the API request\n",
        "    response = requests.get(url, headers=headers)\n",
        "    \n",
        "    # Check if the rate limit has been exceeded\n",
        "    if response.status_code == 429:\n",
        "        # If the rate limit has been exceeded, wait for the retry-after time and try again\n",
        "        retry_after = response.headers.get('Retry-After')\n",
        "        time.sleep(int(retry_after))\n",
        "        response = requests.get(url, headers=headers)\n",
        "    \n",
        "    # Raise an exception if the request fails\n",
        "    if response.status_code != 200:\n",
        "        raise Exception(f'Request failed with status code {response.status_code}: {response.content.decode()}')\n",
        "    \n",
        "    # Cache the response\n",
        "    response_cache[url] = response.json()\n",
        "    \n",
        "    return response.json()\n",
        "\n",
        "# Iterate over each region\n",
        "for region in regions:\n",
        "    # Set up the Match API endpoint URL\n",
        "    match_url = base_url.format(region=region) + '/lol/match/v5/matches/by-puuid/{puuid}/ids?start=0&count=1'\n",
        "    \n",
        "    # Set up the headers for the API requests\n",
        "    headers = {'X-Riot-Token': api_key}\n",
        "    \n",
        "    # Iterate over each puuid in the list\n",
        "    for puuid in puuid_list:\n",
        "        # Make a request to the Match API for the latest match id for the user\n",
        "        match_data = request_riot_api(match_url.format(puuid=puuid), headers)\n",
        "        \n",
        "        # Add the latest match id to the dictionary\n",
        "        if match_data:\n",
        "            match_id_dict[puuid] = match_data[0]\n",
        "\n",
        "# Save the response cache to a file\n",
        "with open('response_cache.json', 'w') as f:\n",
        "    json.dump(response_cache, f)\n",
        "\n",
        "# Print the resulting dictionary of match ids\n",
        "print(match_id_dict)\n",
        "\n"
      ],
      "metadata": {
        "colab": {
          "base_uri": "https://localhost:8080/"
        },
        "id": "hj3A7pSQ-Db7",
        "outputId": "9744dfd8-06d8-41cd-d4ad-fd0b8cf3c186"
      },
      "execution_count": 30,
      "outputs": [
        {
          "output_type": "stream",
          "name": "stdout",
          "text": [
            "{'YvRwtybq9iG4ybIeLn9osnfzrUPob5bNgcVkOwWJd5jm9hs70w0jy9_mdH3VCwekIzM1vnrk7rq8Kg': 'KR_6414205504', 'ev9cR3_z9HIDe-BbdMP8KcSQb1micGugw_ogBcCWUdUI4cyrrV6Np3ozKtFexJIkJ0gc47CCsl6AUg': 'KR_6414254440', '7dGrIHqteZzlicQ9pgm80swBRNzmV16qYFeVnmRZBYrkotQxCzBme84SDGVjMQP5xn-qAn8Vdqx4Hw': 'KR_6412274821', 'KcjxziNxPL21KTZTnW0Uyp4Mg-uW36xuJZCA43qte_AFG_nQ6Ti8V_MBH8laS9-dLF8RKJimW-Yoew': 'KR_6330612602', 'uQlxMetzKy8xUqKvrTtNmSHU4zBKGihpZA20fcwd7Ao1lcGCKJBhU2QyRhkm9i-V5OwiNNOSaRoCJQ': 'KR_6412399348', 'AXLhMB-GcfRoFrmFSHSosnGXZhvAYAgW55FeZX_8v6QCGlM9UC1snKNcAr_z-ag38PBnPY_hAqUKzQ': 'KR_6403121875', 'dlSZLefbV8gYfAlDw87WO3a1de1OZpQ4ieGcyHHOKyBTWdX7bBPwqo-SIsAmE6XxCh-39kGAPk0K-Q': 'KR_6406038094', '89KMebQJVJ9h2NpQjQsdQU_CDlOR3wgYHv0rcCcfM8T7cULGCvE2_gj9QpjHpbIcHa6BC0YxE7tMZA': 'KR_6412739607', 'Ci1TFrPtdo8xEL5tLaVCmZAIzv7cbjf-aRnIJg8pWGpv7C1B2p258sgQF517sNT0xr38uADw2wboWQ': 'KR_6411430665', '1BqmT4PHg-HI_RNCV1w9cY6GRGK2Li-Dj38hsH2VGuKk8zmDJ2toVQTgJqpciYaLzP2pEtDdVFsf9w': 'KR_6405799119', 's8XrlAjztzTANMZSj1H7Qy6DEbD6-1gcTyQFjlKpTPEI_Eaqkw2b0HNSyY-s314NiznX7xuAsEY96g': 'KR_6407649170', 'kQD_WQJIMpovJrWSTmZpoI6zOHl-5RhFzquvkE3I9_iuC0HT7DpElTy2MSJSDRTCJw2SPkrbnWqc1w': 'KR_6413116772', 'rxEjY5WSjOSqaoJc_SWzVS2emhpshKwtRcM-HK5z0tzUljyRv_LI44l-DRXPu-mJQb_zVKCrDqvxMA': 'KR_6413712254', 'goviJRx4EbvpFH32-Yl-O17w9ZlZc-IBcnrYFfiXkeOZjFqEswT0esRBb8kADjXvjUdxmNZl6zDZhA': 'KR_6406009345', '4twjproiQZzcnrjPfWu0WlrzTVgdJ92Zp7Srrk64XjXtpmrwtKNz5Ynkejk8qLAt7JQ4hqe0M0UJsg': 'KR_6385361795', 'okfbBK_-IDtmzLfozk7bqNy4brGy4qyQHR31k057WPzmpeSTD8_v8txD0DI6snEmji89x7IfARjTIg': 'KR_6367836772', 'eF5Ng77iYnWNiLPHCsj29pMDAUagoUGYNZo4S3E4Je7CP-jsTmxQtHS0AUcG4AC3Rd0BCWcp9j7q6Q': 'KR_6414425169', 'e-1C3Dh-7CXI0PCRVfEFCG4ZvvSvkN7PaqN7NBMltdIhXcIIwJ0RIZuOpiAVqQabqJzUIWrBaPW8GA': 'KR_6410356599', 'ziTPMDvFa0Bf3KvFNuU3KP_xJQ39vmPUcQExkEpqzQPkuUoOR9M9QScLcX1UO8d8ZyDheoGUG7LwQw': 'KR_6349519426', '0LHgNiOX45BIAgMnHIy7etn1FjIbBjCra5f5YPE2FulkcRagVUwsl4oUJJ2ZTCzeXOJK4fFAXdjc_g': 'KR_6411249673', 'OZKFtOC_r1cacpCMVBV4xeIezlDIba5y5W1zIHqwo8Lzg7ZMUkq2uWEreh-ZymUhIZ4G_4L4kZkjPg': 'KR_6317863853', '3ixbDAPPzmygeMbDu3U1HPw-x7_7rnPZ7rVJCl3klG0WwQmgeHdfYPqAKkZpBoiYuFrFDN9c2vYPnw': 'KR_6414629973', 'DsalGwD7DLzKlTde30DWzIRJDhgjpVlT572NCA0uBa7nUmgC-xso1wz9SKkVrHshYFRnUphmgg0qBQ': 'KR_6409132011', '1OwTOoXnQBO6x0bQzv3KdpbW-Kosu6-k72kysWTje5EnCmjoJzqhUO0Eub2iUAo9TYpnTCKvn2d8Tg': 'KR_6414374412', 'fIlVppW7r-rB6dKpBPhadU2Vq6Gqcs4FX6ufkrMFM7VNq840NJZYqazKrUwIcaf6vjlx9myTXXwzpA': 'KR_6412873958', '7IBwgwMq5xsC3EZjZrAQ3gk6NbiBtxd674ZqVOxvFKryX1nWpKV2AFww0zqbY3P2xfuPMYIG5LyeHA': 'KR_6397657869', 'cOyCUdpJYdz3CgwzCe930CfQ-w4gQKFczJMLKQE-ZEXOqK819GQbw3uFFpJaeABz2vYGdtL18muNeA': 'KR_6398854199', 'vgYrT24BLIlFpgWBZkiVX2TRPnp3dHmUpuCP6WO5Ykpc8r0LACx9nvUplOZ-8MHtwRO5iq2Cts47nQ': 'KR_6413798621', 'njEUjK1tvSq-BMyz2dpMVoHGo9JM-56eAd-cpnvB1a3ZW5b36Nxj-99b9FRtunhcmHgB0ApIm2o0DQ': 'KR_6412301964', 'ODfes2K73OjMw0ytxDqpp-xP4rtdoN7iL56AfOdD-bVkScrzwt13j_1hOfWLYlyC3bInqHVGxpB-OA': 'KR_6382089242', 'aI1uoGd6EHz3ufSTIn-KGn--Ez2UdruqKzNHwJd1ny6Np-R3xW4IbasFg19uxvxVTaoXoFE23MPABg': 'KR_6339972068', 'v1QT12Pn-vU8eJxQbS4kftGig7OVs5lz3iSEbG3U_x50YwHXkm1Qnw30jublEVOHG2gXH_fpo2hHoA': 'KR_6375298403', 'SSYx_AgWT47IijOL17L58Vg7SxthAnASZHOyIqKzhZC9DAyWQmChGpOqwLZq72OgAhwRt9xdcFdbKg': 'KR_6387808674', 'ZusVJ3bRHYQR0Fug3dsArQ1Rtv2Cx5CwAJzreVeQNfiXrrkr2AXpNDblPb6hVZHQNdchoIDJIj1w4A': 'KR_6410452201', 'unrP83QeBqIwP_awW52V8-KNdv3CTbJNWvtGrycWCBaXFog2pWV4i_kysSg72weH7RHoQcZNKqCm4A': 'KR_6412895145', 'vqwbpTfYf8ugIeLxgBr3EA1sDHx_SyXZF4yITT4MjmqwFLiBKXY7z6isyIGu0kVRcwsW5DRJmkFz6w': 'KR_6372145508', '6v6cyHu2yvcOgua_KukLTE7JF5qIpLRQbPS7ypR4-_EsrJN56V2WnVDIOYzk_piuCFOqE5VgiaJ8jg': 'KR_6388135961', '_8l6UjCtRYygs5yL83PA1C_U_UFfOmt8SEfMBrFuwHpSmB6q1hpIBlzZc-UF8LoIhtyGU54KOuUgfA': 'KR_6412600836', '-_X_4zdqcB_7fwOOU7tcfduWZX0Q7EZ5qttXtOhZlkXIzfbRNTDSQtwpkXHmrPL6cS5B1BJBifK1bw': 'KR_6413205595', 'bNKNHvf8H_VlTjwONomiMV9yZ_zEEbB4vAOp7Hc4fhHs50zc6PUkQEfxY3O-WHMrH0CI98KosXULtg': 'KR_6412673458', '1Ec7S-TjK0JbwDnamq9ZV8CL_2rVJnUEDXOMlCfB_7tR1ARPIN8TZ4KT15UJouIMXIn70HHLaCNd7w': 'KR_6409896490', 'ZcaZoE_wvsbk2ksq0GmBDSEmyREBwzyqUKTkWRzmXB2vJDz6e8JhwNNSlP5K3v2S0mWZxRXuzsqgvg': 'KR_6414678570', '06GxVPTPPwqpCpTumv3yVCRjvWwAHHkhEOYak0ZLa4LqjzviLY4MO55AiPXk-2H85lWMbJpGeCn-JQ': 'KR_6342406573', 'sXYYJLw9c0l85FUysx0VBZBPCA8CUY-EFM_WvDr8pZDtMAXMGMDyVyKV3IpNmkhaav_xq1zKd5htFQ': 'KR_6357153291', 'G90EwAG3Lg2MyMWuw7xsqr6sia_wDs8VwOMHWvFdb9vfQCs1kfhTSyCpt0hpYJaE3Vu7kZIB3-XXSA': 'KR_6404107119', 'QxhEvRD58uUyF7ALj9IYypdSF8OkwEEPQ8dJ44juCoeX6YLOh5_mSttFWuVTznWW2hcVyzDc-XZL2g': 'KR_6402614141', 'B9FSH3hbiL81BvWtbqT3PX7Jywwn6LiJPkN9QZFO3frbX9ALQEiXIJY5cORucUqpMEmg8jSpwHfgzQ': 'KR_6404281772', 'xqog_lWr8H4eeCqLXHruEXLjZH4f5J3huRvJUdRsIJXnzuGIoyyHSMJiGgi56LS7RfhhmgJC2veQiw': 'KR_6414237913', 'TZN-2w_jWal-e06LQBZ8mjoqq5IllE2NFQO4yuD_J1eQzTPXhU_EycPd_ez65VxduXIW1o-gIJDoYQ': 'KR_6411556542', 'khWnEtVMLHAPBw8F349kbGmlMqaXlIqRmp3vXKv1bDcYm_t0lp6aTgmVLt8lvNgLykAI5kS8UfwxfA': 'KR_6385932195', 'jJJFGhJKCFzvP0OP81FpR32UMeV9UfVP2WNt1bJF2XGzZg28VhDPo1un4LGZJLUOxm_482ZsKGwvnA': 'KR_6413468676', 'vY-FLjgDUmoBdykjUyDnD9yHETP1KAXjcxG8z-4FbdWgiasXQiGAnvmXH-nKv_PJmh58_v-JUdkmxA': 'KR_6414601160', 'UStb2kSc1Q25kuaI0ECb-sJfqN-C2yAyTUN1lO8PAfyUOZfe5xKs0sz79KnkVWhh7AxY3IjKpBqbjg': 'KR_6414690162', 'mzUHH9HQXePvHp97C1cxAUiyaP_heQREH9ip5imlHb8yIa8jZTrspJ7lozuh2n7DVQ5K02OlbqRgtg': 'KR_6412973861', 'Cn63ruDd5OFpXEVO3QmYqEBYE4Nn3-5AXIaeBVB7Q6LLdw4V_WaaKAUZmmCmijYmKkgtJV85jYrPRQ': 'KR_6414169497', 'L5qSWbnDKux-D9vRt0ayBE7vX7KUrRO1bQREGN_sKuzzSHCqkXh5YS-gGcfTaquhFGZT1LwLJf2Ohw': 'KR_6414180701', '6H0DfgyWTNBAPsf7e-VXwkZwqwbgQB6lhaUJtH88Ng1zgs1PhueiJr-gMNJDAMNRHoINkSPq2JXUEQ': 'KR_6414191097', 'FY7eTGZ-EylplYqFO8SwyCdBxxE2SI4Tv3AWZHQVrCbbAoxUUSW5vyrpQq-d1BENwgY76LLBa5YY4w': 'KR_6413009578', 'RbJLTJuaXpkzpSYGFxVYS_tOqQDz3fFmK38sN6Yxc3VZaLL2nIfQ-PhSCef6UQT2bFHZ2wSpHzYhAQ': 'KR_6412955413', 'GE6sSk5xU4Qa2ztVfP5ReuklSzv30oUFiBOycQY4IaY9cc5GhRicSwLaS8F7gX4XMZteJSl3eEHx_A': 'KR_6414678913', '3p_C2wETl-Qirqk87H8EQyqptroSjXD_HKtfQfDmSxuX83dK9IAHsaTOJeLb2iIKyTPJBVpb_T8uVA': 'KR_6412803480', 'ybz0BUwivog3Q-jFGsgaonw40oGW3naI8-ax19Yyc6LmpJNWt1PzxxcYVjy4_inIytFERVw4_3VRvA': 'KR_6403356409', '66S8XDk8qtfDli8i8brDU2mWeiMqYqu61GcDAwRlmW3VpJ2yamt3Z8q7ayl6HfGPRR0H36Oo2ZrZEg': 'KR_6330457917', 'vW85DpCl5BA0epC5fhtdsNv_cMBN2y8_0PITyl9ULO6nk6yI1dRWfnj1IqNnG8xRlayypz21PAAgaw': 'KR_6406199286', 'uCXOaukvHnIu4uovbWViguwACCozVaWe8cSTidMhCO69_7ppWcHEncwaq0DRFcPu6YQEz3hJeEsCPQ': 'KR_6413197918', 'onjC7O21EGx0dofIcRuCJbRfBBgo0HvmAIQkCzHGXLqe6aBt3U2hEuLKdjYZNqpr8pDpDZKRywhHQg': 'KR_6413514580', 'xMecnaetlqjdau4cvkMpVjzjtdsAbQwBM2G8_ufB4hrumjVY14aFwnjEuOfqc5SGRhnUQrApTM_9JA': 'KR_6414330145', '_DjLPt8g17tLCxs6iZn3CZQ3ywekb_HlgtNQQKVIvEhIkHyt0VaVVIeghvHll-ljb6di9OvS6UO_mw': 'KR_6393933534', 'Y6PPVMRpLJY42wvSZslBoAYHWYtK8Yi_GoAO5vQZN-WJrfVZbzA6OMH6TXe91F3hLPpbRsXWBerGeg': 'KR_6413617685', '8qapJCJMSHPwhu-Uq9a23DioJxjcDAToqdBdMtWuFfBmsrTmSLah76saoSJecnI9NsiXmavsOllIkQ': 'KR_6411207733', 'MYcvLtKyD6BCSsKqfrrRjZd3z4xjk_5wuIJKft91BxbBxraAfbrsrczDb5NGLOXl0qp3ZlEbj_3jQA': 'KR_6414662198', 'TvrWrULgL2mJ-XBnQ30haTxR9QRNzRHHS5CZMnKnIxi5CeC26iymXuEh31VRdxZ3ccc289h68T60uQ': 'KR_6414598872', '78vR8FROJUlNF6fFQ81_mVjR5UIS_fb4tKnzI7wnVumTIYqkdJweYIoJQGUvR7SgsFsIANV8iAz-HQ': 'KR_6407529963', 'BwavAS33-f5cw8QpGr05NOB7mC62KGDqRQMMdrZl81VD2ANrAoeZt2Zsgs7_kHYkzrSX3g8GQew3gQ': 'KR_6334922659', '5pO5_dyKdNcZrWkivb83CienaRepiydUl5ogPjpue-coq5vf3yivJPQJpO1_14009gvyDQqREYdEYA': 'KR_6414229071', '9SMSyQ5p5a15X0Q1ohZNNtybqDrveKHLb6mmiFv26gcKsX1m5XfJEcepJ3x6RxVUkSyLDyuqL5A7GA': 'KR_6390594788', 'A_DXTNkSc2CcwoBePCbjIAzTApB2kmSE5uAQezx2DUrEiFOV34v3BWi2vb3S8rolIV-NwZrpTNU__g': 'KR_6413777984', 'YXFd9ufo5jaS-CpSaKPgiljvKLVb-3lY3tgn_3miqfsIJYz3hh7E9q0BeShOQ2HMN3u0jpAoDOvC9A': 'KR_6413688762', '9r0Rxzipa7r9RbXXpleUL-Is-GfvF3vOP2V8CEv5H33VG4HnnPNBZ7PD6BGnIj64W4s1bbHBPCN1jw': 'KR_6414145213', 'jcXpkVsjIk9nHpSIsj6urdCFb6E3QG81GPzE0MqD4mBEQx33woteeQ_IHSnHtLf7UVkFWKhIav9UVQ': 'KR_6388127605', '5S40E2fgxDEa7FKCuwO6KR6vi2oWU6006CVkz3tBX5yJmKnAsAGHBaOkIhpgPYxvH7cVoEPb28S_qw': 'KR_6328618574', 'eQK30GF4iPm0w_-p_CabON2T7-Rk46wvWyAMJQ_8SiWzfomt2Fj9PQaJaoSCqMMc2K62QeIj95Xu7A': 'KR_6414246478', 'MAIBHIpJH1KKJwjx-QcjFR5jaTQgWzcb_MM-BDHA-MgkQX8S3kjbd2hTrDj791_uKg_GCSFqXsN74w': 'KR_6358481353', 'rTqDXkuMJAd5TWLcsPLVt4r1P6j_l9LWFCbcfc-rnktzGIG3v7XqE0BC84Oc1wQRWqQmcrlbgcwuoA': 'KR_6405661934', 'MqSDzIKFOxDQ20yOpqK9nKA6OviKy7FHyMCd53ECt4p182mUyEIjZUVHpIUlHay0jaDkfDdsFn1Q4Q': 'KR_6350838270', '-D3u-xcIv4VaKAwWzMZXAxGEvhnJHqlUL9AuJCJv_vKQK-_papCn0In8NFskZJQGXb_eaWtHraPmzQ': 'KR_6414675989', 'afWdJT1utNhsq77tMKxu4xtlrlluEIVBuhscHh-oPxbov70VfSf13qB9M3lT13AqUJZkwaWdMJZ0Mw': 'KR_6414663385', 'NLRbiRh_YMgdvvlxW9m36JdD8biEie-MNsV7m9uLrMfeeVQC532aVcezPU45qlcrtBK_0Qpeqdnuyg': 'KR_6414278543', 'TYC00UdHUIHJWC7zR0vM-4zyGo1ugAiHH-1R0p33THWFvm-Jbi4RTC1m_zYY4dlZSRza-tK_iE9Z9Q': 'KR_6414532442', 'eOx1IAlre_W5L7P4w7r7wXRT5JxfBh16MEcrPh7CsZOxfm6ITbLfSGiTIaDdn71o2KMXFIlshiQhVQ': 'KR_6365309615', 'IDHN0RlQvBxSwLo5GVH1xxzI2Ziy0YWt88S30gwywkOK76HsU5-lZCldKresV-FsULzLcw593Jymww': 'KR_6413597235', 'jhyVTn0XesrikO4x61MTSOfQd4Doz_Nmxls7LSYdCSRWovir3tK3J78D-pjoNf4tUt-8XeNa5FiCMw': 'KR_6410986720', 'VgqfNHoKQbnwCUASfdeSnFAreaIr27J0_TBHrCoKs0qEARoNZPAERAhnD9El2IY29hVozgGGpxBo_w': 'KR_6412752293', 'EqtwqwO7khXa4cHq2je2up6b8cbixW3g1MzACmgWySv6btecWBFQKKKep652Dqyr6oGa2UygqldF_g': 'KR_6414706592', 'V1idUmA7le-sWZLR_12yYM2dNBuYFipV8WRg0JzIwhk1H50A6q74gcJEvK1qcDfSisUOvA26_tgE1A': 'KR_6414648429', '9fiPb472BWQmH2c_9FpIPatcS920rYnw7I7YiR55rHV1LZjPi3mJw9zaXwifmcBJ1XKGCDonWq5RQg': 'KR_6414286747', 'ogHXJ2jA8EY18tswbKKH5zTzech9CIBIfwoW4e45tA5YFEhrq9HATD4AdVZmlC2AD_hy_794Zp64SA': 'KR_6400305916', '24oOQF89rPGxFCMH-pRAHaSnT0SOMxSv0pUfV7E--UqXniHZSnrF71C8ZRPWmCoeT2i0YNdIYZdAOA': 'KR_6411593939', 'Q-ZJ9FTNUM75XQjd1fxTTY-nn_QtbHAf4xv6i9OQoIp-1LhYljWXw3kjYeRC8Qn7n_oEengx8t32Ww': 'KR_6406444641', '203tuNh6KZnvS2XtNHMdX78ULrGgMP7QHpSR_egf4zJy_E2j_h7vNzBBS6s_ccGuCZavy9wicJ3Hrg': 'KR_6408392050', 'cu3cnCVSgjhd7uzlqrvJ421-jTLzijg_Dk1k0I4QW3Apqka7YC1UrnpBGv7wUXp7QarBhM2hVprYtQ': 'KR_6414305091', 'kRHBPkDg3z1w0DavARydizRZeOit7fJebQxCTXrA03xC4TeFRmxUMo0mmqBBeIJzwFAysTlgHMVQ_w': 'KR_6370387380', 'ACwFg_pQdaVHUlNmL-r8sygA1cXCAuq6uK-ET1wDKY1ivfBPb22o5r0qmugTR-18bX9tFq3RRX75Ng': 'KR_6413939542', '1_SIirb1tjeac4FBTkZSzdKDviSSTzL-i_C7CgC311aoU270UIZX5t5uW-6amkoylgF947N7OuK-mQ': 'KR_6393387652', 'cZ1mwVo2u1D0DZdq2IcIyBWfDjkES6NRYKmsnvfxvxFr9wbjjLAfj6TEDpG4sT-dTVpr-B5JcWtJyg': 'KR_6405465569', 'IaWjNmmrWA21svzV3YQl9tVmeCLB_CQ8tnUK25ImvK-knxrx3bSIMC5O_H3xxlOxHqeisSKee0DKow': 'KR_6413716223', 'MYVx1eZ4vRIc-k61F8sszuyJaAmn85Umho2A92PyU9Zd2gB8lQG_nuNKRFVaDj55z8N6qGApBn5PWQ': 'KR_6413692260', '6UCf-g_Mhp6AzIyhsAwuIb7usyD2uAe_9cLmVnl7n7CBYnAWdjHxxrYHSiexTolHk0k0QHkCHAIFIw': 'KR_6414606879', 'Wf-qVv6py9OpQs2T6nx-XVakarLDGK0SnEo-FXAIQhLYfuzuW1WkvUkZqWXPMWnHcLV5AeCvbZQm8Q': 'KR_6414244420', 'wN0u5NdSXn5hzV7CzAMzc7Nq1bUQQSJYmmiQfb4JWC93Pj4PM9L_HyRzXxN-9HS3Qbw91i7BtAte7A': 'KR_6400045441', 'A1_bVOnAqDD2gBVSZ7pGTLZpCzwmC5kNWSkNYR8kUWqouKNbZT05JmR6lynBZblIlx6GfVm59j1cqw': 'KR_6411235767', '-omeeLCMgQo-1o4SyjTLh3BuBPiVfdbMipdYTA8cKX4c7y5Tr4xCgTFTITl4Xtf6_4bkpNfbsXhN3Q': 'KR_6344934892', 'cF0fu8_BWEIFO1O4rnkj-XT40_uvUqST6Rcu6suTAPCXEMRkAeGD_7USvEcroIe7i48xEMz8St2OkA': 'KR_6412561691', 'ob_HU198f1fUliX0UVKvXl2DdEuxr2lhOFLOezJbtoPXbdYrGgwCTKnvTxp_avqAmSNLor3enSpq3w': 'KR_6412188612', 'Mz2-XiUj9ujmSPyUbTI1x6hQkO27Cl383mJdWy72SEr8aEpYhUEyoVDkd-8m9p5VKDmMls7FDXClfg': 'KR_6414666953', 'PYuR3lMKg0C6wfP_opuxC0GwPYOyBZa_VFU0hoDA_Y80EL2-dsR3_X4O5mhlNCXX4tNklmo5rsXGpw': 'KR_6405830873', 'fJ6E6yPQw10nTY7227SCn3AAy78rOWKISXbLF_YBZhB6N5OUqjiDQjDxSJVZx85opN19oYRAgI5CZw': 'KR_6404400623', 'noSjFefW4CXmmxXNlYEhLgpC5c1mL7ctF0wgWi7GyTrcSQOE3ydcH81LIs3hnQYdAKS4NZ7iEhcMvg': 'KR_6412341530', 'EsgKOARpI7u1ViswDHPLOT4s43TzoxpBR1rA58osu213lsk_wtiJQPz02vKp9zqkWvNA3rYVF0YGYQ': 'KR_6307587705', 'l3dAL7afwd_cDF_olEoBUmYGK1C3i1Oz9fq9QO3HKb62euODCgIIBolZ4YAWyX6A6HClJLfvrazCmA': 'KR_6413115960', 'ObJ6izi7uhslcUEL9Gx3kTNZGNyZvRlyU7EJeYNWeYFvUf3kMNMQDYtjWdGMOUliLQLGRsQC7l8wbQ': 'KR_6403910964', 'c-nBDMmP-vyipO_BKqX7oI8WaJIRO5MbcQUwxM7AeJnFQgsRATnDOrM3LDqqQPW-ZW5d_5JtEl1Xdw': 'KR_6411382821', 'Ho6cmfKZQvafgmjP0wkNac4f2zo2y0h59NnTfLT0M3CXbywA54udJcbYcoY5xGLNPNOccowvt09ADg': 'KR_6413299637', 'WMQ9TnnCl6Wc_M-mtvjmZ5N1jt1-2Q5IizH-jI4PCyndzgMhuQ3lUoykjfd5bv8v3qw0UgRV5FuMfQ': 'KR_6392977831', 'SJ9RoAJYyra-ROAB2aKsENI--OgPWJu_bFp40TnXaaC3Ow_txaDAIFmuJ5Q1XvAT8mkoF4b1ujjpLA': 'KR_6350181662', 'k65ciH08vR02l1h-5p-SY00OAhT33Z-dzA_sfA0p18qyTGfUUMxwUm1tIGoAkFIV057pXsasEbeHBQ': 'KR_6401221399', '_sSfKTdZ2woXZkfS11YYy3vsPCXmqyaBfBWao6oslYW6EfhPVD-LlHAyUXa_ihekotAMzKC3t96i3Q': 'KR_6410248290', 'Ee9Bo9NQ3cof37DcNUnSkdEo6WDCH8p223wgrcFC1G7KINVVXKwefIIywEfpdaV_vC1a7OLRhGKtbg': 'KR_6412098573', 'j41OK14hwiyYLiagx2LpiOuf-vtRGJplz7heUwurVYkHRnT8tYI29ysNMNTlBGdi7IYD5B9BS11vLA': 'KR_6414084267', 'r0qzusoEgv6ZNS52PtGvImutOBqOUkTR-gEp4ZZNGqtHycXonEQJtwHfZcd3EY0NN8uOCI5jXw_xzg': 'KR_6378918685', '09suuWqOnhMEopZii8LMF9An7Rh8P6rt58k5ulpxKlw5zL35nP7HpNi1_vW1SnlRMlXjubb3xJlYZg': 'KR_6386684535', 'Clyr4Gjbiqm62WHQ6q_6oTW89pw1z6RuCU70Cev_4LKXxxaKNMC5Uyy3RnGF0DSiULFYE4QnEAYfqg': 'KR_6412949135', 'SC99y89_69dFEibiQVBQQ4xl0H_GCisFkGF47n9w6wZcFO-0o1_Spgd4WIt7lpLDyr3cY9iw0FHj7w': 'KR_6403125836', 'NNeBOCBr2uPV3T0xT1ZE5OVRg1qlq6w98GhicttM3V58rHvPmXbgps67xmyyIXCQkUy5IzhGgSgchw': 'KR_6413236662', 'YaMe9j_nMbK_rlPctmTbByNHZnJD2IVJqtotexjfDcnWXLhZv9Rn3Xky86CH_AC04EiOjLENv1De1Q': 'KR_6412247419', '4DamyZVrIkio7UP-dDGR1nE6JIr6NGWPYJGPyNureLQ7rSfJmfZVgbYKqRuBiZ82_AqGuJtgHlB9Xw': 'KR_6410170112', 'NVc8Y3bTWiXStyZ8L2yZgOHPPOf2FaG8aqzwxSx6RMEomYKsNxUtG3o1LAYkJ1lx3n4Yw3O766lseA': 'KR_6414670409', 'S89pGk9-k-J2XTmqNl6bcKMZlceRqP_xyT0iSVsgDZ_vI3pxC563zqBcdUl9wsvGyGtAoYmZoYrWMA': 'KR_6381552234', 'l4lctjllgiZd71WsMZonPGxWvwMubmAn_vlMhjJeRkOG8Xk6HNvJSGJz6h0jGTOLEKmhaetuzwXbpQ': 'KR_6353087658', 'nH4F72wwXMMpAU-SM1YelMDZLqAgzxTrWiSEQvXT6vBd4ctmmDQ_xJdXJ2LKTSSeY93Sd1a-MeXUug': 'KR_6351925163', 'Yaj1AgmTvBpSXfyMuY376WGptXtf6YyXJ4PVRyn_ufh0p6kP4Qx5eVH2DWRwR4DgK98Hrdf5diT2MQ': 'KR_6387341214', 'JNziCOOwIRJmpqCAfJ5Y6GNaY1-9Pb9O3I5WK49623FUG8fhDu4NOX-GhkhpOMBdLYdkWUR35BXjkg': 'KR_6414128599', 'D749P7oHdEIjTkRKZZr_31mpJ1VldkTb3phAxQjwJVx8xd5kL29d3Ry0PLrobYQF5rknH6wJEPYIxA': 'KR_6408779667', 'gSwxnyF-daxhP5xdNrgGxxgN4_Ltq1gq2UobhNTzD1_zyKD72CQRTYnndSTCnelZ0L7ZDQfqR_dbkA': 'KR_6414072019', 'gtSY0c1_DfoK5SXa0njN3pUQx5hXFkvGHKPKGh-jeh6q5KTbNJ8rEkHJljkZjf1e6lHElHNjh-BudA': 'KR_6414111889', 'BH63e3vvid5V9122tY-uO7ZE_WmCb2PQ4FzmIfIGj-nAYrtlXwpJ54ef3AV-m69ImQeppqdvOYS_eA': 'KR_6413715254', 'd7Dm5KgtOeMAcIqCQJIEdhtJt00_qkynuh5JAIRayL5g19EIoMrWLlHsUEYLteffbL2P_74foxCxWg': 'KR_6394656631', 'psqHLr9ux4C-8RGTjI2Efxz2gNMFKWTTCb6I-1TU94MlB0LlCste4U5ylFCEctaPhVzNW4X5PWPxiQ': 'KR_6410610098', '5feS4He-TzyJlZN6XkxpqRfy0N284pDQXPyR6iCzeqwMYO4e9-MJuoI1GnwbYpXFp7SR0SJKgRB_hg': 'KR_6414675425', 'hs6e99OOoF9hR10jj4uBYaiRGlwRmPLgbLoUuY9_RAlSbrP52e3L_QDedFkECX5lc427FzRj0nnjyw': 'KR_6408597739', 'x9BdYqsZfu7cDNUKSIsF1xuk0iMBOs9FIQOzGviejb0ooK2gwTuBIU2Vca29wyKH7VpALusHACXikw': 'KR_6414386823', 'Tbs7nsCumu6E8q3P_-fLfpIU1XhBtwhxDrGMuiPznb89aDyTzwH0dCwY4RilR_hNaiapSM3abEpPVg': 'KR_6413087761', 'QILNOTgbdQmTG5ykwiiA4EOrgox-vCm7el2G8QhJbGm7UX9-HfPFacY_j82Hdqdu5nS5eNPe2FLNdw': 'KR_6392542850', 'TQTedw7ePN2uTfUKpLZ5Yp6Io_2sit3hRlnvHjxgcYyrKJwdd3ZzVhSelligvOjQ1AU3ujdTHSYWsg': 'KR_6412863491', 'it5DGUBKBFXY-yuq_dASsme6oDGPosIIsE-RT2_AyjS2ZtuhftQ4Ko7gcOGe6HGIzkWNHN2gjoxeqw': 'KR_6411767643', 'MFhqzz7P4YyRhpHjL6G5_aS2xhj49ujm0Pxt3dQ8FUQsEE_PTU06pERlpErTo-jYOZE8T3WLdsfnGw': 'KR_6414497191', 'RPY_Pgq1kx6SRcxzpe4Z7-plN7y3UIntdtfGJfQbexPnfvt88pON2Iz8lkr83wRzun6F3EeX4JSu5A': 'KR_6404564631', 'Dw5hXJRcWvxPo3WvH694YWnmD3gZp8vS-_ya4ydJbriP0cHiuIp5ne_CcKOYqLRe01ASfPI6gl15KA': 'KR_6412731819', 'm_JyBFkfZBX-hHAHKa3meRki0p0f4nfxvZmzMokIJxakwCUmF-k1oy9ReRMCtfV-IY5o0NdfZriBKA': 'KR_6411292716', 'rCiJUq6gcz4PuI2GOH4_tyHbqnMOjRS2ZXKC1uRGEJvhtFf4-kEe2na_XPV5YdmXYtJCixF1JtBl6g': 'KR_6393194220', 'DOzOhlNtruOepPXHKmPcHhkWkylYsYSFHjSZay8ZhOn7KDrPwVsBF1KKM04pKY-6M12rMBoLl_PNYQ': 'KR_6414019418', 'q3vLpqn7bd393P1yMl_X2kY8_TjoEv7IF08aeVm1BuOdnSPiuFZqwTOqRhr9BltzG4VlPvI9mH0nSA': 'KR_6412926763', 'Bjb8xqKiTBfPi3JsuO3AHsdS3qgFV6zUOtEwp2OHHKXC29kMg48s97jNVd8e-8VQlcU79Nj-Qw4JsA': 'KR_6399872118', 'WjeyISt4hjl5YpJblMh3cEYOcRE7hkImf8opLp8culOMWg8Ecwps5N70DtLE7iISdjpg2ffV8yZ1DA': 'KR_6401118083', 'Puklb_ZlQy59ahizR68Ogvnc8A0twdGI0HPNkcQ6JxQwth-4fNPe7pik7uQ9rJTGomKviVY-iXQx3A': 'KR_6404256920', 'yooz0DNy9L3_Q-qcBGSoE9vWpS4vjwTx-da1s1DO_-5IHdxole_voCQeinzlUKfrKtPRSc186g-Q4A': 'KR_6384104090', '0HnSy-4TlzTnih4oVe2RhN_RdcqvheRZ15upBRZEp0O9RO3SRwThIv0C3uaX98MzoIOay6Grggogqg': 'KR_6412745781', '6Rpn8CQoyFf2h_YeuANom5cymKRL4x18x6OXLtxkRlZLyZ6kgfX96QNDSvvccKAFe5tOd5GQ0CEzOA': 'KR_6392455021', 'LcMnYbYmuImTXgEtOwPkZilQanXQnBusaR1Gxum5Or6wixl7LnQfqOfSYuVo8t08t7iZ0kuUgjgXQw': 'KR_6410944888', 'eKIgcCb6uCZGlxRfJ3wLn5xvkUibBeXU0yP_uq-ieZQOiLLiqBxNWEkpF_hzk2lidYdatowqApr5eQ': 'KR_6407186913', '1My09GIs96YxFSwjBRkenmDbnPR9CI1P-EKV7MpPi1hv_UBAZggZy7WCK5jrvanD-d5FJuQ8unFHJg': 'KR_6408239878', 'Zn5fgaEll2fuxUhRpJJmeEWNanhW8wU4sP8syZr77X5HsO8XGpHislqxMcGk-2CeDDTOec0vAG8NIQ': 'KR_6349565390', 'AfQUulDVJ1kzeiDRQFf82iAZShWsn5gwTlDNCLlooBsKwuYcWv_c30e2YG61BIzgufbNrAquhCoDAA': 'KR_6414546872', 'DLUOVKSptt2nglR6KthaJxER8_mh6yscT4HYH9eL5WYBTB4RYzoA78YPZ8HrDm6Pf82yrwEWW_b0gg': 'KR_6412543525', 'z681-WywGM5MnZSoKqyXvASsUq2rLLV0DThB5q0T2hvmkfjesjpzqgxEPgiF8A6XacMBBRDvVPnKNw': 'KR_6414640678', 'X-jj6-zFr8gzBZ9C8KWRs6qcQBCdOTFTkZChKbJ1_kHlfB4hEqic2u6UOahIRTTlyY37QrNGO09MiA': 'KR_6402186194', '-sqokPlQPjwtG3KSjEuTHaSBFQugk8VoBM6ZmIGJur4iScwzhNRZaxqeTp7uIw59K26jdypa5my06Q': 'KR_6414141120', 'xT_Kxdf8BDsj2aiT9XUcj8rcqIVEE2mHvdiELVCnMxVN5su7K_St56VNMxZ-pUIyeL0eLA_o9uiWXw': 'KR_6414462274', 'gMEY0fWLPAsWNXxCEyzfoSkYD-d2W3hoOKL1gx162UR961jjebqFXJX-WS18dRP3J_m9rQe5R5JfIg': 'KR_6409309780', 'UgqVOvhB7VcP-NjrSq1yu_boPWLT9jLf-wgkFvsxgNQngGNu-cDbqjFj9D8OMf5iiCH92XyE1QEq7w': 'KR_6413997957', '6RKmWbsdG9P9cxlpkbs6Q_tEoMKpzQ04qfVeQuFKZEwbzA7k96JPgTSID4-CQ1yFtbufDsid51bsbg': 'KR_6412102293', 'ptBVXh_nkyyrASLrBFRQ0OWp8xr4syLYMG7gO2BPnNKTxt4vJKC7-WyiLaPOKvPu2IQjZKOVaKAxlA': 'KR_6414469452', 'kX-_urWA4EqoBvP4BUOdYDCM0cYUbiUMFpYO1GH37O6kGSjCciS-a-wZn8gNJEVwQdzVcyZRc6CIoQ': 'KR_6404537983', 'oSL_cuDab5M0EjZl7u_MXjaLgyLlii40kFHCq_45ZCtzNy2unv7s507ceL88_VpIb5aP2ii1EGTcLg': 'KR_6414452699', 'ySmd08U-L4VY8VjN9mM2bm-iJSXDe_V2hnxXg2fsfQ7Q4OGoYWdzQTKjqUW7L7gvd50HH3pFENpTwg': 'KR_6414442160', 'X8fuQmePg7Cr0J0xqDzd41N-xNA7o76P7gp_XwvZsYMZW0UFHH2NlmB_IM5LtQqyJwRmFqYJYoN-NA': 'KR_6411003627', 'PTIiICJXOXeRXtzB-uAXlkIznplTiveMGLN12HwJyEteJK-N2I_tH7ImDFNmKgMQq7Y0z-KhNOBrOA': 'KR_6414346817', '3biLZCX63zpPYfYQ1Y-vhOpsiwjkei9SIaKodvKP4HA049l9hwUG1ys1QnKoXHmVGN-xlOqDXQApkA': 'KR_6393706255', '6s0zFHNhILtGbiPmCs1RkREb-mxxybtYZ25Po30s-IFMTTjxLTHTAgKT1B1rYJ7aGThWbbdM61GrkA': 'KR_6413977975', 'hBbW2fvhF9QDaYFQyxUt14fcishUGA2pvFurRLifKNTQJEuiA4rIr8AGKSwdxhvMSUQAsuzJuCGM3w': 'KR_6414116631', 'NEH2GtTleD4_or5xRJ6faulNR8Z3G7h9s4WnMxBRARU6tGQKUFpke2MUOQoqGXNPvMEBGA9TWffOtA': 'KR_6350058700', 'c15CHzqKRS1fQB0xGFWaqdWdY2zlr82rBqMFNAEtuoWQgpQ2XilflKqkiE0U_X2W8MJcqgKqjrvNvA': 'KR_6410640928', 'ExSXEe2fsQ3UI2q7_h5VyMrtdR5FggsIVkOfsHqucOPu2UzJ86yFvlAJIg4BJPHXBrszx7kHvPMyQg': 'KR_6414612357', 'D3o5CQoeJIs0r7hggi31_Z7w2U9hGcwSbuPFROsw_MTN4YxufkwOaFXAzATPqzPN-kAxeyCk7FZwmQ': 'KR_6406852053', 'SykPqWlGpXhr1k0camfovSZTG98k1HIkRJbact-_SAXB2YLv3HUBfR4EKQZhl9bkqve9rCgftdotEQ': 'KR_6392576800', 'FONfYMhsNwF4amxeipuIkqblTsyxJUzdvmFJ3m3UbT5Rav5YCeWBRAFkSwzHzjuSK8UyRGBQc1TXeQ': 'KR_6411056883', 'RPrfFxjrHpl803k17QgUUUoNl0FXfbSuAwmotFaV4pZ0BsCQSd1VeAuegRT6aSsnqEvUZi1xSuWMkg': 'KR_6371809753', '2lo6gBOIAXICIC7K_s8S7Oiqj4RtPX9FxOQcjkb3j0HTdEr9kibPAwXfUgL_28669GXDjIa2MIxUwg': 'KR_6404315710', 'jh9vlP7isCEJNrqFHbCMBKe_ZSx8xCeJLHbvtxuZ-j7OX7qc5tSlJqZnRm77YoyQJ6KvLvvaVji32Q': 'KR_6408650705', '_FxBMdhC_cD5BwM9ZCHJzEeXIMAS8BNmz4zFPQofyDmDyrX_AfEJ9KxbiZqH7DcNMgDwL6NwzCCwvw': 'KR_6392612176', 'ZNZDUgT-71JLZc3ziCB-q7ztWhY77NBdb6H_uUK2ePKv2Kj0RNuzcrk1t7MQJq3udgXJrqi8HNv8tw': 'KR_6387453830', 'hoc0jaWCi4fqb-pxj3tW4OXKYXoikveLIQmr5f03vy-iyn47H_aNkVZvhOSfQYab69l4MyfFvQwXiw': 'KR_6413224707', 'rwr_iVUsMifeKDsfWbf4J1-Ojd7HlhNvZuJ0IM_gd_ZXBQ7MjhaQicgHFaHtMnb6RVWM4LBjmzJPnw': 'KR_6413810589', 'KRCmm5weYplUGrrDoWyfoRzdL0Q0heCCHRYK5J3WgrKTQNbd-70FccMZa_f_x_n3wCCXDkRsptPUzw': 'KR_6409395474', 'xiYe0b3RV0Sc4KmJoPF99tsYidUMbGghHkEZ9biKSvBL0_tiHdF92W16Qp9HJ_XyOlBS_yStqqDElg': 'KR_6401800802'}\n"
          ]
        }
      ]
    },
    {
      "cell_type": "code",
      "source": [
        "# create a DataFrame with puuid as index and match_id as column\n",
        "match_id_df = pd.DataFrame({\"match_id\": match_id_dict})\n",
        "match_id_df.index.name = \"puuid\""
      ],
      "metadata": {
        "id": "-KcfA5eqA4d9"
      },
      "execution_count": 32,
      "outputs": []
    },
    {
      "cell_type": "code",
      "source": [
        "print(match_id_df)  #추출 완료"
      ],
      "metadata": {
        "colab": {
          "base_uri": "https://localhost:8080/"
        },
        "id": "46KiNx7gBuIW",
        "outputId": "c67f089c-4703-4f5e-c309-1f421a42925c"
      },
      "execution_count": 33,
      "outputs": [
        {
          "output_type": "stream",
          "name": "stdout",
          "text": [
            "                                                         match_id\n",
            "puuid                                                            \n",
            "-D3u-xcIv4VaKAwWzMZXAxGEvhnJHqlUL9AuJCJv_vKQK-_...  KR_6414675989\n",
            "-_X_4zdqcB_7fwOOU7tcfduWZX0Q7EZ5qttXtOhZlkXIzfb...  KR_6413205595\n",
            "-omeeLCMgQo-1o4SyjTLh3BuBPiVfdbMipdYTA8cKX4c7y5...  KR_6344934892\n",
            "-sqokPlQPjwtG3KSjEuTHaSBFQugk8VoBM6ZmIGJur4iScw...  KR_6414141120\n",
            "06GxVPTPPwqpCpTumv3yVCRjvWwAHHkhEOYak0ZLa4Lqjzv...  KR_6342406573\n",
            "...                                                           ...\n",
            "ySmd08U-L4VY8VjN9mM2bm-iJSXDe_V2hnxXg2fsfQ7Q4OG...  KR_6414442160\n",
            "ybz0BUwivog3Q-jFGsgaonw40oGW3naI8-ax19Yyc6LmpJN...  KR_6403356409\n",
            "yooz0DNy9L3_Q-qcBGSoE9vWpS4vjwTx-da1s1DO_-5IHdx...  KR_6384104090\n",
            "z681-WywGM5MnZSoKqyXvASsUq2rLLV0DThB5q0T2hvmkfj...  KR_6414640678\n",
            "ziTPMDvFa0Bf3KvFNuU3KP_xJQ39vmPUcQExkEpqzQPkuUo...  KR_6349519426\n",
            "\n",
            "[205 rows x 1 columns]\n"
          ]
        }
      ]
    },
    {
      "cell_type": "markdown",
      "source": [
        "# 각 매치 id별로 매치 meta data 불러오기 "
      ],
      "metadata": {
        "id": "X_tUZWztCe24"
      }
    },
    {
      "cell_type": "markdown",
      "source": [
        "### "
      ],
      "metadata": {
        "id": "kwnMoKuyCmq6"
      }
    },
    {
      "cell_type": "code",
      "source": [],
      "metadata": {
        "id": "qVyF_wz5Cpnp"
      },
      "execution_count": null,
      "outputs": []
    }
  ],
  "metadata": {
    "colab": {
      "provenance": [],
      "authorship_tag": "ABX9TyOXd2bGnH7tWaTFYURsy2Bt",
      "include_colab_link": true
    },
    "kernelspec": {
      "display_name": "Python 3",
      "name": "python3"
    },
    "language_info": {
      "name": "python"
    }
  },
  "nbformat": 4,
  "nbformat_minor": 0
}